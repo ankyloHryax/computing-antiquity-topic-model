{
 "cells": [
  {
   "cell_type": "code",
   "execution_count": 1,
   "id": "fd007e7b-fd45-4693-9943-636ee440a747",
   "metadata": {
    "execution": {
     "iopub.execute_input": "2022-06-22T06:26:47.578736Z",
     "iopub.status.busy": "2022-06-22T06:26:47.577990Z",
     "iopub.status.idle": "2022-06-22T06:26:47.587019Z",
     "shell.execute_reply": "2022-06-22T06:26:47.585458Z",
     "shell.execute_reply.started": "2022-06-22T06:26:47.578674Z"
    },
    "tags": []
   },
   "outputs": [],
   "source": [
    "from classlang_utils import greek as grc"
   ]
  },
  {
   "cell_type": "code",
   "execution_count": 2,
   "id": "38075219-4cc3-4a93-83d2-a693361b1d1b",
   "metadata": {},
   "outputs": [],
   "source": [
    "from lxml import etree as et\n",
    "mark_path = \"/work/data_wrangling/dat/greek/raw_data/SEPA/NA28/041MRK.usx\""
   ]
  },
  {
   "cell_type": "code",
   "execution_count": 3,
   "id": "457381d2",
   "metadata": {},
   "outputs": [],
   "source": [
    "tree = et.parse(mark_path)"
   ]
  },
  {
   "cell_type": "code",
   "execution_count": 4,
   "id": "7e296983",
   "metadata": {},
   "outputs": [],
   "source": [
    "elements = list(tree.iter())"
   ]
  },
  {
   "cell_type": "code",
   "execution_count": 5,
   "id": "7ca504b9",
   "metadata": {},
   "outputs": [
    {
     "data": {
      "text/plain": [
       "962"
      ]
     },
     "execution_count": 5,
     "metadata": {},
     "output_type": "execute_result"
    }
   ],
   "source": [
    "len(elements)"
   ]
  },
  {
   "cell_type": "code",
   "execution_count": 6,
   "id": "1c0d789c",
   "metadata": {},
   "outputs": [],
   "source": [
    "i = 0\n",
    "chapters = []\n",
    "while i < len(elements):\n",
    "    chapter = []\n",
    "    while (i < len(elements)) and (elements[i].tag != \"chapter\"):\n",
    "        chapter.append(elements[i])\n",
    "        i+=1\n",
    "    i+=1\n",
    "    chapters.append(chapter)"
   ]
  },
  {
   "cell_type": "code",
   "execution_count": 7,
   "id": "20eacec5",
   "metadata": {},
   "outputs": [],
   "source": [
    "chapter_texts = []\n",
    "for chapter in chapters:\n",
    "    text = \"\"\n",
    "    for element in chapter:\n",
    "        if element.tag == \"para\":\n",
    "            text += ''.join(element.itertext()).strip()\n",
    "        # for child in element.getchildren():\n",
    "        #      if child.text:\n",
    "        #         text += child.text.strip()\n",
    "    chapter_texts.append(text)"
   ]
  },
  {
   "cell_type": "code",
   "execution_count": 8,
   "id": "cb1255d4",
   "metadata": {},
   "outputs": [
    {
     "data": {
      "text/plain": [
       "[4, 73, 33, 43, 56, 49, 68, 53, 52, 61, 68, 53, 79, 60, 96, 66, 32]"
      ]
     },
     "execution_count": 8,
     "metadata": {},
     "output_type": "execute_result"
    }
   ],
   "source": [
    "[len(chapter) for chapter in chapters]"
   ]
  },
  {
   "cell_type": "code",
   "execution_count": 9,
   "id": "5f5c8289",
   "metadata": {},
   "outputs": [
    {
     "data": {
      "text/plain": [
       "17"
      ]
     },
     "execution_count": 9,
     "metadata": {},
     "output_type": "execute_result"
    }
   ],
   "source": [
    "len(chapters)"
   ]
  },
  {
   "cell_type": "code",
   "execution_count": 10,
   "id": "1aa300a4",
   "metadata": {},
   "outputs": [],
   "source": [
    "chapter_texts = chapter_texts[1:]\n",
    "clean_texts = [grc.clean(text, remove_stops=False) for text in chapter_texts]"
   ]
  },
  {
   "cell_type": "code",
   "execution_count": 11,
   "id": "ec6f90cb",
   "metadata": {},
   "outputs": [],
   "source": [
    "n_chapter_words = [len(text.split()) for text in clean_texts]"
   ]
  },
  {
   "cell_type": "code",
   "execution_count": 17,
   "id": "430a1a86",
   "metadata": {},
   "outputs": [
    {
     "data": {
      "text/plain": [
       "'[706, 542, 547, 683, 698, 981, 604, 630, 860, 884, 561, 792, 605, 1197, 668, 341]'"
      ]
     },
     "execution_count": 17,
     "metadata": {},
     "output_type": "execute_result"
    }
   ],
   "source": [
    "n_chapter_words"
   ]
  },
  {
   "cell_type": "code",
   "execution_count": 15,
   "id": "f2ae85e4",
   "metadata": {},
   "outputs": [
    {
     "data": {
      "text/plain": [
       "11299"
      ]
     },
     "execution_count": 15,
     "metadata": {},
     "output_type": "execute_result"
    }
   ],
   "source": [
    "sum(n_chapter_words)"
   ]
  },
  {
   "cell_type": "code",
   "execution_count": 13,
   "id": "b03769a4",
   "metadata": {},
   "outputs": [],
   "source": [
    "n_chapter_sentences = [len(grc.sentencize(text, remove_stops=False)) for text in chapter_texts]"
   ]
  },
  {
   "cell_type": "code",
   "execution_count": 14,
   "id": "5b800f70",
   "metadata": {},
   "outputs": [
    {
     "data": {
      "text/plain": [
       "[39, 28, 29, 39, 39, 53, 26, 45, 49, 51, 36, 46, 29, 73, 45, 20]"
      ]
     },
     "execution_count": 14,
     "metadata": {},
     "output_type": "execute_result"
    }
   ],
   "source": [
    "n_chapter_sentences"
   ]
  },
  {
   "cell_type": "code",
   "execution_count": null,
   "id": "fb46a9e1",
   "metadata": {},
   "outputs": [],
   "source": []
  }
 ],
 "metadata": {
  "kernelspec": {
   "display_name": "Python 3 ",
   "language": "python",
   "name": "python3"
  },
  "language_info": {
   "codemirror_mode": {
    "name": "ipython",
    "version": 3
   },
   "file_extension": ".py",
   "mimetype": "text/x-python",
   "name": "python",
   "nbconvert_exporter": "python",
   "pygments_lexer": "ipython3",
   "version": "3.9.2"
  }
 },
 "nbformat": 4,
 "nbformat_minor": 5
}
