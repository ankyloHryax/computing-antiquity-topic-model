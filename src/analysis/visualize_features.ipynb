{
 "cells": [
  {
   "cell_type": "code",
   "execution_count": 1,
   "id": "0dd37a66-dd9b-4fe6-bf92-7a18bc820910",
   "metadata": {
    "execution": {
     "iopub.execute_input": "2022-07-05T13:33:54.561849Z",
     "iopub.status.busy": "2022-07-05T13:33:54.560722Z",
     "iopub.status.idle": "2022-07-05T13:33:54.699060Z",
     "shell.execute_reply": "2022-07-05T13:33:54.698301Z",
     "shell.execute_reply.started": "2022-07-05T13:33:54.561668Z"
    }
   },
   "outputs": [],
   "source": [
    "%load_ext autoreload\n",
    "%autoreload 2\n",
    "import utils.embeddings as em\n",
    "from utils.metadata import fetch_metadata"
   ]
  },
  {
   "cell_type": "code",
   "execution_count": 3,
   "id": "2cafa5b8-2d1a-49ee-81a3-1bc946480ab4",
   "metadata": {
    "execution": {
     "iopub.execute_input": "2022-07-05T13:34:10.708747Z",
     "iopub.status.busy": "2022-07-05T13:34:10.707924Z",
     "iopub.status.idle": "2022-07-05T13:34:10.739895Z",
     "shell.execute_reply": "2022-07-05T13:34:10.739156Z",
     "shell.execute_reply.started": "2022-07-05T13:34:10.708671Z"
    },
    "tags": []
   },
   "outputs": [],
   "source": [
    "import pandas as pd\n",
    "import numpy as np\n",
    "import plotly.express as px"
   ]
  },
  {
   "cell_type": "code",
   "execution_count": 4,
   "id": "09852605-818a-4c5c-bac2-ad100e6fc8fe",
   "metadata": {
    "execution": {
     "iopub.execute_input": "2022-07-05T13:34:38.557475Z",
     "iopub.status.busy": "2022-07-05T13:34:38.556625Z",
     "iopub.status.idle": "2022-07-05T13:34:40.887796Z",
     "shell.execute_reply": "2022-07-05T13:34:40.886974Z",
     "shell.execute_reply.started": "2022-07-05T13:34:38.557414Z"
    }
   },
   "outputs": [],
   "source": [
    "data = fetch_metadata()"
   ]
  },
  {
   "cell_type": "code",
   "execution_count": 6,
   "id": "ed4fabf9-de0c-49fb-b116-90ea797fe772",
   "metadata": {
    "execution": {
     "iopub.execute_input": "2022-07-05T13:35:56.094570Z",
     "iopub.status.busy": "2022-07-05T13:35:56.093911Z",
     "iopub.status.idle": "2022-07-05T13:35:56.127613Z",
     "shell.execute_reply": "2022-07-05T13:35:56.126901Z",
     "shell.execute_reply.started": "2022-07-05T13:35:56.094513Z"
    },
    "tags": []
   },
   "outputs": [],
   "source": [
    "doc2vec_embeddings = em.load_embeddings(\"doc2vec\")\n",
    "stylistic_embeddings = em.load_embeddings(\"stylistic\")"
   ]
  },
  {
   "cell_type": "code",
   "execution_count": 7,
   "id": "cc0013f6-7f1e-4950-abee-03dd26ab5e75",
   "metadata": {
    "execution": {
     "iopub.execute_input": "2022-07-05T13:36:03.620883Z",
     "iopub.status.busy": "2022-07-05T13:36:03.620059Z",
     "iopub.status.idle": "2022-07-05T13:36:03.678490Z",
     "shell.execute_reply": "2022-07-05T13:36:03.677714Z",
     "shell.execute_reply.started": "2022-07-05T13:36:03.620823Z"
    }
   },
   "outputs": [
    {
     "data": {
      "text/html": [
       "<div>\n",
       "<style scoped>\n",
       "    .dataframe tbody tr th:only-of-type {\n",
       "        vertical-align: middle;\n",
       "    }\n",
       "\n",
       "    .dataframe tbody tr th {\n",
       "        vertical-align: top;\n",
       "    }\n",
       "\n",
       "    .dataframe thead th {\n",
       "        text-align: right;\n",
       "    }\n",
       "</style>\n",
       "<table border=\"1\" class=\"dataframe\">\n",
       "  <thead>\n",
       "    <tr style=\"text-align: right;\">\n",
       "      <th></th>\n",
       "      <th>id_nummer</th>\n",
       "      <th>forfatter</th>\n",
       "      <th>værk</th>\n",
       "      <th>tlg_genre</th>\n",
       "      <th>genre_first</th>\n",
       "      <th>genre_second</th>\n",
       "      <th>genre_second_notes</th>\n",
       "      <th>komplet_fragment</th>\n",
       "      <th>årstal</th>\n",
       "      <th>geografi</th>\n",
       "      <th>skal_fjernes</th>\n",
       "      <th>gender</th>\n",
       "      <th>length</th>\n",
       "      <th>Unnamed: 13</th>\n",
       "    </tr>\n",
       "  </thead>\n",
       "  <tbody>\n",
       "    <tr>\n",
       "      <th>0</th>\n",
       "      <td>1219</td>\n",
       "      <td>Catenae (Novum Testamentum)</td>\n",
       "      <td>Catena In Epistulam I Ad Timotheum</td>\n",
       "      <td>Catena</td>\n",
       "      <td>catena / kommentar</td>\n",
       "      <td>catena / kommentar</td>\n",
       "      <td>teologi</td>\n",
       "      <td>NaN</td>\n",
       "      <td>NaN</td>\n",
       "      <td>NaN</td>\n",
       "      <td>FALSE</td>\n",
       "      <td>M</td>\n",
       "      <td>66409.0</td>\n",
       "      <td>NaN</td>\n",
       "    </tr>\n",
       "    <tr>\n",
       "      <th>1</th>\n",
       "      <td>260</td>\n",
       "      <td>Achilles Tatius</td>\n",
       "      <td>Leucippe et Clitophon</td>\n",
       "      <td>Narratio Ficta</td>\n",
       "      <td>prosa</td>\n",
       "      <td>roman</td>\n",
       "      <td>NaN</td>\n",
       "      <td>K</td>\n",
       "      <td>125 AD</td>\n",
       "      <td>NaN</td>\n",
       "      <td>FALSE</td>\n",
       "      <td>M</td>\n",
       "      <td>196477.0</td>\n",
       "      <td>NaN</td>\n",
       "    </tr>\n",
       "    <tr>\n",
       "      <th>2</th>\n",
       "      <td>1336</td>\n",
       "      <td>Acta Barnabae</td>\n",
       "      <td>Περίοδοι καὶ μαρτύριον τοῦ ἁγίου Βαρνάβα τοῦ ἀ...</td>\n",
       "      <td>Acta, Apocrypha, Hagiographa</td>\n",
       "      <td>prosa</td>\n",
       "      <td>fortælling</td>\n",
       "      <td>teologi</td>\n",
       "      <td>K</td>\n",
       "      <td>450 AD</td>\n",
       "      <td>NaN</td>\n",
       "      <td>FALSE</td>\n",
       "      <td>M</td>\n",
       "      <td>10712.0</td>\n",
       "      <td>NaN</td>\n",
       "    </tr>\n",
       "    <tr>\n",
       "      <th>3</th>\n",
       "      <td>1022</td>\n",
       "      <td>Acta Joannis</td>\n",
       "      <td>Acta Joannis</td>\n",
       "      <td>Acta, Apocrypha</td>\n",
       "      <td>prosa</td>\n",
       "      <td>fortælling</td>\n",
       "      <td>teologi</td>\n",
       "      <td>K</td>\n",
       "      <td>150 AD</td>\n",
       "      <td>NaN</td>\n",
       "      <td>FALSE</td>\n",
       "      <td>M</td>\n",
       "      <td>61271.0</td>\n",
       "      <td>NaN</td>\n",
       "    </tr>\n",
       "    <tr>\n",
       "      <th>4</th>\n",
       "      <td>1227</td>\n",
       "      <td>Acta Joannis</td>\n",
       "      <td>Acta Joannis recenscio</td>\n",
       "      <td>NaN</td>\n",
       "      <td>prosa</td>\n",
       "      <td>fortælling</td>\n",
       "      <td>teologi</td>\n",
       "      <td>NaN</td>\n",
       "      <td>NaN</td>\n",
       "      <td>NaN</td>\n",
       "      <td>SAND</td>\n",
       "      <td>M</td>\n",
       "      <td>12344.0</td>\n",
       "      <td>NaN</td>\n",
       "    </tr>\n",
       "    <tr>\n",
       "      <th>...</th>\n",
       "      <td>...</td>\n",
       "      <td>...</td>\n",
       "      <td>...</td>\n",
       "      <td>...</td>\n",
       "      <td>...</td>\n",
       "      <td>...</td>\n",
       "      <td>...</td>\n",
       "      <td>...</td>\n",
       "      <td>...</td>\n",
       "      <td>...</td>\n",
       "      <td>...</td>\n",
       "      <td>...</td>\n",
       "      <td>...</td>\n",
       "      <td>...</td>\n",
       "    </tr>\n",
       "    <tr>\n",
       "      <th>1930</th>\n",
       "      <td>840</td>\n",
       "      <td>Pseudo-Solomon</td>\n",
       "      <td>Wisdom of Solomon - WIS-ΣΟΦΙΑ ΣΑΛΩΜΩΜΟΣ</td>\n",
       "      <td>Pseudepigrapha, Religiosa</td>\n",
       "      <td>NaN</td>\n",
       "      <td>NaN</td>\n",
       "      <td>NaN</td>\n",
       "      <td>K</td>\n",
       "      <td>50 BC</td>\n",
       "      <td>Alekandria</td>\n",
       "      <td>FALSK</td>\n",
       "      <td>M</td>\n",
       "      <td>36691.0</td>\n",
       "      <td>NaN</td>\n",
       "    </tr>\n",
       "    <tr>\n",
       "      <th>1931</th>\n",
       "      <td>808</td>\n",
       "      <td>Zechariah</td>\n",
       "      <td>Zechariah - ZEC-ΖΑΧΑΡΙΑΣ</td>\n",
       "      <td>Propheteia, Religiosa</td>\n",
       "      <td>NaN</td>\n",
       "      <td>NaN</td>\n",
       "      <td>NaN</td>\n",
       "      <td>K</td>\n",
       "      <td>520-518 BC</td>\n",
       "      <td>Israel</td>\n",
       "      <td>FALSK</td>\n",
       "      <td>M</td>\n",
       "      <td>23834.0</td>\n",
       "      <td>NaN</td>\n",
       "    </tr>\n",
       "    <tr>\n",
       "      <th>1932</th>\n",
       "      <td>827</td>\n",
       "      <td>Zephaniah</td>\n",
       "      <td>Zephaniah - ZEP-ΣΟΦΟΝΙΑΣ</td>\n",
       "      <td>Propheteia, Religiosa</td>\n",
       "      <td>NaN</td>\n",
       "      <td>NaN</td>\n",
       "      <td>NaN</td>\n",
       "      <td>K</td>\n",
       "      <td>600 BC</td>\n",
       "      <td>Israel</td>\n",
       "      <td>FALSK</td>\n",
       "      <td>M</td>\n",
       "      <td>5858.0</td>\n",
       "      <td>NaN</td>\n",
       "    </tr>\n",
       "    <tr>\n",
       "      <th>1933</th>\n",
       "      <td>44</td>\n",
       "      <td>Athenaeus (dubblet, cf. entry no. 301)</td>\n",
       "      <td>The Deiphnosophists (dubblet, cf. entry no. 301)</td>\n",
       "      <td>NaN</td>\n",
       "      <td>NaN</td>\n",
       "      <td>NaN</td>\n",
       "      <td>NaN</td>\n",
       "      <td>NaN</td>\n",
       "      <td>NaN</td>\n",
       "      <td>NaN</td>\n",
       "      <td>SAND</td>\n",
       "      <td>NaN</td>\n",
       "      <td>1320228.0</td>\n",
       "      <td>NaN</td>\n",
       "    </tr>\n",
       "    <tr>\n",
       "      <th>1934</th>\n",
       "      <td>1400</td>\n",
       "      <td>Anonymus</td>\n",
       "      <td>British Library Add. 43725</td>\n",
       "      <td>NaN</td>\n",
       "      <td>NaN</td>\n",
       "      <td>NaN</td>\n",
       "      <td>NaN</td>\n",
       "      <td>NaN</td>\n",
       "      <td>NaN</td>\n",
       "      <td>NaN</td>\n",
       "      <td>SAND</td>\n",
       "      <td>NaN</td>\n",
       "      <td>4658.0</td>\n",
       "      <td>NaN</td>\n",
       "    </tr>\n",
       "  </tbody>\n",
       "</table>\n",
       "<p>1935 rows × 14 columns</p>\n",
       "</div>"
      ],
      "text/plain": [
       "      id_nummer                               forfatter  ...     length Unnamed: 13\n",
       "0          1219             Catenae (Novum Testamentum)  ...    66409.0         NaN\n",
       "1           260                         Achilles Tatius  ...   196477.0         NaN\n",
       "2          1336                           Acta Barnabae  ...    10712.0         NaN\n",
       "3          1022                            Acta Joannis  ...    61271.0         NaN\n",
       "4          1227                            Acta Joannis  ...    12344.0         NaN\n",
       "...         ...                                     ...  ...        ...         ...\n",
       "1930        840                          Pseudo-Solomon  ...    36691.0         NaN\n",
       "1931        808                               Zechariah  ...    23834.0         NaN\n",
       "1932        827                               Zephaniah  ...     5858.0         NaN\n",
       "1933         44  Athenaeus (dubblet, cf. entry no. 301)  ...  1320228.0         NaN\n",
       "1934       1400                                Anonymus  ...     4658.0         NaN\n",
       "\n",
       "[1935 rows x 14 columns]"
      ]
     },
     "execution_count": 7,
     "metadata": {},
     "output_type": "execute_result"
    }
   ],
   "source": [
    "data"
   ]
  },
  {
   "cell_type": "code",
   "execution_count": 17,
   "id": "ef73228c-3749-489f-982a-bcdbb2d39e28",
   "metadata": {
    "execution": {
     "iopub.execute_input": "2022-07-05T13:45:44.338770Z",
     "iopub.status.busy": "2022-07-05T13:45:44.337730Z",
     "iopub.status.idle": "2022-07-05T13:45:44.369658Z",
     "shell.execute_reply": "2022-07-05T13:45:44.369001Z",
     "shell.execute_reply.started": "2022-07-05T13:45:44.338691Z"
    },
    "tags": []
   },
   "outputs": [],
   "source": [
    "old_testament = data.id_nummer[data.forfatter == \"Septuaginta\"].unique()\n",
    "markus_lukas_jonas = [\n",
    "    783, #Markus\n",
    "    789, #Lukas\n",
    "    799, #Jonas\n",
    "]"
   ]
  },
  {
   "cell_type": "code",
   "execution_count": 18,
   "id": "08dfcf2d-8faf-4ed6-b799-b53fba558693",
   "metadata": {
    "execution": {
     "iopub.execute_input": "2022-07-05T13:46:10.238297Z",
     "iopub.status.busy": "2022-07-05T13:46:10.237259Z",
     "iopub.status.idle": "2022-07-05T13:46:10.271566Z",
     "shell.execute_reply": "2022-07-05T13:46:10.270838Z",
     "shell.execute_reply.started": "2022-07-05T13:46:10.238238Z"
    },
    "tags": []
   },
   "outputs": [],
   "source": [
    "def map_category(s: pd.Series) -> str:\n",
    "    if s.tlg_genre in {\"Narratio Ficta\", \"Biographa\", \"Historica\"}:\n",
    "        return s.tlg_genre\n",
    "    if s.id_nummer in old_testament:\n",
    "        return \"Gammel Testamente\"\n",
    "    if s.id_nummer in markus_lukas_jonas:\n",
    "        return \"Nye Testamente\"\n",
    "    return \"Other\""
   ]
  },
  {
   "cell_type": "code",
   "execution_count": 20,
   "id": "18ab96aa-cc8e-4bdf-8a13-5d6aee1d866d",
   "metadata": {
    "execution": {
     "iopub.execute_input": "2022-07-05T13:47:15.867305Z",
     "iopub.status.busy": "2022-07-05T13:47:15.866625Z",
     "iopub.status.idle": "2022-07-05T13:47:15.940606Z",
     "shell.execute_reply": "2022-07-05T13:47:15.939918Z",
     "shell.execute_reply.started": "2022-07-05T13:47:15.867247Z"
    },
    "tags": []
   },
   "outputs": [],
   "source": [
    "data = data.assign(category = data.apply(map_category, axis=1))"
   ]
  },
  {
   "cell_type": "code",
   "execution_count": 23,
   "id": "a4bfab0e-b512-473e-8899-ffc5bbdb0825",
   "metadata": {
    "execution": {
     "iopub.execute_input": "2022-07-05T13:48:04.623633Z",
     "iopub.status.busy": "2022-07-05T13:48:04.622854Z",
     "iopub.status.idle": "2022-07-05T13:48:04.660061Z",
     "shell.execute_reply": "2022-07-05T13:48:04.659197Z",
     "shell.execute_reply.started": "2022-07-05T13:48:04.623574Z"
    },
    "tags": []
   },
   "outputs": [],
   "source": [
    "disp_data = data[data.category != \"Other\"]"
   ]
  },
  {
   "cell_type": "code",
   "execution_count": 24,
   "id": "6c166dba-d620-4914-9932-d220ac406455",
   "metadata": {
    "execution": {
     "iopub.execute_input": "2022-07-05T13:48:35.900299Z",
     "iopub.status.busy": "2022-07-05T13:48:35.899624Z",
     "iopub.status.idle": "2022-07-05T13:48:35.935873Z",
     "shell.execute_reply": "2022-07-05T13:48:35.935182Z",
     "shell.execute_reply.started": "2022-07-05T13:48:35.900243Z"
    }
   },
   "outputs": [],
   "source": [
    "disp_data = em.add_embeddings(\n",
    "    disp_data,\n",
    "    semantic=doc2vec_embeddings,\n",
    "    stylistic=stylistic_embeddings\n",
    ")"
   ]
  },
  {
   "cell_type": "code",
   "execution_count": 31,
   "id": "7f941222-3a20-44ae-843c-9b081c13e0a3",
   "metadata": {
    "execution": {
     "iopub.execute_input": "2022-07-05T13:53:22.241142Z",
     "iopub.status.busy": "2022-07-05T13:53:22.240370Z",
     "iopub.status.idle": "2022-07-05T13:53:23.286607Z",
     "shell.execute_reply": "2022-07-05T13:53:23.285850Z",
     "shell.execute_reply.started": "2022-07-05T13:53:22.241070Z"
    },
    "tags": []
   },
   "outputs": [
    {
     "data": {
      "application/vnd.plotly.v1+json": {
       "config": {
        "plotlyServerURL": "https://plot.ly"
       },
       "data": [
        {
         "customdata": [
          [
           "Leucippe et Clitophon",
           "Achilles Tatius",
           "Narratio Ficta"
          ],
          [
           "De Chaerea et Callirhoe - Chaereas and Kallirhoe",
           "Chariton",
           "Narratio Ficta"
          ],
          [
           "Ὁμίλαι",
           "Clemens Romanus",
           "Narratio Ficta"
          ],
          [
           "Aethiopica",
           "Heliodorus of Emesa",
           "Narratio Ficta"
          ],
          [
           "Babyloniaca",
           "Iamblichus (TLG = 1441)",
           "Narratio Ficta"
          ],
          [
           "Daphnis and Chloe",
           "Longus",
           "Narratio Ficta"
          ],
          [
           "51. Love Stories (Amatoriae narrationes) - Ἐρωτικαὶ διηγήσεις",
           "Plutarch",
           "Narratio Ficta"
          ],
          [
           "The Stories of Sinbad - Narrationes de Syntipa",
           "Michael Andreopulus (Syntipas)",
           "Narratio Ficta"
          ],
          [
           "Vita Aesopi Pl vel Accursiana (sub auctore Maximo Planude) (recensio 1)",
           "Vitae Aesopi",
           "Narratio Ficta"
          ],
          [
           "Ephesiaca",
           "Xenophon of Ephesus",
           "Narratio Ficta"
          ]
         ],
         "hovertemplate": "x=%{x}<br>y=%{y}<br>z=%{z}<br>værk=%{customdata[0]}<br>forfatter=%{customdata[1]}<extra></extra>",
         "legendgroup": "Narratio Ficta",
         "marker": {
          "color": "#636efa",
          "symbol": "circle"
         },
         "mode": "markers",
         "name": "Narratio Ficta",
         "scene": "scene",
         "showlegend": true,
         "type": "scatter3d",
         "x": [
          -0.303676962852478,
          0.45788806676864624,
          5.622982978820801,
          -7.751169204711914,
          -1.41249418258667,
          -3.9020612239837646,
          -6.934413433074951,
          4.003242015838623,
          0.517464280128479,
          -5.523460865020752
         ],
         "y": [
          8.561030387878418,
          20.13424301147461,
          4.040165424346924,
          6.336866855621338,
          6.568689346313477,
          6.136134147644043,
          1.9080994129180908,
          4.755471229553223,
          5.623039722442627,
          3.853600263595581
         ],
         "z": [
          -3.077172040939331,
          9.08835506439209,
          -8.417829513549805,
          3.798569679260254,
          -5.043558597564697,
          4.975838661193848,
          -2.7465858459472656,
          -4.099508762359619,
          -4.470493316650391,
          6.214998245239258
         ]
        },
        {
         "customdata": [
          [
           "Historiae",
           "Agathias Scholasticus",
           "Historica"
          ],
          [
           "Alexias",
           "Anna Comnena",
           "Historica"
          ],
          [
           "Ιβηρική",
           "Appian",
           "Historica"
          ],
          [
           "Λιβυκή",
           "Appian",
           "Historica"
          ],
          [
           "Μιθριδάτειος",
           "Appian",
           "Historica"
          ],
          [
           "Συριακή",
           "Appian",
           "Historica"
          ],
          [
           "Ἀννιβαϊκή",
           "Appian",
           "Historica"
          ],
          [
           "ἐκ τῆς Κελτῖκης (Celtica)",
           "Appian",
           "Historica"
          ],
          [
           "ἐκ τῆς Μακεδονικῆς",
           "Appian",
           "Historica"
          ],
          [
           "ἐκ τῆς Σαυνιτικῆς",
           "Appian",
           "Historica"
          ],
          [
           "ἐκ τῆς Σικελῖκης καὶ νησιωτικής",
           "Appian",
           "Historica"
          ],
          [
           "ἐκ τῆς βασιλικῆς",
           "Appian",
           "Historica"
          ],
          [
           "ἐκ τῆς Ἰταλικῆς",
           "Appian",
           "Historica"
          ],
          [
           "Ἐμφυλίων Πρώτη (Bellum civile...?) (TLG = 017)",
           "Appian",
           "Historica"
          ],
          [
           "Ἰλλυρική",
           "Appian",
           "Historica"
          ],
          [
           "Acies contra Alanos - Ektaxis kata Alanon",
           "Arrian",
           "Historica"
          ],
          [
           "Anabasis of Alexander",
           "Arrian",
           "Historica"
          ],
          [
           "Cynegeticus - the hunting man (hunting dogs)",
           "Arrian",
           "Historica"
          ],
          [
           "Historia Indica",
           "Arrian",
           "Historica"
          ],
          [
           "Historiae Romanae",
           "Cassius Dio",
           "Historica"
          ],
          [
           "Bibliotheca Historica, Books I-V",
           "Diodorus Siculus",
           "Historica"
          ],
          [
           "Bibliotheca Historica, Books XVIII-XX",
           "Diodorus Siculus",
           "Historica"
          ],
          [
           "Antiquitates Romanae, Books I-XX (incompl.?)",
           "Dionysius of Halicarnassus",
           "Historica"
          ],
          [
           "Summary of Roman History - Breviarium historiae romanae",
           "Eutropius (oversat fra latin til græsk i 380 AD af Paeanius)",
           "Historica"
          ],
          [
           "Jewish Antiquitites - Antiquitates Judaicae",
           "Flavius Josephus",
           "Historica"
          ],
          [
           "The Jewish War - De bello Judaico libri vii (KUN BOG 7…?)",
           "Flavius Josephus",
           "Historica"
          ],
          [
           "The Histories",
           "Herodotus",
           "Historica"
          ],
          [
           "Histories",
           "Polybius",
           "Historica"
          ],
          [
           "Secret History - Ἀπόκρυφη Ἱστορία, Historia Arcana (Anecdota)",
           "Procopius",
           "Historica"
          ],
          [
           "On the Wars / History of the Wars - De Bellis",
           "Procopius",
           "Historica"
          ],
          [
           "The Peloponnesian War",
           "Thucydides",
           "Historica"
          ],
          [
           "Anabasis",
           "Xenophon of Athens",
           "Historica"
          ],
          [
           "Historia Nova",
           "Zosimus",
           "Historica"
          ]
         ],
         "hovertemplate": "x=%{x}<br>y=%{y}<br>z=%{z}<br>værk=%{customdata[0]}<br>forfatter=%{customdata[1]}<extra></extra>",
         "legendgroup": "Historica",
         "marker": {
          "color": "#EF553B",
          "symbol": "circle"
         },
         "mode": "markers",
         "name": "Historica",
         "scene": "scene",
         "showlegend": true,
         "type": "scatter3d",
         "x": [
          -9.908699989318848,
          -5.663303375244141,
          -11.77463150024414,
          -11.08645248413086,
          -2.629136800765991,
          -12.855682373046875,
          -1.1635668277740479,
          -8.048008918762207,
          -9.488372802734375,
          -3.951265573501587,
          -7.346370697021484,
          -4.115392684936523,
          -5.969812870025635,
          -14.037700653076172,
          -10.186017036437988,
          -2.0591533184051514,
          -12.27755069732666,
          -6.635865211486816,
          -5.739971160888672,
          -10.120129585266113,
          -4.702938556671143,
          5.369659900665283,
          -10.849750518798828,
          -2.0564424991607666,
          -4.790083408355713,
          -9.795951843261719,
          -5.098031997680664,
          -10.517000198364258,
          -9.426777839660645,
          -8.831903457641602,
          -9.726242065429688,
          -6.509037017822266,
          -11.37845516204834
         ],
         "y": [
          1.2115706205368042,
          -5.850306987762451,
          -10.459590911865234,
          -5.830500602722168,
          16.989177703857422,
          -6.426504611968994,
          20.249048233032227,
          -1.0552363395690918,
          -3.0564002990722656,
          10.415684700012207,
          -1.1263970136642456,
          3.602185010910034,
          1.8248721361160278,
          -11.237382888793945,
          -5.277617931365967,
          7.482025623321533,
          -5.517223834991455,
          2.219477891921997,
          8.576114654541016,
          -8.482081413269043,
          0.2341555953025818,
          23.097900390625,
          3.5884110927581787,
          7.481156826019287,
          -4.583044052124023,
          -13.297032356262207,
          10.338679313659668,
          -13.081838607788086,
          -4.011704921722412,
          -4.143994331359863,
          -0.10041873902082443,
          0.25931307673454285,
          -7.153558254241943
         ],
         "z": [
          18.76302719116211,
          15.836465835571289,
          15.224713325500488,
          13.065396308898926,
          8.26535415649414,
          12.117973327636719,
          9.216826438903809,
          3.0737109184265137,
          2.603728771209717,
          -0.40236490964889526,
          2.3424720764160156,
          -2.3597350120544434,
          -1.6928048133850098,
          13.890219688415527,
          9.50104808807373,
          -7.241955757141113,
          16.728801727294922,
          -6.569555282592773,
          21.690500259399414,
          11.641443252563477,
          -6.425961017608643,
          15.850260734558105,
          7.5005269050598145,
          -7.241250038146973,
          3.7808356285095215,
          6.572990417480469,
          20.021583557128906,
          2.1420159339904785,
          14.752616882324219,
          22.470075607299805,
          9.12203311920166,
          9.659110069274902,
          11.341451644897461
         ]
        },
        {
         "customdata": [
          [
           "Vitae Sophistarum (23 stk)",
           "Eunapius",
           "Biographa"
          ],
          [
           "Demonax",
           "Lucian",
           "Biographa"
          ],
          [
           "Life of the Sophists - Vitae Sophistarum (flere)",
           "Philostratus the Athenian",
           "Biographa"
          ],
          [
           "Aemilius Paulus",
           "Plutarch",
           "Biographa"
          ],
          [
           "Agesilaus",
           "Plutarch",
           "Biographa"
          ],
          [
           "Agis and Cleomenes",
           "Plutarch",
           "Biographa"
          ],
          [
           "Alcibiades",
           "Plutarch",
           "Biographa"
          ],
          [
           "Alexander",
           "Plutarch",
           "Biographa"
          ],
          [
           "Antony",
           "Plutarch",
           "Biographa"
          ],
          [
           "Aratus",
           "Plutarch",
           "Biographa"
          ],
          [
           "Artaxerxes",
           "Plutarch",
           "Biographa"
          ],
          [
           "Brutus",
           "Plutarch",
           "Biographa"
          ],
          [
           "Caesar",
           "Plutarch",
           "Biographa"
          ],
          [
           "Caius Marcius Coriolanus",
           "Plutarch",
           "Biographa"
          ],
          [
           "Caius Marius",
           "Plutarch",
           "Biographa"
          ],
          [
           "Camillus",
           "Plutarch",
           "Biographa"
          ],
          [
           "Cato the Younger (Minor)",
           "Plutarch",
           "Biographa"
          ],
          [
           "Cicero",
           "Plutarch",
           "Biographa"
          ],
          [
           "Cimon",
           "Plutarch",
           "Biographa"
          ],
          [
           "Comparison of Agesilaus and Pompey",
           "Plutarch",
           "Biographa"
          ],
          [
           "Comparison of Agis and Cleomenes and the Gracchi",
           "Plutarch",
           "Biographa"
          ],
          [
           "Comparison of Alcibiades and Coriolanus",
           "Plutarch",
           "Biographa"
          ],
          [
           "Comparison of Aristides and Marcus Cato",
           "Plutarch",
           "Biographa"
          ],
          [
           "Comparison of Demetrius and Antony",
           "Plutarch",
           "Biographa"
          ],
          [
           "Comparison of Demosthenes and Cicero",
           "Plutarch",
           "Biographa"
          ],
          [
           "Comparison of Dion and Brutus",
           "Plutarch",
           "Biographa"
          ],
          [
           "Comparison of Lucullus and Cimon",
           "Plutarch",
           "Biographa"
          ],
          [
           "Comparison of Lycurgus and Numa",
           "Plutarch",
           "Biographa"
          ],
          [
           "Comparison of Lysander and Sulla",
           "Plutarch",
           "Biographa"
          ],
          [
           "Comparison of Nicias and Crassus",
           "Plutarch",
           "Biographa"
          ],
          [
           "Comparison of Pelopidas and Marcellus",
           "Plutarch",
           "Biographa"
          ],
          [
           "Comparison of Pericles and Fabius Maximus",
           "Plutarch",
           "Biographa"
          ],
          [
           "Comparison of Philopoemen and Titus",
           "Plutarch",
           "Biographa"
          ],
          [
           "Comparison of Solon and Publicola",
           "Plutarch",
           "Biographa"
          ],
          [
           "Comparison of Theseus and Romulus",
           "Plutarch",
           "Biographa"
          ],
          [
           "Crassus",
           "Plutarch",
           "Biographa"
          ],
          [
           "Demetrius",
           "Plutarch",
           "Biographa"
          ],
          [
           "Demosthenes",
           "Plutarch",
           "Biographa"
          ],
          [
           "Dion",
           "Plutarch",
           "Biographa"
          ],
          [
           "Eumenes",
           "Plutarch",
           "Biographa"
          ],
          [
           "Fabius Maximus",
           "Plutarch",
           "Biographa"
          ],
          [
           "Galba",
           "Plutarch",
           "Biographa"
          ],
          [
           "Lucullus",
           "Plutarch",
           "Biographa"
          ],
          [
           "Lycurgus",
           "Plutarch",
           "Biographa"
          ],
          [
           "Lysander",
           "Plutarch",
           "Biographa"
          ],
          [
           "Machine readable text",
           "Plutarch",
           "Biographa"
          ],
          [
           "Marcellus",
           "Plutarch",
           "Biographa"
          ],
          [
           " Marcus Cato (Maior)",
           "Plutarch",
           "Biographa"
          ],
          [
           "Nicias",
           "Plutarch",
           "Biographa"
          ],
          [
           "Numa",
           "Plutarch",
           "Biographa"
          ],
          [
           "Otho",
           "Plutarch",
           "Biographa"
          ],
          [
           "Pelopidas",
           "Plutarch",
           "Biographa"
          ],
          [
           "Pericles",
           "Plutarch",
           "Biographa"
          ],
          [
           "Philopoemen",
           "Plutarch",
           "Biographa"
          ],
          [
           "Phocion",
           "Plutarch",
           "Biographa"
          ],
          [
           "Pompey",
           "Plutarch",
           "Biographa"
          ],
          [
           "Publicola",
           "Plutarch",
           "Biographa"
          ],
          [
           "Pyrrhus",
           "Plutarch",
           "Biographa"
          ],
          [
           "Romulus",
           "Plutarch",
           "Biographa"
          ],
          [
           "Sertorius",
           "Plutarch",
           "Biographa"
          ],
          [
           "Solon",
           "Plutarch",
           "Biographa"
          ],
          [
           "Sulla",
           "Plutarch",
           "Biographa"
          ],
          [
           "Themistocles",
           "Plutarch",
           "Biographa"
          ],
          [
           "Theseus",
           "Plutarch",
           "Biographa"
          ],
          [
           "Tiberius and Caius Gracchus",
           "Plutarch",
           "Biographa"
          ],
          [
           "Timoleon",
           "Plutarch",
           "Biographa"
          ],
          [
           "Titus Flamininus",
           "Plutarch",
           "Biographa"
          ],
          [
           "58. Lives of the Ten Orators Vitae decem oratorum) - Vitae decem oratorum",
           "Plutarch",
           "Biographa"
          ],
          [
           "Vitae Euripidis",
           "Scholia in Euripidem",
           "Biographa"
          ],
          [
           "Vita Hippocratis Secundum Soranum",
           "Soranus",
           "Biographa"
          ],
          [
           "Plutarchi vita",
           "Vitae Homeri",
           "Biographa"
          ],
          [
           "Sudae vita",
           "Vitae Homeri",
           "Biographa"
          ],
          [
           "Vita Herodotea",
           "Vitae Homeri",
           "Biographa"
          ],
          [
           "Vita Proculea (e Chrestomathia)",
           "Vitae Homeri",
           "Biographa"
          ],
          [
           "Vita sexta",
           "Vitae Homeri",
           "Biographa"
          ]
         ],
         "hovertemplate": "x=%{x}<br>y=%{y}<br>z=%{z}<br>værk=%{customdata[0]}<br>forfatter=%{customdata[1]}<extra></extra>",
         "legendgroup": "Biographa",
         "marker": {
          "color": "#00cc96",
          "symbol": "circle"
         },
         "mode": "markers",
         "name": "Biographa",
         "scene": "scene",
         "showlegend": true,
         "type": "scatter3d",
         "x": [
          -2.5102779865264893,
          -5.543828964233398,
          7.619224548339844,
          -13.718794822692871,
          -13.259748458862305,
          -6.019050598144531,
          -14.293717384338379,
          -12.574359893798828,
          -15.519454002380371,
          -6.965530872344971,
          -10.95090389251709,
          -15.106362342834473,
          -14.378134727478027,
          -12.914395332336426,
          -6.130346775054932,
          -14.220926284790039,
          -2.0671911239624023,
          -14.280898094177246,
          -4.937099933624268,
          -2.0720019340515137,
          -7.477949619293213,
          -2.099299907684326,
          -4.7071332931518555,
          -4.108543872833252,
          -6.886101245880127,
          1.1933684349060059,
          -6.355696201324463,
          -6.2134904861450195,
          -1.0436168909072876,
          4.877148628234863,
          -6.197638511657715,
          -1.4334455728530884,
          -10.34068489074707,
          8.238741874694824,
          -5.604127883911133,
          -14.264331817626953,
          -12.978842735290527,
          -11.279458999633789,
          -2.837286949157715,
          -13.074070930480957,
          -13.302867889404297,
          -4.1286444664001465,
          -15.433379173278809,
          -0.6920261383056641,
          -11.48777961730957,
          -12.001235961914062,
          -13.991643905639648,
          -11.892742156982422,
          -1.930478811264038,
          -10.867574691772461,
          -12.31132698059082,
          -13.674721717834473,
          -12.615983009338379,
          -13.22785758972168,
          -10.884172439575195,
          -15.138002395629883,
          -6.097918510437012,
          -15.302804946899414,
          0.09658880531787872,
          -14.933191299438477,
          -2.0606846809387207,
          -14.549147605895996,
          -11.488140106201172,
          -12.788073539733887,
          -12.406832695007324,
          -14.548959732055664,
          -13.517873764038086,
          -8.036771774291992,
          -3.669991970062256,
          -0.05565868690609932,
          -3.54533052444458,
          -1.8484009504318237,
          -3.209325075149536,
          -2.705667495727539,
          -3.0031845569610596
         ],
         "y": [
          5.588297367095947,
          4.591297149658203,
          3.712148427963257,
          -8.08503246307373,
          -7.428542613983154,
          2.7453255653381348,
          -5.671360015869141,
          -5.76423978805542,
          -11.377494812011719,
          2.074867010116577,
          -5.0903472900390625,
          -9.814899444580078,
          -8.693466186523438,
          -6.906722545623779,
          8.706188201904297,
          -9.407979011535645,
          7.48953104019165,
          -10.450736045837402,
          6.96907901763916,
          4.130498886108398,
          2.215960741043091,
          7.660089492797852,
          8.409992218017578,
          -0.8187946677207947,
          2.4586031436920166,
          8.777143478393555,
          3.2279374599456787,
          -1.0627641677856445,
          19.781108856201172,
          20.189411163330078,
          3.28157114982605,
          15.492202758789062,
          0.234047994017601,
          22.89999771118164,
          4.175309181213379,
          -11.120960235595703,
          -7.489824295043945,
          -2.280303478240967,
          7.789109706878662,
          -8.395702362060547,
          -8.502071380615234,
          4.00646448135376,
          -11.005600929260254,
          21.61077880859375,
          2.410839080810547,
          -3.9379029273986816,
          -7.131597995758057,
          -6.248143672943115,
          10.716115951538086,
          -1.731234073638916,
          -7.723066806793213,
          -5.474438190460205,
          -2.611039161682129,
          -6.459516525268555,
          -6.323546886444092,
          -11.94034481048584,
          -14.018765449523926,
          -7.830503463745117,
          20.112791061401367,
          -9.410618782043457,
          7.492314338684082,
          -9.272064208984375,
          -2.4557719230651855,
          2.044647455215454,
          -11.453226089477539,
          -7.222537994384766,
          -6.169399261474609,
          -2.004441499710083,
          7.256740093231201,
          8.132619857788086,
          8.378280639648438,
          9.605364799499512,
          10.999983787536621,
          7.336740493774414,
          7.0516743659973145
         ],
         "z": [
          -5.526304244995117,
          -4.893066883087158,
          -6.828588008880615,
          -1.158578634262085,
          -1.548250675201416,
          -5.600732803344727,
          -4.003787517547607,
          -3.0949976444244385,
          0.22978758811950684,
          -5.34193229675293,
          -1.0983580350875854,
          -0.8077250719070435,
          -4.032321929931641,
          -2.5150089263916016,
          1.1935867071151733,
          1.0070745944976807,
          -7.244349956512451,
          -3.3821489810943604,
          -12.765912055969238,
          -2.942950963973999,
          -5.858623504638672,
          -5.908932685852051,
          -1.437023401260376,
          -10.00670337677002,
          -7.016688823699951,
          -6.20296049118042,
          -5.071484088897705,
          -8.077503204345703,
          10.207164764404297,
          15.597555160522461,
          -4.845025539398193,
          0.046868667006492615,
          -1.989266037940979,
          21.612125396728516,
          -5.18753719329834,
          2.831737995147705,
          -3.8133840560913086,
          -8.886564254760742,
          -5.9749369621276855,
          0.6853875517845154,
          -0.3103015720844269,
          -5.850979328155518,
          1.3955265283584595,
          8.847485542297363,
          -2.232203245162964,
          -3.860412120819092,
          -0.5306018590927124,
          -5.873642921447754,
          -4.567739486694336,
          -4.4902496337890625,
          -1.4899235963821411,
          -3.7414300441741943,
          -6.530585765838623,
          -2.384248971939087,
          -6.837568283081055,
          2.2166359424591064,
          0.8460759520530701,
          1.4647811651229858,
          8.863727569580078,
          1.9549018144607544,
          -7.252277851104736,
          -0.46621957421302795,
          -3.967677593231201,
          -2.248065233230591,
          -2.8298451900482178,
          -3.3794665336608887,
          -0.8438547253608704,
          -6.6674485206604,
          -4.118879795074463,
          -6.050753116607666,
          -4.334555625915527,
          -0.8712301850318909,
          4.523621559143066,
          -6.186346054077148,
          -5.679360866546631
         ]
        },
        {
         "customdata": [
          [
           "Aggaeus",
           "Septuaginta",
           "Gammel Testamente"
          ],
          [
           "Amos",
           "Septuaginta",
           "Gammel Testamente"
          ],
          [
           "Baruch",
           "Septuaginta",
           "Gammel Testamente"
          ],
          [
           "Bel et Draco Theodotionis versio",
           "Septuaginta",
           "Gammel Testamente"
          ],
          [
           "Bel et Draco translatio Graeca",
           "Septuaginta",
           "Gammel Testamente"
          ],
          [
           "Canticum",
           "Septuaginta",
           "Gammel Testamente"
          ],
          [
           "Daniel Theodotionis versio",
           "Septuaginta",
           "Gammel Testamente"
          ],
          [
           "Daniel translatio Graeca",
           "Septuaginta",
           "Gammel Testamente"
          ],
          [
           "Deuteronomium",
           "Septuaginta",
           "Gammel Testamente"
          ],
          [
           "Ecclesiasticus",
           "Septuaginta",
           "Gammel Testamente"
          ],
          [
           "Epistula Jeremiae",
           "Septuaginta",
           "Gammel Testamente"
          ],
          [
           "Esdras A",
           "Septuaginta",
           "Gammel Testamente"
          ],
          [
           "Esdras B",
           "Septuaginta",
           "Gammel Testamente"
          ],
          [
           "Esther",
           "Septuaginta",
           "Gammel Testamente"
          ],
          [
           "Exodus",
           "Septuaginta",
           "Gammel Testamente"
          ],
          [
           "Ezechiel",
           "Septuaginta",
           "Gammel Testamente"
          ],
          [
           "Genesis",
           "Septuaginta",
           "Gammel Testamente"
          ],
          [
           "Habacuc",
           "Septuaginta",
           "Gammel Testamente"
          ],
          [
           "Isaias",
           "Septuaginta",
           "Gammel Testamente"
          ],
          [
           "Jeremias",
           "Septuaginta",
           "Gammel Testamente"
          ],
          [
           "Job",
           "Septuaginta",
           "Gammel Testamente"
          ],
          [
           "Joel",
           "Septuaginta",
           "Gammel Testamente"
          ],
          [
           "Jonas",
           "Septuaginta",
           "Gammel Testamente"
          ],
          [
           "Josue Cod Vaticanus Cod Alexandrinus",
           "Septuaginta",
           "Gammel Testamente"
          ],
          [
           "Judices Cod Alexandrinus",
           "Septuaginta",
           "Gammel Testamente"
          ],
          [
           "Judith",
           "Septuaginta",
           "Gammel Testamente"
          ],
          [
           "Leviticus",
           "Septuaginta",
           "Gammel Testamente"
          ],
          [
           "Machabaeorum i",
           "Septuaginta",
           "Gammel Testamente"
          ],
          [
           "Machabaeorum ii",
           "Septuaginta",
           "Gammel Testamente"
          ],
          [
           "Machabaeorum iii",
           "Septuaginta",
           "Gammel Testamente"
          ],
          [
           "Machabaeorum iv",
           "Septuaginta",
           "Gammel Testamente"
          ],
          [
           "Malachias",
           "Septuaginta",
           "Gammel Testamente"
          ],
          [
           "Michaeas",
           "Septuaginta",
           "Gammel Testamente"
          ],
          [
           "Nahum",
           "Septuaginta",
           "Gammel Testamente"
          ],
          [
           "Numeri",
           "Septuaginta",
           "Gammel Testamente"
          ],
          [
           "Odae",
           "Septuaginta",
           "Gammel Testamente"
          ],
          [
           "Osee",
           "Septuaginta",
           "Gammel Testamente"
          ],
          [
           "Paralipomenon I sive Chronicon I",
           "Septuaginta",
           "Gammel Testamente"
          ],
          [
           "Paralipomenon II sive Chronicon II",
           "Septuaginta",
           "Gammel Testamente"
          ],
          [
           "Proverbia",
           "Septuaginta",
           "Gammel Testamente"
          ],
          [
           "Psalmi",
           "Septuaginta",
           "Gammel Testamente"
          ],
          [
           "Psalmi Salomonis",
           "Septuaginta",
           "Gammel Testamente"
          ],
          [
           "Regnorum I Samuelis I in textu Masoretico",
           "Septuaginta",
           "Gammel Testamente"
          ],
          [
           "Regnorum II Samuelis II In Textu Masoretico",
           "Septuaginta",
           "Gammel Testamente"
          ],
          [
           "Regnorum III Regum I in textu Masoretico",
           "Septuaginta",
           "Gammel Testamente"
          ],
          [
           "Regnorum IV Regum II in textu Masoretico",
           "Septuaginta",
           "Gammel Testamente"
          ],
          [
           "Ruth",
           "Septuaginta",
           "Gammel Testamente"
          ],
          [
           "Sapientia Salomonis",
           "Septuaginta",
           "Gammel Testamente"
          ],
          [
           "Sophonias",
           "Septuaginta",
           "Gammel Testamente"
          ],
          [
           "Susanna Theodotionis versio",
           "Septuaginta",
           "Gammel Testamente"
          ],
          [
           "Susanna translatio Graeca",
           "Septuaginta",
           "Gammel Testamente"
          ],
          [
           "Threni seu Lamentationes",
           "Septuaginta",
           "Gammel Testamente"
          ],
          [
           "Tobias",
           "Septuaginta",
           "Gammel Testamente"
          ],
          [
           "Zacharias",
           "Septuaginta",
           "Gammel Testamente"
          ]
         ],
         "hovertemplate": "x=%{x}<br>y=%{y}<br>z=%{z}<br>værk=%{customdata[0]}<br>forfatter=%{customdata[1]}<extra></extra>",
         "legendgroup": "Gammel Testamente",
         "marker": {
          "color": "#ab63fa",
          "symbol": "circle"
         },
         "mode": "markers",
         "name": "Gammel Testamente",
         "scene": "scene",
         "showlegend": true,
         "type": "scatter3d",
         "x": [
          5.599032878875732,
          16.482152938842773,
          14.033406257629395,
          4.293750762939453,
          3.8851943016052246,
          -2.0680081844329834,
          23.362274169921875,
          19.006765365600586,
          26.086668014526367,
          26.281166076660156,
          5.899928092956543,
          14.829806327819824,
          24.784595489501953,
          11.285711288452148,
          -2.052272081375122,
          31.08393669128418,
          25.8359317779541,
          9.738638877868652,
          -2.0659103393554688,
          27.29213523864746,
          20.99403953552246,
          11.9323091506958,
          8.265657424926758,
          22.96800994873047,
          27.48239517211914,
          -2.0598220825195312,
          30.88355255126953,
          18.233144760131836,
          1.8254618644714355,
          -2.0615034103393555,
          4.386080741882324,
          10.633493423461914,
          14.578482627868652,
          7.452139854431152,
          28.364477157592773,
          18.614383697509766,
          20.673017501831055,
          24.95792007446289,
          27.248037338256836,
          18.499738693237305,
          30.123483657836914,
          18.871259689331055,
          27.91521644592285,
          28.10793113708496,
          27.718048095703125,
          -2.0667567253112793,
          13.542634963989258,
          10.461138725280762,
          -2.057657241821289,
          7.226791858673096,
          5.780561447143555,
          15.454611778259277,
          18.394128799438477,
          20.445833206176758
         ],
         "y": [
          4.310791492462158,
          -0.45073965191841125,
          0.6912002563476562,
          3.959847927093506,
          3.2222506999969482,
          7.487804889678955,
          -7.0535478591918945,
          -7.058053016662598,
          -6.616711616516113,
          -6.990320682525635,
          4.277241230010986,
          -8.34481430053711,
          -9.038687705993652,
          -6.770584583282471,
          7.48330545425415,
          -6.264076232910156,
          -3.781306505203247,
          3.2069342136383057,
          7.495038032531738,
          -4.933768272399902,
          2.567274332046509,
          1.5070499181747437,
          2.2651641368865967,
          -8.712625503540039,
          -8.732059478759766,
          7.491549491882324,
          -3.082024097442627,
          -20.140113830566406,
          -11.87034797668457,
          7.492276191711426,
          1.741493821144104,
          3.3424124717712402,
          1.3829034566879272,
          2.9961225986480713,
          -8.813343048095703,
          0.5474517941474915,
          -1.0322891473770142,
          -9.946487426757812,
          -12.631070137023926,
          2.933523178100586,
          -3.525864601135254,
          -0.6889168620109558,
          -8.68244457244873,
          -7.9036054611206055,
          -6.2968621253967285,
          7.487534999847412,
          1.5799545049667358,
          3.0159049034118652,
          7.486660003662109,
          1.8922709226608276,
          2.831266164779663,
          0.751385509967804,
          -2.232616901397705,
          -2.896898031234741
         ],
         "z": [
          -3.9812543392181396,
          -1.348494291305542,
          -3.1501760482788086,
          -4.280005931854248,
          -4.968352317810059,
          -7.2490458488464355,
          2.9897148609161377,
          -0.7707558870315552,
          2.2942776679992676,
          -3.6832144260406494,
          -5.672659873962402,
          -1.1282366514205933,
          3.219111680984497,
          -2.2072155475616455,
          -7.2527174949646,
          3.236666679382324,
          2.833057165145874,
          -3.9714152812957764,
          -7.246163368225098,
          1.8415420055389404,
          -1.3004071712493896,
          -1.639861822128296,
          -3.6253163814544678,
          5.134182453155518,
          4.631546497344971,
          -7.240393161773682,
          1.345908522605896,
          2.8478152751922607,
          -2.7454233169555664,
          -7.24000358581543,
          -3.5163824558258057,
          -4.219202518463135,
          -0.7174826264381409,
          -3.4323601722717285,
          2.6086485385894775,
          0.17089718580245972,
          -0.4254620671272278,
          5.333357810974121,
          4.467082977294922,
          -5.000565528869629,
          2.178765058517456,
          -1.975648283958435,
          4.3458571434021,
          5.718625068664551,
          5.2379231452941895,
          -7.242321491241455,
          -2.068112850189209,
          -3.534653902053833,
          -7.242095947265625,
          -5.518359184265137,
          -6.544983386993408,
          -1.2600934505462646,
          -2.5924510955810547,
          -0.7937694787979126
         ]
        },
        {
         "customdata": [
          [
           "Acts - ACT-ΠΡΑΞΕΙΣ ΑΠΟΣΤΟΛΩΝ",
           "\"Luke\" (Anonymous)",
           "Nye Testamente"
          ],
          [
           "Gospel of John - JHN-ΚΑΤΑ ΙΩΑΝΝΗΝ",
           "\"John\" (Anonymous)",
           "Nye Testamente"
          ],
          [
           "The Gospel of Mark - MRK-ΚΑΤΑ ΜΑΡΚΟΝ",
           "\"Mark\" (Anonymous)",
           "Nye Testamente"
          ]
         ],
         "hovertemplate": "x=%{x}<br>y=%{y}<br>z=%{z}<br>værk=%{customdata[0]}<br>forfatter=%{customdata[1]}<extra></extra>",
         "legendgroup": "Nye Testamente",
         "marker": {
          "color": "#FFA15A",
          "symbol": "circle"
         },
         "mode": "markers",
         "name": "Nye Testamente",
         "scene": "scene",
         "showlegend": true,
         "type": "scatter3d",
         "x": [
          8.826302528381348,
          16.70941925048828,
          15.36487102508545
         ],
         "y": [
          -11.378792762756348,
          -4.653485298156738,
          -6.690497875213623
         ],
         "z": [
          -5.1804304122924805,
          -2.6077029705047607,
          -4.192447662353516
         ]
        }
       ],
       "layout": {
        "autosize": true,
        "legend": {
         "title": {
          "text": "category"
         },
         "tracegroupgap": 0
        },
        "margin": {
         "t": 60
        },
        "scene": {
         "aspectmode": "auto",
         "aspectratio": {
          "x": 1.1254536498409842,
          "y": 1.0441811248667707,
          "z": 0.8509353146008128
         },
         "camera": {
          "center": {
           "x": 0,
           "y": 0,
           "z": 0
          },
          "eye": {
           "x": 0.3475289135431658,
           "y": 2.0909106093787235,
           "z": 0.7188044019287216
          },
          "projection": {
           "type": "perspective"
          },
          "up": {
           "x": 0,
           "y": 0,
           "z": 1
          }
         },
         "domain": {
          "x": [
           0,
           1
          ],
          "y": [
           0,
           1
          ]
         },
         "xaxis": {
          "title": {
           "text": "x"
          },
          "type": "linear"
         },
         "yaxis": {
          "title": {
           "text": "y"
          },
          "type": "linear"
         },
         "zaxis": {
          "title": {
           "text": "z"
          },
          "type": "linear"
         }
        },
        "template": {
         "data": {
          "bar": [
           {
            "error_x": {
             "color": "#2a3f5f"
            },
            "error_y": {
             "color": "#2a3f5f"
            },
            "marker": {
             "line": {
              "color": "#E5ECF6",
              "width": 0.5
             },
             "pattern": {
              "fillmode": "overlay",
              "size": 10,
              "solidity": 0.2
             }
            },
            "type": "bar"
           }
          ],
          "barpolar": [
           {
            "marker": {
             "line": {
              "color": "#E5ECF6",
              "width": 0.5
             },
             "pattern": {
              "fillmode": "overlay",
              "size": 10,
              "solidity": 0.2
             }
            },
            "type": "barpolar"
           }
          ],
          "carpet": [
           {
            "aaxis": {
             "endlinecolor": "#2a3f5f",
             "gridcolor": "white",
             "linecolor": "white",
             "minorgridcolor": "white",
             "startlinecolor": "#2a3f5f"
            },
            "baxis": {
             "endlinecolor": "#2a3f5f",
             "gridcolor": "white",
             "linecolor": "white",
             "minorgridcolor": "white",
             "startlinecolor": "#2a3f5f"
            },
            "type": "carpet"
           }
          ],
          "choropleth": [
           {
            "colorbar": {
             "outlinewidth": 0,
             "ticks": ""
            },
            "type": "choropleth"
           }
          ],
          "contour": [
           {
            "colorbar": {
             "outlinewidth": 0,
             "ticks": ""
            },
            "colorscale": [
             [
              0,
              "#0d0887"
             ],
             [
              0.1111111111111111,
              "#46039f"
             ],
             [
              0.2222222222222222,
              "#7201a8"
             ],
             [
              0.3333333333333333,
              "#9c179e"
             ],
             [
              0.4444444444444444,
              "#bd3786"
             ],
             [
              0.5555555555555556,
              "#d8576b"
             ],
             [
              0.6666666666666666,
              "#ed7953"
             ],
             [
              0.7777777777777778,
              "#fb9f3a"
             ],
             [
              0.8888888888888888,
              "#fdca26"
             ],
             [
              1,
              "#f0f921"
             ]
            ],
            "type": "contour"
           }
          ],
          "contourcarpet": [
           {
            "colorbar": {
             "outlinewidth": 0,
             "ticks": ""
            },
            "type": "contourcarpet"
           }
          ],
          "heatmap": [
           {
            "colorbar": {
             "outlinewidth": 0,
             "ticks": ""
            },
            "colorscale": [
             [
              0,
              "#0d0887"
             ],
             [
              0.1111111111111111,
              "#46039f"
             ],
             [
              0.2222222222222222,
              "#7201a8"
             ],
             [
              0.3333333333333333,
              "#9c179e"
             ],
             [
              0.4444444444444444,
              "#bd3786"
             ],
             [
              0.5555555555555556,
              "#d8576b"
             ],
             [
              0.6666666666666666,
              "#ed7953"
             ],
             [
              0.7777777777777778,
              "#fb9f3a"
             ],
             [
              0.8888888888888888,
              "#fdca26"
             ],
             [
              1,
              "#f0f921"
             ]
            ],
            "type": "heatmap"
           }
          ],
          "heatmapgl": [
           {
            "colorbar": {
             "outlinewidth": 0,
             "ticks": ""
            },
            "colorscale": [
             [
              0,
              "#0d0887"
             ],
             [
              0.1111111111111111,
              "#46039f"
             ],
             [
              0.2222222222222222,
              "#7201a8"
             ],
             [
              0.3333333333333333,
              "#9c179e"
             ],
             [
              0.4444444444444444,
              "#bd3786"
             ],
             [
              0.5555555555555556,
              "#d8576b"
             ],
             [
              0.6666666666666666,
              "#ed7953"
             ],
             [
              0.7777777777777778,
              "#fb9f3a"
             ],
             [
              0.8888888888888888,
              "#fdca26"
             ],
             [
              1,
              "#f0f921"
             ]
            ],
            "type": "heatmapgl"
           }
          ],
          "histogram": [
           {
            "marker": {
             "pattern": {
              "fillmode": "overlay",
              "size": 10,
              "solidity": 0.2
             }
            },
            "type": "histogram"
           }
          ],
          "histogram2d": [
           {
            "colorbar": {
             "outlinewidth": 0,
             "ticks": ""
            },
            "colorscale": [
             [
              0,
              "#0d0887"
             ],
             [
              0.1111111111111111,
              "#46039f"
             ],
             [
              0.2222222222222222,
              "#7201a8"
             ],
             [
              0.3333333333333333,
              "#9c179e"
             ],
             [
              0.4444444444444444,
              "#bd3786"
             ],
             [
              0.5555555555555556,
              "#d8576b"
             ],
             [
              0.6666666666666666,
              "#ed7953"
             ],
             [
              0.7777777777777778,
              "#fb9f3a"
             ],
             [
              0.8888888888888888,
              "#fdca26"
             ],
             [
              1,
              "#f0f921"
             ]
            ],
            "type": "histogram2d"
           }
          ],
          "histogram2dcontour": [
           {
            "colorbar": {
             "outlinewidth": 0,
             "ticks": ""
            },
            "colorscale": [
             [
              0,
              "#0d0887"
             ],
             [
              0.1111111111111111,
              "#46039f"
             ],
             [
              0.2222222222222222,
              "#7201a8"
             ],
             [
              0.3333333333333333,
              "#9c179e"
             ],
             [
              0.4444444444444444,
              "#bd3786"
             ],
             [
              0.5555555555555556,
              "#d8576b"
             ],
             [
              0.6666666666666666,
              "#ed7953"
             ],
             [
              0.7777777777777778,
              "#fb9f3a"
             ],
             [
              0.8888888888888888,
              "#fdca26"
             ],
             [
              1,
              "#f0f921"
             ]
            ],
            "type": "histogram2dcontour"
           }
          ],
          "mesh3d": [
           {
            "colorbar": {
             "outlinewidth": 0,
             "ticks": ""
            },
            "type": "mesh3d"
           }
          ],
          "parcoords": [
           {
            "line": {
             "colorbar": {
              "outlinewidth": 0,
              "ticks": ""
             }
            },
            "type": "parcoords"
           }
          ],
          "pie": [
           {
            "automargin": true,
            "type": "pie"
           }
          ],
          "scatter": [
           {
            "fillpattern": {
             "fillmode": "overlay",
             "size": 10,
             "solidity": 0.2
            },
            "type": "scatter"
           }
          ],
          "scatter3d": [
           {
            "line": {
             "colorbar": {
              "outlinewidth": 0,
              "ticks": ""
             }
            },
            "marker": {
             "colorbar": {
              "outlinewidth": 0,
              "ticks": ""
             }
            },
            "type": "scatter3d"
           }
          ],
          "scattercarpet": [
           {
            "marker": {
             "colorbar": {
              "outlinewidth": 0,
              "ticks": ""
             }
            },
            "type": "scattercarpet"
           }
          ],
          "scattergeo": [
           {
            "marker": {
             "colorbar": {
              "outlinewidth": 0,
              "ticks": ""
             }
            },
            "type": "scattergeo"
           }
          ],
          "scattergl": [
           {
            "marker": {
             "colorbar": {
              "outlinewidth": 0,
              "ticks": ""
             }
            },
            "type": "scattergl"
           }
          ],
          "scattermapbox": [
           {
            "marker": {
             "colorbar": {
              "outlinewidth": 0,
              "ticks": ""
             }
            },
            "type": "scattermapbox"
           }
          ],
          "scatterpolar": [
           {
            "marker": {
             "colorbar": {
              "outlinewidth": 0,
              "ticks": ""
             }
            },
            "type": "scatterpolar"
           }
          ],
          "scatterpolargl": [
           {
            "marker": {
             "colorbar": {
              "outlinewidth": 0,
              "ticks": ""
             }
            },
            "type": "scatterpolargl"
           }
          ],
          "scatterternary": [
           {
            "marker": {
             "colorbar": {
              "outlinewidth": 0,
              "ticks": ""
             }
            },
            "type": "scatterternary"
           }
          ],
          "surface": [
           {
            "colorbar": {
             "outlinewidth": 0,
             "ticks": ""
            },
            "colorscale": [
             [
              0,
              "#0d0887"
             ],
             [
              0.1111111111111111,
              "#46039f"
             ],
             [
              0.2222222222222222,
              "#7201a8"
             ],
             [
              0.3333333333333333,
              "#9c179e"
             ],
             [
              0.4444444444444444,
              "#bd3786"
             ],
             [
              0.5555555555555556,
              "#d8576b"
             ],
             [
              0.6666666666666666,
              "#ed7953"
             ],
             [
              0.7777777777777778,
              "#fb9f3a"
             ],
             [
              0.8888888888888888,
              "#fdca26"
             ],
             [
              1,
              "#f0f921"
             ]
            ],
            "type": "surface"
           }
          ],
          "table": [
           {
            "cells": {
             "fill": {
              "color": "#EBF0F8"
             },
             "line": {
              "color": "white"
             }
            },
            "header": {
             "fill": {
              "color": "#C8D4E3"
             },
             "line": {
              "color": "white"
             }
            },
            "type": "table"
           }
          ]
         },
         "layout": {
          "annotationdefaults": {
           "arrowcolor": "#2a3f5f",
           "arrowhead": 0,
           "arrowwidth": 1
          },
          "autotypenumbers": "strict",
          "coloraxis": {
           "colorbar": {
            "outlinewidth": 0,
            "ticks": ""
           }
          },
          "colorscale": {
           "diverging": [
            [
             0,
             "#8e0152"
            ],
            [
             0.1,
             "#c51b7d"
            ],
            [
             0.2,
             "#de77ae"
            ],
            [
             0.3,
             "#f1b6da"
            ],
            [
             0.4,
             "#fde0ef"
            ],
            [
             0.5,
             "#f7f7f7"
            ],
            [
             0.6,
             "#e6f5d0"
            ],
            [
             0.7,
             "#b8e186"
            ],
            [
             0.8,
             "#7fbc41"
            ],
            [
             0.9,
             "#4d9221"
            ],
            [
             1,
             "#276419"
            ]
           ],
           "sequential": [
            [
             0,
             "#0d0887"
            ],
            [
             0.1111111111111111,
             "#46039f"
            ],
            [
             0.2222222222222222,
             "#7201a8"
            ],
            [
             0.3333333333333333,
             "#9c179e"
            ],
            [
             0.4444444444444444,
             "#bd3786"
            ],
            [
             0.5555555555555556,
             "#d8576b"
            ],
            [
             0.6666666666666666,
             "#ed7953"
            ],
            [
             0.7777777777777778,
             "#fb9f3a"
            ],
            [
             0.8888888888888888,
             "#fdca26"
            ],
            [
             1,
             "#f0f921"
            ]
           ],
           "sequentialminus": [
            [
             0,
             "#0d0887"
            ],
            [
             0.1111111111111111,
             "#46039f"
            ],
            [
             0.2222222222222222,
             "#7201a8"
            ],
            [
             0.3333333333333333,
             "#9c179e"
            ],
            [
             0.4444444444444444,
             "#bd3786"
            ],
            [
             0.5555555555555556,
             "#d8576b"
            ],
            [
             0.6666666666666666,
             "#ed7953"
            ],
            [
             0.7777777777777778,
             "#fb9f3a"
            ],
            [
             0.8888888888888888,
             "#fdca26"
            ],
            [
             1,
             "#f0f921"
            ]
           ]
          },
          "colorway": [
           "#636efa",
           "#EF553B",
           "#00cc96",
           "#ab63fa",
           "#FFA15A",
           "#19d3f3",
           "#FF6692",
           "#B6E880",
           "#FF97FF",
           "#FECB52"
          ],
          "font": {
           "color": "#2a3f5f"
          },
          "geo": {
           "bgcolor": "white",
           "lakecolor": "white",
           "landcolor": "#E5ECF6",
           "showlakes": true,
           "showland": true,
           "subunitcolor": "white"
          },
          "hoverlabel": {
           "align": "left"
          },
          "hovermode": "closest",
          "mapbox": {
           "style": "light"
          },
          "paper_bgcolor": "white",
          "plot_bgcolor": "#E5ECF6",
          "polar": {
           "angularaxis": {
            "gridcolor": "white",
            "linecolor": "white",
            "ticks": ""
           },
           "bgcolor": "#E5ECF6",
           "radialaxis": {
            "gridcolor": "white",
            "linecolor": "white",
            "ticks": ""
           }
          },
          "scene": {
           "xaxis": {
            "backgroundcolor": "#E5ECF6",
            "gridcolor": "white",
            "gridwidth": 2,
            "linecolor": "white",
            "showbackground": true,
            "ticks": "",
            "zerolinecolor": "white"
           },
           "yaxis": {
            "backgroundcolor": "#E5ECF6",
            "gridcolor": "white",
            "gridwidth": 2,
            "linecolor": "white",
            "showbackground": true,
            "ticks": "",
            "zerolinecolor": "white"
           },
           "zaxis": {
            "backgroundcolor": "#E5ECF6",
            "gridcolor": "white",
            "gridwidth": 2,
            "linecolor": "white",
            "showbackground": true,
            "ticks": "",
            "zerolinecolor": "white"
           }
          },
          "shapedefaults": {
           "line": {
            "color": "#2a3f5f"
           }
          },
          "ternary": {
           "aaxis": {
            "gridcolor": "white",
            "linecolor": "white",
            "ticks": ""
           },
           "baxis": {
            "gridcolor": "white",
            "linecolor": "white",
            "ticks": ""
           },
           "bgcolor": "#E5ECF6",
           "caxis": {
            "gridcolor": "white",
            "linecolor": "white",
            "ticks": ""
           }
          },
          "title": {
           "x": 0.05
          },
          "xaxis": {
           "automargin": true,
           "gridcolor": "white",
           "linecolor": "white",
           "ticks": "",
           "title": {
            "standoff": 15
           },
           "zerolinecolor": "white",
           "zerolinewidth": 2
          },
          "yaxis": {
           "automargin": true,
           "gridcolor": "white",
           "linecolor": "white",
           "ticks": "",
           "title": {
            "standoff": 15
           },
           "zerolinecolor": "white",
           "zerolinewidth": 2
          }
         }
        }
       }
      },
      "image/png": "[encoded data removed]",
      "text/html": [
       "<div>                            <div id=\"eeac2271-4d0e-4a27-bbda-0084d7e6de0b\" class=\"plotly-graph-div\" style=\"height:800px; width:100%;\"></div>            <script type=\"text/javascript\">                require([\"plotly\"], function(Plotly) {                    window.PLOTLYENV=window.PLOTLYENV || {};                                    if (document.getElementById(\"eeac2271-4d0e-4a27-bbda-0084d7e6de0b\")) {                    Plotly.newPlot(                        \"eeac2271-4d0e-4a27-bbda-0084d7e6de0b\",                        [{\"customdata\":[[\"Leucippe et Clitophon\",\"Achilles Tatius\",\"Narratio Ficta\"],[\"De Chaerea et Callirhoe - Chaereas and Kallirhoe\",\"Chariton\",\"Narratio Ficta\"],[\"\\u1f49\\u03bc\\u03af\\u03bb\\u03b1\\u03b9\",\"Clemens Romanus\",\"Narratio Ficta\"],[\"Aethiopica\",\"Heliodorus of Emesa\",\"Narratio Ficta\"],[\"Babyloniaca\",\"Iamblichus (TLG = 1441)\",\"Narratio Ficta\"],[\"Daphnis and Chloe\",\"Longus\",\"Narratio Ficta\"],[\"51. Love Stories (Amatoriae narrationes) - \\u1f18\\u03c1\\u03c9\\u03c4\\u03b9\\u03ba\\u03b1\\u1f76 \\u03b4\\u03b9\\u03b7\\u03b3\\u03ae\\u03c3\\u03b5\\u03b9\\u03c2\",\"Plutarch\",\"Narratio Ficta\"],[\"The Stories of Sinbad - Narrationes de Syntipa\",\"Michael Andreopulus (Syntipas)\",\"Narratio Ficta\"],[\"Vita Aesopi Pl vel Accursiana (sub auctore Maximo Planude) (recensio 1)\",\"Vitae Aesopi\",\"Narratio Ficta\"],[\"Ephesiaca\",\"Xenophon of Ephesus\",\"Narratio Ficta\"]],\"hovertemplate\":\"x=%{x}<br>y=%{y}<br>z=%{z}<br>v\\u00e6rk=%{customdata[0]}<br>forfatter=%{customdata[1]}<extra></extra>\",\"legendgroup\":\"Narratio Ficta\",\"marker\":{\"color\":\"#636efa\",\"symbol\":\"circle\"},\"mode\":\"markers\",\"name\":\"Narratio Ficta\",\"scene\":\"scene\",\"showlegend\":true,\"x\":[-0.303676962852478,0.45788806676864624,5.622982978820801,-7.751169204711914,-1.41249418258667,-3.9020612239837646,-6.934413433074951,4.003242015838623,0.517464280128479,-5.523460865020752],\"y\":[8.561030387878418,20.13424301147461,4.040165424346924,6.336866855621338,6.568689346313477,6.136134147644043,1.9080994129180908,4.755471229553223,5.623039722442627,3.853600263595581],\"z\":[-3.077172040939331,9.08835506439209,-8.417829513549805,3.798569679260254,-5.043558597564697,4.975838661193848,-2.7465858459472656,-4.099508762359619,-4.470493316650391,6.214998245239258],\"type\":\"scatter3d\"},{\"customdata\":[[\"Historiae\",\"Agathias Scholasticus\",\"Historica\"],[\"Alexias\",\"Anna Comnena\",\"Historica\"],[\"\\u0399\\u03b2\\u03b7\\u03c1\\u03b9\\u03ba\\u03ae\",\"Appian\",\"Historica\"],[\"\\u039b\\u03b9\\u03b2\\u03c5\\u03ba\\u03ae\",\"Appian\",\"Historica\"],[\"\\u039c\\u03b9\\u03b8\\u03c1\\u03b9\\u03b4\\u03ac\\u03c4\\u03b5\\u03b9\\u03bf\\u03c2\",\"Appian\",\"Historica\"],[\"\\u03a3\\u03c5\\u03c1\\u03b9\\u03b1\\u03ba\\u03ae\",\"Appian\",\"Historica\"],[\"\\u1f08\\u03bd\\u03bd\\u03b9\\u03b2\\u03b1\\u03ca\\u03ba\\u03ae\",\"Appian\",\"Historica\"],[\"\\u1f10\\u03ba \\u03c4\\u1fc6\\u03c2 \\u039a\\u03b5\\u03bb\\u03c4\\u1fd6\\u03ba\\u03b7\\u03c2 (Celtica)\",\"Appian\",\"Historica\"],[\"\\u1f10\\u03ba \\u03c4\\u1fc6\\u03c2 \\u039c\\u03b1\\u03ba\\u03b5\\u03b4\\u03bf\\u03bd\\u03b9\\u03ba\\u1fc6\\u03c2\",\"Appian\",\"Historica\"],[\"\\u1f10\\u03ba \\u03c4\\u1fc6\\u03c2 \\u03a3\\u03b1\\u03c5\\u03bd\\u03b9\\u03c4\\u03b9\\u03ba\\u1fc6\\u03c2\",\"Appian\",\"Historica\"],[\"\\u1f10\\u03ba \\u03c4\\u1fc6\\u03c2 \\u03a3\\u03b9\\u03ba\\u03b5\\u03bb\\u1fd6\\u03ba\\u03b7\\u03c2 \\u03ba\\u03b1\\u1f76 \\u03bd\\u03b7\\u03c3\\u03b9\\u03c9\\u03c4\\u03b9\\u03ba\\u03ae\\u03c2\",\"Appian\",\"Historica\"],[\"\\u1f10\\u03ba \\u03c4\\u1fc6\\u03c2 \\u03b2\\u03b1\\u03c3\\u03b9\\u03bb\\u03b9\\u03ba\\u1fc6\\u03c2\",\"Appian\",\"Historica\"],[\"\\u1f10\\u03ba \\u03c4\\u1fc6\\u03c2 \\u1f38\\u03c4\\u03b1\\u03bb\\u03b9\\u03ba\\u1fc6\\u03c2\",\"Appian\",\"Historica\"],[\"\\u1f18\\u03bc\\u03c6\\u03c5\\u03bb\\u03af\\u03c9\\u03bd \\u03a0\\u03c1\\u03ce\\u03c4\\u03b7 (Bellum civile...?) (TLG = 017)\",\"Appian\",\"Historica\"],[\"\\u1f38\\u03bb\\u03bb\\u03c5\\u03c1\\u03b9\\u03ba\\u03ae\",\"Appian\",\"Historica\"],[\"Acies contra Alanos - Ektaxis kata Alanon\",\"Arrian\",\"Historica\"],[\"Anabasis of Alexander\",\"Arrian\",\"Historica\"],[\"Cynegeticus - the hunting man (hunting dogs)\",\"Arrian\",\"Historica\"],[\"Historia Indica\",\"Arrian\",\"Historica\"],[\"Historiae Romanae\",\"Cassius Dio\",\"Historica\"],[\"Bibliotheca Historica, Books I-V\",\"Diodorus Siculus\",\"Historica\"],[\"Bibliotheca Historica, Books XVIII-XX\",\"Diodorus Siculus\",\"Historica\"],[\"Antiquitates Romanae, Books I-XX (incompl.?)\",\"Dionysius of Halicarnassus\",\"Historica\"],[\"Summary of Roman History - Breviarium historiae romanae\",\"Eutropius (oversat fra latin til gr\\u00e6sk i 380 AD af Paeanius)\",\"Historica\"],[\"Jewish Antiquitites - Antiquitates Judaicae\",\"Flavius Josephus\",\"Historica\"],[\"The Jewish War - De bello Judaico libri vii (KUN BOG 7\\u2026?)\",\"Flavius Josephus\",\"Historica\"],[\"The Histories\",\"Herodotus\",\"Historica\"],[\"Histories\",\"Polybius\",\"Historica\"],[\"Secret History - \\u1f08\\u03c0\\u03cc\\u03ba\\u03c1\\u03c5\\u03c6\\u03b7 \\u1f39\\u03c3\\u03c4\\u03bf\\u03c1\\u03af\\u03b1, Historia Arcana (Anecdota)\",\"Procopius\",\"Historica\"],[\"On the Wars / History of the Wars - De Bellis\",\"Procopius\",\"Historica\"],[\"The Peloponnesian War\",\"Thucydides\",\"Historica\"],[\"Anabasis\",\"Xenophon of Athens\",\"Historica\"],[\"Historia Nova\",\"Zosimus\",\"Historica\"]],\"hovertemplate\":\"x=%{x}<br>y=%{y}<br>z=%{z}<br>v\\u00e6rk=%{customdata[0]}<br>forfatter=%{customdata[1]}<extra></extra>\",\"legendgroup\":\"Historica\",\"marker\":{\"color\":\"#EF553B\",\"symbol\":\"circle\"},\"mode\":\"markers\",\"name\":\"Historica\",\"scene\":\"scene\",\"showlegend\":true,\"x\":[-9.908699989318848,-5.663303375244141,-11.77463150024414,-11.08645248413086,-2.629136800765991,-12.855682373046875,-1.1635668277740479,-8.048008918762207,-9.488372802734375,-3.951265573501587,-7.346370697021484,-4.115392684936523,-5.969812870025635,-14.037700653076172,-10.186017036437988,-2.0591533184051514,-12.27755069732666,-6.635865211486816,-5.739971160888672,-10.120129585266113,-4.702938556671143,5.369659900665283,-10.849750518798828,-2.0564424991607666,-4.790083408355713,-9.795951843261719,-5.098031997680664,-10.517000198364258,-9.426777839660645,-8.831903457641602,-9.726242065429688,-6.509037017822266,-11.37845516204834],\"y\":[1.2115706205368042,-5.850306987762451,-10.459590911865234,-5.830500602722168,16.989177703857422,-6.426504611968994,20.249048233032227,-1.0552363395690918,-3.0564002990722656,10.415684700012207,-1.1263970136642456,3.602185010910034,1.8248721361160278,-11.237382888793945,-5.277617931365967,7.482025623321533,-5.517223834991455,2.219477891921997,8.576114654541016,-8.482081413269043,0.2341555953025818,23.097900390625,3.5884110927581787,7.481156826019287,-4.583044052124023,-13.297032356262207,10.338679313659668,-13.081838607788086,-4.011704921722412,-4.143994331359863,-0.10041873902082443,0.25931307673454285,-7.153558254241943],\"z\":[18.76302719116211,15.836465835571289,15.224713325500488,13.065396308898926,8.26535415649414,12.117973327636719,9.216826438903809,3.0737109184265137,2.603728771209717,-0.40236490964889526,2.3424720764160156,-2.3597350120544434,-1.6928048133850098,13.890219688415527,9.50104808807373,-7.241955757141113,16.728801727294922,-6.569555282592773,21.690500259399414,11.641443252563477,-6.425961017608643,15.850260734558105,7.5005269050598145,-7.241250038146973,3.7808356285095215,6.572990417480469,20.021583557128906,2.1420159339904785,14.752616882324219,22.470075607299805,9.12203311920166,9.659110069274902,11.341451644897461],\"type\":\"scatter3d\"},{\"customdata\":[[\"Vitae Sophistarum (23 stk)\",\"Eunapius\",\"Biographa\"],[\"Demonax\",\"Lucian\",\"Biographa\"],[\"Life of the Sophists - Vitae Sophistarum (flere)\",\"Philostratus the Athenian\",\"Biographa\"],[\"Aemilius Paulus\",\"Plutarch\",\"Biographa\"],[\"Agesilaus\",\"Plutarch\",\"Biographa\"],[\"Agis and Cleomenes\",\"Plutarch\",\"Biographa\"],[\"Alcibiades\",\"Plutarch\",\"Biographa\"],[\"Alexander\",\"Plutarch\",\"Biographa\"],[\"Antony\",\"Plutarch\",\"Biographa\"],[\"Aratus\",\"Plutarch\",\"Biographa\"],[\"Artaxerxes\",\"Plutarch\",\"Biographa\"],[\"Brutus\",\"Plutarch\",\"Biographa\"],[\"Caesar\",\"Plutarch\",\"Biographa\"],[\"Caius Marcius Coriolanus\",\"Plutarch\",\"Biographa\"],[\"Caius Marius\",\"Plutarch\",\"Biographa\"],[\"Camillus\",\"Plutarch\",\"Biographa\"],[\"Cato the Younger (Minor)\",\"Plutarch\",\"Biographa\"],[\"Cicero\",\"Plutarch\",\"Biographa\"],[\"Cimon\",\"Plutarch\",\"Biographa\"],[\"Comparison of Agesilaus and Pompey\",\"Plutarch\",\"Biographa\"],[\"Comparison of Agis and Cleomenes and the Gracchi\",\"Plutarch\",\"Biographa\"],[\"Comparison of Alcibiades and Coriolanus\",\"Plutarch\",\"Biographa\"],[\"Comparison of Aristides and Marcus Cato\",\"Plutarch\",\"Biographa\"],[\"Comparison of Demetrius and Antony\",\"Plutarch\",\"Biographa\"],[\"Comparison of Demosthenes and Cicero\",\"Plutarch\",\"Biographa\"],[\"Comparison of Dion and Brutus\",\"Plutarch\",\"Biographa\"],[\"Comparison of Lucullus and Cimon\",\"Plutarch\",\"Biographa\"],[\"Comparison of Lycurgus and Numa\",\"Plutarch\",\"Biographa\"],[\"Comparison of Lysander and Sulla\",\"Plutarch\",\"Biographa\"],[\"Comparison of Nicias and Crassus\",\"Plutarch\",\"Biographa\"],[\"Comparison of Pelopidas and Marcellus\",\"Plutarch\",\"Biographa\"],[\"Comparison of Pericles and Fabius Maximus\",\"Plutarch\",\"Biographa\"],[\"Comparison of Philopoemen and Titus\",\"Plutarch\",\"Biographa\"],[\"Comparison of Solon and Publicola\",\"Plutarch\",\"Biographa\"],[\"Comparison of Theseus and Romulus\",\"Plutarch\",\"Biographa\"],[\"Crassus\",\"Plutarch\",\"Biographa\"],[\"Demetrius\",\"Plutarch\",\"Biographa\"],[\"Demosthenes\",\"Plutarch\",\"Biographa\"],[\"Dion\",\"Plutarch\",\"Biographa\"],[\"Eumenes\",\"Plutarch\",\"Biographa\"],[\"Fabius Maximus\",\"Plutarch\",\"Biographa\"],[\"Galba\",\"Plutarch\",\"Biographa\"],[\"Lucullus\",\"Plutarch\",\"Biographa\"],[\"Lycurgus\",\"Plutarch\",\"Biographa\"],[\"Lysander\",\"Plutarch\",\"Biographa\"],[\"Machine readable text\",\"Plutarch\",\"Biographa\"],[\"Marcellus\",\"Plutarch\",\"Biographa\"],[\" Marcus Cato (Maior)\",\"Plutarch\",\"Biographa\"],[\"Nicias\",\"Plutarch\",\"Biographa\"],[\"Numa\",\"Plutarch\",\"Biographa\"],[\"Otho\",\"Plutarch\",\"Biographa\"],[\"Pelopidas\",\"Plutarch\",\"Biographa\"],[\"Pericles\",\"Plutarch\",\"Biographa\"],[\"Philopoemen\",\"Plutarch\",\"Biographa\"],[\"Phocion\",\"Plutarch\",\"Biographa\"],[\"Pompey\",\"Plutarch\",\"Biographa\"],[\"Publicola\",\"Plutarch\",\"Biographa\"],[\"Pyrrhus\",\"Plutarch\",\"Biographa\"],[\"Romulus\",\"Plutarch\",\"Biographa\"],[\"Sertorius\",\"Plutarch\",\"Biographa\"],[\"Solon\",\"Plutarch\",\"Biographa\"],[\"Sulla\",\"Plutarch\",\"Biographa\"],[\"Themistocles\",\"Plutarch\",\"Biographa\"],[\"Theseus\",\"Plutarch\",\"Biographa\"],[\"Tiberius and Caius Gracchus\",\"Plutarch\",\"Biographa\"],[\"Timoleon\",\"Plutarch\",\"Biographa\"],[\"Titus Flamininus\",\"Plutarch\",\"Biographa\"],[\"58. Lives of the Ten Orators Vitae decem oratorum) - Vitae decem oratorum\",\"Plutarch\",\"Biographa\"],[\"Vitae Euripidis\",\"Scholia in Euripidem\",\"Biographa\"],[\"Vita Hippocratis Secundum Soranum\",\"Soranus\",\"Biographa\"],[\"Plutarchi vita\",\"Vitae Homeri\",\"Biographa\"],[\"Sudae vita\",\"Vitae Homeri\",\"Biographa\"],[\"Vita Herodotea\",\"Vitae Homeri\",\"Biographa\"],[\"Vita Proculea (e Chrestomathia)\",\"Vitae Homeri\",\"Biographa\"],[\"Vita sexta\",\"Vitae Homeri\",\"Biographa\"]],\"hovertemplate\":\"x=%{x}<br>y=%{y}<br>z=%{z}<br>v\\u00e6rk=%{customdata[0]}<br>forfatter=%{customdata[1]}<extra></extra>\",\"legendgroup\":\"Biographa\",\"marker\":{\"color\":\"#00cc96\",\"symbol\":\"circle\"},\"mode\":\"markers\",\"name\":\"Biographa\",\"scene\":\"scene\",\"showlegend\":true,\"x\":[-2.5102779865264893,-5.543828964233398,7.619224548339844,-13.718794822692871,-13.259748458862305,-6.019050598144531,-14.293717384338379,-12.574359893798828,-15.519454002380371,-6.965530872344971,-10.95090389251709,-15.106362342834473,-14.378134727478027,-12.914395332336426,-6.130346775054932,-14.220926284790039,-2.0671911239624023,-14.280898094177246,-4.937099933624268,-2.0720019340515137,-7.477949619293213,-2.099299907684326,-4.7071332931518555,-4.108543872833252,-6.886101245880127,1.1933684349060059,-6.355696201324463,-6.2134904861450195,-1.0436168909072876,4.877148628234863,-6.197638511657715,-1.4334455728530884,-10.34068489074707,8.238741874694824,-5.604127883911133,-14.264331817626953,-12.978842735290527,-11.279458999633789,-2.837286949157715,-13.074070930480957,-13.302867889404297,-4.1286444664001465,-15.433379173278809,-0.6920261383056641,-11.48777961730957,-12.001235961914062,-13.991643905639648,-11.892742156982422,-1.930478811264038,-10.867574691772461,-12.31132698059082,-13.674721717834473,-12.615983009338379,-13.22785758972168,-10.884172439575195,-15.138002395629883,-6.097918510437012,-15.302804946899414,0.09658880531787872,-14.933191299438477,-2.0606846809387207,-14.549147605895996,-11.488140106201172,-12.788073539733887,-12.406832695007324,-14.548959732055664,-13.517873764038086,-8.036771774291992,-3.669991970062256,-0.05565868690609932,-3.54533052444458,-1.8484009504318237,-3.209325075149536,-2.705667495727539,-3.0031845569610596],\"y\":[5.588297367095947,4.591297149658203,3.712148427963257,-8.08503246307373,-7.428542613983154,2.7453255653381348,-5.671360015869141,-5.76423978805542,-11.377494812011719,2.074867010116577,-5.0903472900390625,-9.814899444580078,-8.693466186523438,-6.906722545623779,8.706188201904297,-9.407979011535645,7.48953104019165,-10.450736045837402,6.96907901763916,4.130498886108398,2.215960741043091,7.660089492797852,8.409992218017578,-0.8187946677207947,2.4586031436920166,8.777143478393555,3.2279374599456787,-1.0627641677856445,19.781108856201172,20.189411163330078,3.28157114982605,15.492202758789062,0.234047994017601,22.89999771118164,4.175309181213379,-11.120960235595703,-7.489824295043945,-2.280303478240967,7.789109706878662,-8.395702362060547,-8.502071380615234,4.00646448135376,-11.005600929260254,21.61077880859375,2.410839080810547,-3.9379029273986816,-7.131597995758057,-6.248143672943115,10.716115951538086,-1.731234073638916,-7.723066806793213,-5.474438190460205,-2.611039161682129,-6.459516525268555,-6.323546886444092,-11.94034481048584,-14.018765449523926,-7.830503463745117,20.112791061401367,-9.410618782043457,7.492314338684082,-9.272064208984375,-2.4557719230651855,2.044647455215454,-11.453226089477539,-7.222537994384766,-6.169399261474609,-2.004441499710083,7.256740093231201,8.132619857788086,8.378280639648438,9.605364799499512,10.999983787536621,7.336740493774414,7.0516743659973145],\"z\":[-5.526304244995117,-4.893066883087158,-6.828588008880615,-1.158578634262085,-1.548250675201416,-5.600732803344727,-4.003787517547607,-3.0949976444244385,0.22978758811950684,-5.34193229675293,-1.0983580350875854,-0.8077250719070435,-4.032321929931641,-2.5150089263916016,1.1935867071151733,1.0070745944976807,-7.244349956512451,-3.3821489810943604,-12.765912055969238,-2.942950963973999,-5.858623504638672,-5.908932685852051,-1.437023401260376,-10.00670337677002,-7.016688823699951,-6.20296049118042,-5.071484088897705,-8.077503204345703,10.207164764404297,15.597555160522461,-4.845025539398193,0.046868667006492615,-1.989266037940979,21.612125396728516,-5.18753719329834,2.831737995147705,-3.8133840560913086,-8.886564254760742,-5.9749369621276855,0.6853875517845154,-0.3103015720844269,-5.850979328155518,1.3955265283584595,8.847485542297363,-2.232203245162964,-3.860412120819092,-0.5306018590927124,-5.873642921447754,-4.567739486694336,-4.4902496337890625,-1.4899235963821411,-3.7414300441741943,-6.530585765838623,-2.384248971939087,-6.837568283081055,2.2166359424591064,0.8460759520530701,1.4647811651229858,8.863727569580078,1.9549018144607544,-7.252277851104736,-0.46621957421302795,-3.967677593231201,-2.248065233230591,-2.8298451900482178,-3.3794665336608887,-0.8438547253608704,-6.6674485206604,-4.118879795074463,-6.050753116607666,-4.334555625915527,-0.8712301850318909,4.523621559143066,-6.186346054077148,-5.679360866546631],\"type\":\"scatter3d\"},{\"customdata\":[[\"Aggaeus\",\"Septuaginta\",\"Gammel Testamente\"],[\"Amos\",\"Septuaginta\",\"Gammel Testamente\"],[\"Baruch\",\"Septuaginta\",\"Gammel Testamente\"],[\"Bel et Draco Theodotionis versio\",\"Septuaginta\",\"Gammel Testamente\"],[\"Bel et Draco translatio Graeca\",\"Septuaginta\",\"Gammel Testamente\"],[\"Canticum\",\"Septuaginta\",\"Gammel Testamente\"],[\"Daniel Theodotionis versio\",\"Septuaginta\",\"Gammel Testamente\"],[\"Daniel translatio Graeca\",\"Septuaginta\",\"Gammel Testamente\"],[\"Deuteronomium\",\"Septuaginta\",\"Gammel Testamente\"],[\"Ecclesiasticus\",\"Septuaginta\",\"Gammel Testamente\"],[\"Epistula Jeremiae\",\"Septuaginta\",\"Gammel Testamente\"],[\"Esdras A\",\"Septuaginta\",\"Gammel Testamente\"],[\"Esdras B\",\"Septuaginta\",\"Gammel Testamente\"],[\"Esther\",\"Septuaginta\",\"Gammel Testamente\"],[\"Exodus\",\"Septuaginta\",\"Gammel Testamente\"],[\"Ezechiel\",\"Septuaginta\",\"Gammel Testamente\"],[\"Genesis\",\"Septuaginta\",\"Gammel Testamente\"],[\"Habacuc\",\"Septuaginta\",\"Gammel Testamente\"],[\"Isaias\",\"Septuaginta\",\"Gammel Testamente\"],[\"Jeremias\",\"Septuaginta\",\"Gammel Testamente\"],[\"Job\",\"Septuaginta\",\"Gammel Testamente\"],[\"Joel\",\"Septuaginta\",\"Gammel Testamente\"],[\"Jonas\",\"Septuaginta\",\"Gammel Testamente\"],[\"Josue Cod Vaticanus Cod Alexandrinus\",\"Septuaginta\",\"Gammel Testamente\"],[\"Judices Cod Alexandrinus\",\"Septuaginta\",\"Gammel Testamente\"],[\"Judith\",\"Septuaginta\",\"Gammel Testamente\"],[\"Leviticus\",\"Septuaginta\",\"Gammel Testamente\"],[\"Machabaeorum i\",\"Septuaginta\",\"Gammel Testamente\"],[\"Machabaeorum ii\",\"Septuaginta\",\"Gammel Testamente\"],[\"Machabaeorum iii\",\"Septuaginta\",\"Gammel Testamente\"],[\"Machabaeorum iv\",\"Septuaginta\",\"Gammel Testamente\"],[\"Malachias\",\"Septuaginta\",\"Gammel Testamente\"],[\"Michaeas\",\"Septuaginta\",\"Gammel Testamente\"],[\"Nahum\",\"Septuaginta\",\"Gammel Testamente\"],[\"Numeri\",\"Septuaginta\",\"Gammel Testamente\"],[\"Odae\",\"Septuaginta\",\"Gammel Testamente\"],[\"Osee\",\"Septuaginta\",\"Gammel Testamente\"],[\"Paralipomenon I sive Chronicon I\",\"Septuaginta\",\"Gammel Testamente\"],[\"Paralipomenon II sive Chronicon II\",\"Septuaginta\",\"Gammel Testamente\"],[\"Proverbia\",\"Septuaginta\",\"Gammel Testamente\"],[\"Psalmi\",\"Septuaginta\",\"Gammel Testamente\"],[\"Psalmi Salomonis\",\"Septuaginta\",\"Gammel Testamente\"],[\"Regnorum I Samuelis I in textu Masoretico\",\"Septuaginta\",\"Gammel Testamente\"],[\"Regnorum II Samuelis II In Textu Masoretico\",\"Septuaginta\",\"Gammel Testamente\"],[\"Regnorum III Regum I in textu Masoretico\",\"Septuaginta\",\"Gammel Testamente\"],[\"Regnorum IV Regum II in textu Masoretico\",\"Septuaginta\",\"Gammel Testamente\"],[\"Ruth\",\"Septuaginta\",\"Gammel Testamente\"],[\"Sapientia Salomonis\",\"Septuaginta\",\"Gammel Testamente\"],[\"Sophonias\",\"Septuaginta\",\"Gammel Testamente\"],[\"Susanna Theodotionis versio\",\"Septuaginta\",\"Gammel Testamente\"],[\"Susanna translatio Graeca\",\"Septuaginta\",\"Gammel Testamente\"],[\"Threni seu Lamentationes\",\"Septuaginta\",\"Gammel Testamente\"],[\"Tobias\",\"Septuaginta\",\"Gammel Testamente\"],[\"Zacharias\",\"Septuaginta\",\"Gammel Testamente\"]],\"hovertemplate\":\"x=%{x}<br>y=%{y}<br>z=%{z}<br>v\\u00e6rk=%{customdata[0]}<br>forfatter=%{customdata[1]}<extra></extra>\",\"legendgroup\":\"Gammel Testamente\",\"marker\":{\"color\":\"#ab63fa\",\"symbol\":\"circle\"},\"mode\":\"markers\",\"name\":\"Gammel Testamente\",\"scene\":\"scene\",\"showlegend\":true,\"x\":[5.599032878875732,16.482152938842773,14.033406257629395,4.293750762939453,3.8851943016052246,-2.0680081844329834,23.362274169921875,19.006765365600586,26.086668014526367,26.281166076660156,5.899928092956543,14.829806327819824,24.784595489501953,11.285711288452148,-2.052272081375122,31.08393669128418,25.8359317779541,9.738638877868652,-2.0659103393554688,27.29213523864746,20.99403953552246,11.9323091506958,8.265657424926758,22.96800994873047,27.48239517211914,-2.0598220825195312,30.88355255126953,18.233144760131836,1.8254618644714355,-2.0615034103393555,4.386080741882324,10.633493423461914,14.578482627868652,7.452139854431152,28.364477157592773,18.614383697509766,20.673017501831055,24.95792007446289,27.248037338256836,18.499738693237305,30.123483657836914,18.871259689331055,27.91521644592285,28.10793113708496,27.718048095703125,-2.0667567253112793,13.542634963989258,10.461138725280762,-2.057657241821289,7.226791858673096,5.780561447143555,15.454611778259277,18.394128799438477,20.445833206176758],\"y\":[4.310791492462158,-0.45073965191841125,0.6912002563476562,3.959847927093506,3.2222506999969482,7.487804889678955,-7.0535478591918945,-7.058053016662598,-6.616711616516113,-6.990320682525635,4.277241230010986,-8.34481430053711,-9.038687705993652,-6.770584583282471,7.48330545425415,-6.264076232910156,-3.781306505203247,3.2069342136383057,7.495038032531738,-4.933768272399902,2.567274332046509,1.5070499181747437,2.2651641368865967,-8.712625503540039,-8.732059478759766,7.491549491882324,-3.082024097442627,-20.140113830566406,-11.87034797668457,7.492276191711426,1.741493821144104,3.3424124717712402,1.3829034566879272,2.9961225986480713,-8.813343048095703,0.5474517941474915,-1.0322891473770142,-9.946487426757812,-12.631070137023926,2.933523178100586,-3.525864601135254,-0.6889168620109558,-8.68244457244873,-7.9036054611206055,-6.2968621253967285,7.487534999847412,1.5799545049667358,3.0159049034118652,7.486660003662109,1.8922709226608276,2.831266164779663,0.751385509967804,-2.232616901397705,-2.896898031234741],\"z\":[-3.9812543392181396,-1.348494291305542,-3.1501760482788086,-4.280005931854248,-4.968352317810059,-7.2490458488464355,2.9897148609161377,-0.7707558870315552,2.2942776679992676,-3.6832144260406494,-5.672659873962402,-1.1282366514205933,3.219111680984497,-2.2072155475616455,-7.2527174949646,3.236666679382324,2.833057165145874,-3.9714152812957764,-7.246163368225098,1.8415420055389404,-1.3004071712493896,-1.639861822128296,-3.6253163814544678,5.134182453155518,4.631546497344971,-7.240393161773682,1.345908522605896,2.8478152751922607,-2.7454233169555664,-7.24000358581543,-3.5163824558258057,-4.219202518463135,-0.7174826264381409,-3.4323601722717285,2.6086485385894775,0.17089718580245972,-0.4254620671272278,5.333357810974121,4.467082977294922,-5.000565528869629,2.178765058517456,-1.975648283958435,4.3458571434021,5.718625068664551,5.2379231452941895,-7.242321491241455,-2.068112850189209,-3.534653902053833,-7.242095947265625,-5.518359184265137,-6.544983386993408,-1.2600934505462646,-2.5924510955810547,-0.7937694787979126],\"type\":\"scatter3d\"},{\"customdata\":[[\"Acts - ACT-\\u03a0\\u03a1\\u0391\\u039e\\u0395\\u0399\\u03a3 \\u0391\\u03a0\\u039f\\u03a3\\u03a4\\u039f\\u039b\\u03a9\\u039d\",\"\\\"Luke\\\" (Anonymous)\",\"Nye Testamente\"],[\"Gospel of John - JHN-\\u039a\\u0391\\u03a4\\u0391 \\u0399\\u03a9\\u0391\\u039d\\u039d\\u0397\\u039d\",\"\\\"John\\\" (Anonymous)\",\"Nye Testamente\"],[\"The Gospel of Mark - MRK-\\u039a\\u0391\\u03a4\\u0391 \\u039c\\u0391\\u03a1\\u039a\\u039f\\u039d\",\"\\\"Mark\\\" (Anonymous)\",\"Nye Testamente\"]],\"hovertemplate\":\"x=%{x}<br>y=%{y}<br>z=%{z}<br>v\\u00e6rk=%{customdata[0]}<br>forfatter=%{customdata[1]}<extra></extra>\",\"legendgroup\":\"Nye Testamente\",\"marker\":{\"color\":\"#FFA15A\",\"symbol\":\"circle\"},\"mode\":\"markers\",\"name\":\"Nye Testamente\",\"scene\":\"scene\",\"showlegend\":true,\"x\":[8.826302528381348,16.70941925048828,15.36487102508545],\"y\":[-11.378792762756348,-4.653485298156738,-6.690497875213623],\"z\":[-5.1804304122924805,-2.6077029705047607,-4.192447662353516],\"type\":\"scatter3d\"}],                        {\"template\":{\"data\":{\"histogram2dcontour\":[{\"type\":\"histogram2dcontour\",\"colorbar\":{\"outlinewidth\":0,\"ticks\":\"\"},\"colorscale\":[[0.0,\"#0d0887\"],[0.1111111111111111,\"#46039f\"],[0.2222222222222222,\"#7201a8\"],[0.3333333333333333,\"#9c179e\"],[0.4444444444444444,\"#bd3786\"],[0.5555555555555556,\"#d8576b\"],[0.6666666666666666,\"#ed7953\"],[0.7777777777777778,\"#fb9f3a\"],[0.8888888888888888,\"#fdca26\"],[1.0,\"#f0f921\"]]}],\"choropleth\":[{\"type\":\"choropleth\",\"colorbar\":{\"outlinewidth\":0,\"ticks\":\"\"}}],\"histogram2d\":[{\"type\":\"histogram2d\",\"colorbar\":{\"outlinewidth\":0,\"ticks\":\"\"},\"colorscale\":[[0.0,\"#0d0887\"],[0.1111111111111111,\"#46039f\"],[0.2222222222222222,\"#7201a8\"],[0.3333333333333333,\"#9c179e\"],[0.4444444444444444,\"#bd3786\"],[0.5555555555555556,\"#d8576b\"],[0.6666666666666666,\"#ed7953\"],[0.7777777777777778,\"#fb9f3a\"],[0.8888888888888888,\"#fdca26\"],[1.0,\"#f0f921\"]]}],\"heatmap\":[{\"type\":\"heatmap\",\"colorbar\":{\"outlinewidth\":0,\"ticks\":\"\"},\"colorscale\":[[0.0,\"#0d0887\"],[0.1111111111111111,\"#46039f\"],[0.2222222222222222,\"#7201a8\"],[0.3333333333333333,\"#9c179e\"],[0.4444444444444444,\"#bd3786\"],[0.5555555555555556,\"#d8576b\"],[0.6666666666666666,\"#ed7953\"],[0.7777777777777778,\"#fb9f3a\"],[0.8888888888888888,\"#fdca26\"],[1.0,\"#f0f921\"]]}],\"heatmapgl\":[{\"type\":\"heatmapgl\",\"colorbar\":{\"outlinewidth\":0,\"ticks\":\"\"},\"colorscale\":[[0.0,\"#0d0887\"],[0.1111111111111111,\"#46039f\"],[0.2222222222222222,\"#7201a8\"],[0.3333333333333333,\"#9c179e\"],[0.4444444444444444,\"#bd3786\"],[0.5555555555555556,\"#d8576b\"],[0.6666666666666666,\"#ed7953\"],[0.7777777777777778,\"#fb9f3a\"],[0.8888888888888888,\"#fdca26\"],[1.0,\"#f0f921\"]]}],\"contourcarpet\":[{\"type\":\"contourcarpet\",\"colorbar\":{\"outlinewidth\":0,\"ticks\":\"\"}}],\"contour\":[{\"type\":\"contour\",\"colorbar\":{\"outlinewidth\":0,\"ticks\":\"\"},\"colorscale\":[[0.0,\"#0d0887\"],[0.1111111111111111,\"#46039f\"],[0.2222222222222222,\"#7201a8\"],[0.3333333333333333,\"#9c179e\"],[0.4444444444444444,\"#bd3786\"],[0.5555555555555556,\"#d8576b\"],[0.6666666666666666,\"#ed7953\"],[0.7777777777777778,\"#fb9f3a\"],[0.8888888888888888,\"#fdca26\"],[1.0,\"#f0f921\"]]}],\"surface\":[{\"type\":\"surface\",\"colorbar\":{\"outlinewidth\":0,\"ticks\":\"\"},\"colorscale\":[[0.0,\"#0d0887\"],[0.1111111111111111,\"#46039f\"],[0.2222222222222222,\"#7201a8\"],[0.3333333333333333,\"#9c179e\"],[0.4444444444444444,\"#bd3786\"],[0.5555555555555556,\"#d8576b\"],[0.6666666666666666,\"#ed7953\"],[0.7777777777777778,\"#fb9f3a\"],[0.8888888888888888,\"#fdca26\"],[1.0,\"#f0f921\"]]}],\"mesh3d\":[{\"type\":\"mesh3d\",\"colorbar\":{\"outlinewidth\":0,\"ticks\":\"\"}}],\"scatter\":[{\"fillpattern\":{\"fillmode\":\"overlay\",\"size\":10,\"solidity\":0.2},\"type\":\"scatter\"}],\"parcoords\":[{\"type\":\"parcoords\",\"line\":{\"colorbar\":{\"outlinewidth\":0,\"ticks\":\"\"}}}],\"scatterpolargl\":[{\"type\":\"scatterpolargl\",\"marker\":{\"colorbar\":{\"outlinewidth\":0,\"ticks\":\"\"}}}],\"bar\":[{\"error_x\":{\"color\":\"#2a3f5f\"},\"error_y\":{\"color\":\"#2a3f5f\"},\"marker\":{\"line\":{\"color\":\"#E5ECF6\",\"width\":0.5},\"pattern\":{\"fillmode\":\"overlay\",\"size\":10,\"solidity\":0.2}},\"type\":\"bar\"}],\"scattergeo\":[{\"type\":\"scattergeo\",\"marker\":{\"colorbar\":{\"outlinewidth\":0,\"ticks\":\"\"}}}],\"scatterpolar\":[{\"type\":\"scatterpolar\",\"marker\":{\"colorbar\":{\"outlinewidth\":0,\"ticks\":\"\"}}}],\"histogram\":[{\"marker\":{\"pattern\":{\"fillmode\":\"overlay\",\"size\":10,\"solidity\":0.2}},\"type\":\"histogram\"}],\"scattergl\":[{\"type\":\"scattergl\",\"marker\":{\"colorbar\":{\"outlinewidth\":0,\"ticks\":\"\"}}}],\"scatter3d\":[{\"type\":\"scatter3d\",\"line\":{\"colorbar\":{\"outlinewidth\":0,\"ticks\":\"\"}},\"marker\":{\"colorbar\":{\"outlinewidth\":0,\"ticks\":\"\"}}}],\"scattermapbox\":[{\"type\":\"scattermapbox\",\"marker\":{\"colorbar\":{\"outlinewidth\":0,\"ticks\":\"\"}}}],\"scatterternary\":[{\"type\":\"scatterternary\",\"marker\":{\"colorbar\":{\"outlinewidth\":0,\"ticks\":\"\"}}}],\"scattercarpet\":[{\"type\":\"scattercarpet\",\"marker\":{\"colorbar\":{\"outlinewidth\":0,\"ticks\":\"\"}}}],\"carpet\":[{\"aaxis\":{\"endlinecolor\":\"#2a3f5f\",\"gridcolor\":\"white\",\"linecolor\":\"white\",\"minorgridcolor\":\"white\",\"startlinecolor\":\"#2a3f5f\"},\"baxis\":{\"endlinecolor\":\"#2a3f5f\",\"gridcolor\":\"white\",\"linecolor\":\"white\",\"minorgridcolor\":\"white\",\"startlinecolor\":\"#2a3f5f\"},\"type\":\"carpet\"}],\"table\":[{\"cells\":{\"fill\":{\"color\":\"#EBF0F8\"},\"line\":{\"color\":\"white\"}},\"header\":{\"fill\":{\"color\":\"#C8D4E3\"},\"line\":{\"color\":\"white\"}},\"type\":\"table\"}],\"barpolar\":[{\"marker\":{\"line\":{\"color\":\"#E5ECF6\",\"width\":0.5},\"pattern\":{\"fillmode\":\"overlay\",\"size\":10,\"solidity\":0.2}},\"type\":\"barpolar\"}],\"pie\":[{\"automargin\":true,\"type\":\"pie\"}]},\"layout\":{\"autotypenumbers\":\"strict\",\"colorway\":[\"#636efa\",\"#EF553B\",\"#00cc96\",\"#ab63fa\",\"#FFA15A\",\"#19d3f3\",\"#FF6692\",\"#B6E880\",\"#FF97FF\",\"#FECB52\"],\"font\":{\"color\":\"#2a3f5f\"},\"hovermode\":\"closest\",\"hoverlabel\":{\"align\":\"left\"},\"paper_bgcolor\":\"white\",\"plot_bgcolor\":\"#E5ECF6\",\"polar\":{\"bgcolor\":\"#E5ECF6\",\"angularaxis\":{\"gridcolor\":\"white\",\"linecolor\":\"white\",\"ticks\":\"\"},\"radialaxis\":{\"gridcolor\":\"white\",\"linecolor\":\"white\",\"ticks\":\"\"}},\"ternary\":{\"bgcolor\":\"#E5ECF6\",\"aaxis\":{\"gridcolor\":\"white\",\"linecolor\":\"white\",\"ticks\":\"\"},\"baxis\":{\"gridcolor\":\"white\",\"linecolor\":\"white\",\"ticks\":\"\"},\"caxis\":{\"gridcolor\":\"white\",\"linecolor\":\"white\",\"ticks\":\"\"}},\"coloraxis\":{\"colorbar\":{\"outlinewidth\":0,\"ticks\":\"\"}},\"colorscale\":{\"sequential\":[[0.0,\"#0d0887\"],[0.1111111111111111,\"#46039f\"],[0.2222222222222222,\"#7201a8\"],[0.3333333333333333,\"#9c179e\"],[0.4444444444444444,\"#bd3786\"],[0.5555555555555556,\"#d8576b\"],[0.6666666666666666,\"#ed7953\"],[0.7777777777777778,\"#fb9f3a\"],[0.8888888888888888,\"#fdca26\"],[1.0,\"#f0f921\"]],\"sequentialminus\":[[0.0,\"#0d0887\"],[0.1111111111111111,\"#46039f\"],[0.2222222222222222,\"#7201a8\"],[0.3333333333333333,\"#9c179e\"],[0.4444444444444444,\"#bd3786\"],[0.5555555555555556,\"#d8576b\"],[0.6666666666666666,\"#ed7953\"],[0.7777777777777778,\"#fb9f3a\"],[0.8888888888888888,\"#fdca26\"],[1.0,\"#f0f921\"]],\"diverging\":[[0,\"#8e0152\"],[0.1,\"#c51b7d\"],[0.2,\"#de77ae\"],[0.3,\"#f1b6da\"],[0.4,\"#fde0ef\"],[0.5,\"#f7f7f7\"],[0.6,\"#e6f5d0\"],[0.7,\"#b8e186\"],[0.8,\"#7fbc41\"],[0.9,\"#4d9221\"],[1,\"#276419\"]]},\"xaxis\":{\"gridcolor\":\"white\",\"linecolor\":\"white\",\"ticks\":\"\",\"title\":{\"standoff\":15},\"zerolinecolor\":\"white\",\"automargin\":true,\"zerolinewidth\":2},\"yaxis\":{\"gridcolor\":\"white\",\"linecolor\":\"white\",\"ticks\":\"\",\"title\":{\"standoff\":15},\"zerolinecolor\":\"white\",\"automargin\":true,\"zerolinewidth\":2},\"scene\":{\"xaxis\":{\"backgroundcolor\":\"#E5ECF6\",\"gridcolor\":\"white\",\"linecolor\":\"white\",\"showbackground\":true,\"ticks\":\"\",\"zerolinecolor\":\"white\",\"gridwidth\":2},\"yaxis\":{\"backgroundcolor\":\"#E5ECF6\",\"gridcolor\":\"white\",\"linecolor\":\"white\",\"showbackground\":true,\"ticks\":\"\",\"zerolinecolor\":\"white\",\"gridwidth\":2},\"zaxis\":{\"backgroundcolor\":\"#E5ECF6\",\"gridcolor\":\"white\",\"linecolor\":\"white\",\"showbackground\":true,\"ticks\":\"\",\"zerolinecolor\":\"white\",\"gridwidth\":2}},\"shapedefaults\":{\"line\":{\"color\":\"#2a3f5f\"}},\"annotationdefaults\":{\"arrowcolor\":\"#2a3f5f\",\"arrowhead\":0,\"arrowwidth\":1},\"geo\":{\"bgcolor\":\"white\",\"landcolor\":\"#E5ECF6\",\"subunitcolor\":\"white\",\"showland\":true,\"showlakes\":true,\"lakecolor\":\"white\"},\"title\":{\"x\":0.05},\"mapbox\":{\"style\":\"light\"}}},\"scene\":{\"domain\":{\"x\":[0.0,1.0],\"y\":[0.0,1.0]},\"xaxis\":{\"title\":{\"text\":\"x\"}},\"yaxis\":{\"title\":{\"text\":\"y\"}},\"zaxis\":{\"title\":{\"text\":\"z\"}}},\"legend\":{\"title\":{\"text\":\"category\"},\"tracegroupgap\":0},\"margin\":{\"t\":60},\"height\":800},                        {\"responsive\": true}                    ).then(function(){\n",
       "                            \n",
       "var gd = document.getElementById('eeac2271-4d0e-4a27-bbda-0084d7e6de0b');\n",
       "var x = new MutationObserver(function (mutations, observer) {{\n",
       "        var display = window.getComputedStyle(gd).display;\n",
       "        if (!display || display === 'none') {{\n",
       "            console.log([gd, 'removed!']);\n",
       "            Plotly.purge(gd);\n",
       "            observer.disconnect();\n",
       "        }}\n",
       "}});\n",
       "\n",
       "// Listen for the removal of the full notebook cells\n",
       "var notebookContainer = gd.closest('#notebook-container');\n",
       "if (notebookContainer) {{\n",
       "    x.observe(notebookContainer, {childList: true});\n",
       "}}\n",
       "\n",
       "// Listen for the clearing of the current output cell\n",
       "var outputEl = gd.closest('.output');\n",
       "if (outputEl) {{\n",
       "    x.observe(outputEl, {childList: true});\n",
       "}}\n",
       "\n",
       "                        })                };                });            </script>        </div>"
      ]
     },
     "metadata": {},
     "output_type": "display_data"
    }
   ],
   "source": [
    "em.display_3d(\n",
    "    disp_data,\n",
    "    \"semantic\",\n",
    "    color=\"category\",\n",
    "    hover_data={\n",
    "        \"værk\": True,\n",
    "        \"forfatter\": True,\n",
    "        \"category\": False\n",
    "    }\n",
    ").update_layout(height = 800)"
   ]
  },
  {
   "cell_type": "code",
   "execution_count": 32,
   "id": "a290c1d1-a699-42eb-85f2-f4ffd208145c",
   "metadata": {
    "execution": {
     "iopub.execute_input": "2022-07-05T13:53:51.316310Z",
     "iopub.status.busy": "2022-07-05T13:53:51.315610Z",
     "iopub.status.idle": "2022-07-05T13:53:51.499056Z",
     "shell.execute_reply": "2022-07-05T13:53:51.498338Z",
     "shell.execute_reply.started": "2022-07-05T13:53:51.316246Z"
    }
   },
   "outputs": [
    {
     "data": {
      "application/vnd.plotly.v1+json": {
       "config": {
        "plotlyServerURL": "https://plot.ly"
       },
       "data": [
        {
         "customdata": [
          [
           "Leucippe et Clitophon",
           "Achilles Tatius",
           "Narratio Ficta"
          ],
          [
           "De Chaerea et Callirhoe - Chaereas and Kallirhoe",
           "Chariton",
           "Narratio Ficta"
          ],
          [
           "Ὁμίλαι",
           "Clemens Romanus",
           "Narratio Ficta"
          ],
          [
           "Aethiopica",
           "Heliodorus of Emesa",
           "Narratio Ficta"
          ],
          [
           "Babyloniaca",
           "Iamblichus (TLG = 1441)",
           "Narratio Ficta"
          ],
          [
           "Daphnis and Chloe",
           "Longus",
           "Narratio Ficta"
          ],
          [
           "51. Love Stories (Amatoriae narrationes) - Ἐρωτικαὶ διηγήσεις",
           "Plutarch",
           "Narratio Ficta"
          ],
          [
           "The Stories of Sinbad - Narrationes de Syntipa",
           "Michael Andreopulus (Syntipas)",
           "Narratio Ficta"
          ],
          [
           "Vita Aesopi Pl vel Accursiana (sub auctore Maximo Planude) (recensio 1)",
           "Vitae Aesopi",
           "Narratio Ficta"
          ],
          [
           "Ephesiaca",
           "Xenophon of Ephesus",
           "Narratio Ficta"
          ]
         ],
         "hovertemplate": "x=%{x}<br>y=%{y}<br>z=%{z}<br>værk=%{customdata[0]}<br>forfatter=%{customdata[1]}<extra></extra>",
         "legendgroup": "Narratio Ficta",
         "marker": {
          "color": "#636efa",
          "symbol": "circle"
         },
         "mode": "markers",
         "name": "Narratio Ficta",
         "scene": "scene",
         "showlegend": true,
         "type": "scatter3d",
         "x": [
          -6.793723916841679,
          -7.262365021858361,
          0.5753365729138439,
          2.1129838377240806,
          -3.6035501491015216,
          -1.4377967061142112,
          -1.5562209054947616,
          -6.196780773010307,
          -6.271899323971091,
          -3.897315848625419
         ],
         "y": [
          0.6806740432854614,
          0.5984432404449023,
          0.9226636617027288,
          1.0105766204943325,
          -0.8437346592413776,
          0.39723541660130995,
          -0.6392267889391603,
          0.13696887151749582,
          0.1345763863444994,
          0.30015525194137804
         ],
         "z": [
          0.06103176958777216,
          -0.2532028078152723,
          0.05757309625896329,
          0.004675548265346462,
          -0.1692604050181868,
          0.012118635195983034,
          -0.18836928133993436,
          0.0895195121572554,
          0.08921374126017603,
          -0.003192302558789224
         ]
        },
        {
         "customdata": [
          [
           "Historiae",
           "Agathias Scholasticus",
           "Historica"
          ],
          [
           "Alexias",
           "Anna Comnena",
           "Historica"
          ],
          [
           "Ιβηρική",
           "Appian",
           "Historica"
          ],
          [
           "Λιβυκή",
           "Appian",
           "Historica"
          ],
          [
           "Μιθριδάτειος",
           "Appian",
           "Historica"
          ],
          [
           "Συριακή",
           "Appian",
           "Historica"
          ],
          [
           "Ἀννιβαϊκή",
           "Appian",
           "Historica"
          ],
          [
           "ἐκ τῆς Κελτῖκης (Celtica)",
           "Appian",
           "Historica"
          ],
          [
           "ἐκ τῆς Μακεδονικῆς",
           "Appian",
           "Historica"
          ],
          [
           "ἐκ τῆς Σαυνιτικῆς",
           "Appian",
           "Historica"
          ],
          [
           "ἐκ τῆς Σικελῖκης καὶ νησιωτικής",
           "Appian",
           "Historica"
          ],
          [
           "ἐκ τῆς βασιλικῆς",
           "Appian",
           "Historica"
          ],
          [
           "ἐκ τῆς Ἰταλικῆς",
           "Appian",
           "Historica"
          ],
          [
           "Ἐμφυλίων Πρώτη (Bellum civile...?) (TLG = 017)",
           "Appian",
           "Historica"
          ],
          [
           "Ἰλλυρική",
           "Appian",
           "Historica"
          ],
          [
           "Acies contra Alanos - Ektaxis kata Alanon",
           "Arrian",
           "Historica"
          ],
          [
           "Anabasis of Alexander",
           "Arrian",
           "Historica"
          ],
          [
           "Cynegeticus - the hunting man (hunting dogs)",
           "Arrian",
           "Historica"
          ],
          [
           "Historia Indica",
           "Arrian",
           "Historica"
          ],
          [
           "Historiae Romanae",
           "Cassius Dio",
           "Historica"
          ],
          [
           "Bibliotheca Historica, Books I-V",
           "Diodorus Siculus",
           "Historica"
          ],
          [
           "Bibliotheca Historica, Books XVIII-XX",
           "Diodorus Siculus",
           "Historica"
          ],
          [
           "Antiquitates Romanae, Books I-XX (incompl.?)",
           "Dionysius of Halicarnassus",
           "Historica"
          ],
          [
           "Summary of Roman History - Breviarium historiae romanae",
           "Eutropius (oversat fra latin til græsk i 380 AD af Paeanius)",
           "Historica"
          ],
          [
           "Jewish Antiquitites - Antiquitates Judaicae",
           "Flavius Josephus",
           "Historica"
          ],
          [
           "The Jewish War - De bello Judaico libri vii (KUN BOG 7…?)",
           "Flavius Josephus",
           "Historica"
          ],
          [
           "The Histories",
           "Herodotus",
           "Historica"
          ],
          [
           "Histories",
           "Polybius",
           "Historica"
          ],
          [
           "Secret History - Ἀπόκρυφη Ἱστορία, Historia Arcana (Anecdota)",
           "Procopius",
           "Historica"
          ],
          [
           "On the Wars / History of the Wars - De Bellis",
           "Procopius",
           "Historica"
          ],
          [
           "The Peloponnesian War",
           "Thucydides",
           "Historica"
          ],
          [
           "Anabasis",
           "Xenophon of Athens",
           "Historica"
          ],
          [
           "Historia Nova",
           "Zosimus",
           "Historica"
          ]
         ],
         "hovertemplate": "x=%{x}<br>y=%{y}<br>z=%{z}<br>værk=%{customdata[0]}<br>forfatter=%{customdata[1]}<extra></extra>",
         "legendgroup": "Historica",
         "marker": {
          "color": "#EF553B",
          "symbol": "circle"
         },
         "mode": "markers",
         "name": "Historica",
         "scene": "scene",
         "showlegend": true,
         "type": "scatter3d",
         "x": [
          -4.78081380557586,
          -4.408672557164253,
          3.0227098813530615,
          2.905529237021089,
          5.021276945172443,
          3.7027043903213626,
          3.323480476503172,
          3.91261178322041,
          5.727114099616934,
          2.405109221432868,
          6.65631567800357,
          5.087452368705083,
          4.127521174550587,
          3.6982228288731953,
          1.5054590339856382,
          -4.150445283281655,
          -2.723025279674373,
          -2.0602622055629047,
          -2.9462477046380218,
          -3.7221872833971266,
          -1.1420856883108117,
          -1.7448112252341792,
          -1.6322004400834818,
          2.606506792409065,
          -2.115588356791592,
          -3.9096968689392373,
          -3.46737059034061,
          -3.32327489869241,
          -2.8837100729208327,
          2.3104489210010173,
          3.5730400434517544,
          -4.67020256180778,
          4.833595243616857
         ],
         "y": [
          0.8533055892536224,
          1.24596964320794,
          0.3391568944446279,
          0.5328638368352799,
          0.531474009765275,
          0.2770821373012149,
          0.12389327324177819,
          -0.5265750511248616,
          -0.28086751110721947,
          -0.33202825357336385,
          -0.8614182429025372,
          -0.9125513053352076,
          -0.8064292875585048,
          1.2093375866203744,
          -0.18985480373944594,
          -0.8154629113895733,
          0.9873592388352778,
          -0.1262909494052555,
          0.23118170407781224,
          1.368147575450886,
          1.1885320298899669,
          0.9990103356996882,
          1.55311047089615,
          0.5105603391463506,
          1.5828818711652126,
          1.1828246755579093,
          1.3547308019381865,
          1.5867680719414419,
          0.601962773546693,
          1.4850216455093677,
          1.317280438202517,
          0.8336194121300436,
          0.9444410648913348
         ],
         "z": [
          -0.1848324130299536,
          -0.2714061213019885,
          -0.10882994418470324,
          -0.00022273811335894917,
          -0.08470797354427637,
          -0.04876296338249392,
          -0.06383480004720238,
          -0.16346515407941287,
          -0.019977924125074428,
          -0.02836844934231161,
          -0.3147286970243646,
          0.36232839440915054,
          0.021961348750510784,
          0.021309072039639634,
          -0.14138909933130486,
          -0.008890054064733604,
          0.15995414749817077,
          0.23940292130257507,
          0.04177335428516534,
          0.04970391482287278,
          -0.2403397757208554,
          -0.4572945297204641,
          -0.08496536366815442,
          -0.20807940932990526,
          -0.09660000669436784,
          -0.21993117160736136,
          -0.06937855671607977,
          -0.07850575652295087,
          -0.24331609046735722,
          -0.15277866240501828,
          -0.01731318500859495,
          0.021269813210572776,
          -0.26041240689054074
         ]
        },
        {
         "customdata": [
          [
           "Vitae Sophistarum (23 stk)",
           "Eunapius",
           "Biographa"
          ],
          [
           "Demonax",
           "Lucian",
           "Biographa"
          ],
          [
           "Life of the Sophists - Vitae Sophistarum (flere)",
           "Philostratus the Athenian",
           "Biographa"
          ],
          [
           "Aemilius Paulus",
           "Plutarch",
           "Biographa"
          ],
          [
           "Agesilaus",
           "Plutarch",
           "Biographa"
          ],
          [
           "Agis and Cleomenes",
           "Plutarch",
           "Biographa"
          ],
          [
           "Alcibiades",
           "Plutarch",
           "Biographa"
          ],
          [
           "Alexander",
           "Plutarch",
           "Biographa"
          ],
          [
           "Antony",
           "Plutarch",
           "Biographa"
          ],
          [
           "Aratus",
           "Plutarch",
           "Biographa"
          ],
          [
           "Artaxerxes",
           "Plutarch",
           "Biographa"
          ],
          [
           "Brutus",
           "Plutarch",
           "Biographa"
          ],
          [
           "Caesar",
           "Plutarch",
           "Biographa"
          ],
          [
           "Caius Marcius Coriolanus",
           "Plutarch",
           "Biographa"
          ],
          [
           "Caius Marius",
           "Plutarch",
           "Biographa"
          ],
          [
           "Camillus",
           "Plutarch",
           "Biographa"
          ],
          [
           "Cato the Younger (Minor)",
           "Plutarch",
           "Biographa"
          ],
          [
           "Cicero",
           "Plutarch",
           "Biographa"
          ],
          [
           "Cimon",
           "Plutarch",
           "Biographa"
          ],
          [
           "Comparison of Agesilaus and Pompey",
           "Plutarch",
           "Biographa"
          ],
          [
           "Comparison of Agis and Cleomenes and the Gracchi",
           "Plutarch",
           "Biographa"
          ],
          [
           "Comparison of Alcibiades and Coriolanus",
           "Plutarch",
           "Biographa"
          ],
          [
           "Comparison of Aristides and Marcus Cato",
           "Plutarch",
           "Biographa"
          ],
          [
           "Comparison of Demetrius and Antony",
           "Plutarch",
           "Biographa"
          ],
          [
           "Comparison of Demosthenes and Cicero",
           "Plutarch",
           "Biographa"
          ],
          [
           "Comparison of Dion and Brutus",
           "Plutarch",
           "Biographa"
          ],
          [
           "Comparison of Lucullus and Cimon",
           "Plutarch",
           "Biographa"
          ],
          [
           "Comparison of Lycurgus and Numa",
           "Plutarch",
           "Biographa"
          ],
          [
           "Comparison of Lysander and Sulla",
           "Plutarch",
           "Biographa"
          ],
          [
           "Comparison of Nicias and Crassus",
           "Plutarch",
           "Biographa"
          ],
          [
           "Comparison of Pelopidas and Marcellus",
           "Plutarch",
           "Biographa"
          ],
          [
           "Comparison of Pericles and Fabius Maximus",
           "Plutarch",
           "Biographa"
          ],
          [
           "Comparison of Philopoemen and Titus",
           "Plutarch",
           "Biographa"
          ],
          [
           "Comparison of Solon and Publicola",
           "Plutarch",
           "Biographa"
          ],
          [
           "Comparison of Theseus and Romulus",
           "Plutarch",
           "Biographa"
          ],
          [
           "Crassus",
           "Plutarch",
           "Biographa"
          ],
          [
           "Demetrius",
           "Plutarch",
           "Biographa"
          ],
          [
           "Demosthenes",
           "Plutarch",
           "Biographa"
          ],
          [
           "Dion",
           "Plutarch",
           "Biographa"
          ],
          [
           "Eumenes",
           "Plutarch",
           "Biographa"
          ],
          [
           "Fabius Maximus",
           "Plutarch",
           "Biographa"
          ],
          [
           "Galba",
           "Plutarch",
           "Biographa"
          ],
          [
           "Lucullus",
           "Plutarch",
           "Biographa"
          ],
          [
           "Lycurgus",
           "Plutarch",
           "Biographa"
          ],
          [
           "Lysander",
           "Plutarch",
           "Biographa"
          ],
          [
           "Machine readable text",
           "Plutarch",
           "Biographa"
          ],
          [
           "Marcellus",
           "Plutarch",
           "Biographa"
          ],
          [
           " Marcus Cato (Maior)",
           "Plutarch",
           "Biographa"
          ],
          [
           "Nicias",
           "Plutarch",
           "Biographa"
          ],
          [
           "Numa",
           "Plutarch",
           "Biographa"
          ],
          [
           "Otho",
           "Plutarch",
           "Biographa"
          ],
          [
           "Pelopidas",
           "Plutarch",
           "Biographa"
          ],
          [
           "Pericles",
           "Plutarch",
           "Biographa"
          ],
          [
           "Philopoemen",
           "Plutarch",
           "Biographa"
          ],
          [
           "Phocion",
           "Plutarch",
           "Biographa"
          ],
          [
           "Pompey",
           "Plutarch",
           "Biographa"
          ],
          [
           "Publicola",
           "Plutarch",
           "Biographa"
          ],
          [
           "Pyrrhus",
           "Plutarch",
           "Biographa"
          ],
          [
           "Romulus",
           "Plutarch",
           "Biographa"
          ],
          [
           "Sertorius",
           "Plutarch",
           "Biographa"
          ],
          [
           "Solon",
           "Plutarch",
           "Biographa"
          ],
          [
           "Sulla",
           "Plutarch",
           "Biographa"
          ],
          [
           "Themistocles",
           "Plutarch",
           "Biographa"
          ],
          [
           "Theseus",
           "Plutarch",
           "Biographa"
          ],
          [
           "Tiberius and Caius Gracchus",
           "Plutarch",
           "Biographa"
          ],
          [
           "Timoleon",
           "Plutarch",
           "Biographa"
          ],
          [
           "Titus Flamininus",
           "Plutarch",
           "Biographa"
          ],
          [
           "58. Lives of the Ten Orators Vitae decem oratorum) - Vitae decem oratorum",
           "Plutarch",
           "Biographa"
          ],
          [
           "Vitae Euripidis",
           "Scholia in Euripidem",
           "Biographa"
          ],
          [
           "Vita Hippocratis Secundum Soranum",
           "Soranus",
           "Biographa"
          ],
          [
           "Plutarchi vita",
           "Vitae Homeri",
           "Biographa"
          ],
          [
           "Sudae vita",
           "Vitae Homeri",
           "Biographa"
          ],
          [
           "Vita Herodotea",
           "Vitae Homeri",
           "Biographa"
          ],
          [
           "Vita Proculea (e Chrestomathia)",
           "Vitae Homeri",
           "Biographa"
          ],
          [
           "Vita sexta",
           "Vitae Homeri",
           "Biographa"
          ]
         ],
         "hovertemplate": "x=%{x}<br>y=%{y}<br>z=%{z}<br>værk=%{customdata[0]}<br>forfatter=%{customdata[1]}<extra></extra>",
         "legendgroup": "Biographa",
         "marker": {
          "color": "#00cc96",
          "symbol": "circle"
         },
         "mode": "markers",
         "name": "Biographa",
         "scene": "scene",
         "showlegend": true,
         "type": "scatter3d",
         "x": [
          -2.084678353288879,
          -3.946012720918826,
          -4.302162012077599,
          3.2617099105480656,
          -0.5668880966597618,
          1.9872867259769482,
          0.9095915780731115,
          -0.47531082345874054,
          -0.12042822371892081,
          2.333455980632107,
          -0.6512061164521836,
          0.6421549109382666,
          1.192890451864696,
          2.8643234376739715,
          2.321470389045721,
          -0.44557854204997555,
          1.501779805148025,
          1.1615340452663137,
          3.1236404933817696,
          2.833884646364185,
          0.47451384081603437,
          -2.1167248757236403,
          2.5411123947038323,
          1.2445500779618626,
          5.532163877022897,
          2.4877845649729338,
          1.8096351832137123,
          -1.2401755853117173,
          1.1706919215890557,
          4.0112037161425285,
          2.787066208547033,
          -0.4062625051723571,
          -0.6521163082116335,
          -1.5167869827499607,
          0.6268224590471616,
          -0.28782304773972045,
          2.1853201134182925,
          3.104978239811786,
          3.5435094007827224,
          -0.03087011611649274,
          2.1722035417504943,
          1.629593789739802,
          2.78649586659079,
          1.8794860569261203,
          0.7054548913916622,
          2.8761562774059453,
          1.5103964924711937,
          1.0250587935925806,
          3.6898325336276585,
          2.2205213289707606,
          0.8090365551372202,
          3.1820829254216116,
          4.423739980101585,
          4.279690529309209,
          -0.35111855831249056,
          1.091842128783368,
          -1.4721580020205662,
          1.7273354839266155,
          -1.1449989278937092,
          -0.6246664237752625,
          2.37515791990792,
          1.549198274033985,
          2.675696717603113,
          -0.03772685052590686,
          1.6775100008123887,
          5.052160605430485,
          2.9229649865140885,
          -0.8171705570408211,
          -3.7248249989357,
          -4.488050388709826,
          -6.626101861808473,
          -8.940668522155967,
          -7.307190467155916,
          -7.193414468129963,
          -6.494317744979471
         ],
         "y": [
          -0.9645942565984567,
          -0.42375253548844805,
          0.5436349473431795,
          0.11948489747706506,
          0.13710635806510252,
          0.25491232797487495,
          0.12264154077676717,
          0.4062628372339973,
          0.37738577218686364,
          0.19973011953510303,
          -0.025970884589153555,
          0.19187883953074703,
          0.3251535347753744,
          0.10281956477084461,
          0.23603854993669865,
          0.15124073926063394,
          0.34400079231910874,
          0.19819775494398903,
          -0.0968858359148966,
          -0.8328551394955684,
          -0.8909534948847765,
          -0.8728693171209922,
          -0.702598338738569,
          -0.9314327205122647,
          -0.8537769301567019,
          -0.893350215245178,
          -0.876440677249365,
          -0.6966013426858495,
          -0.7867373185500951,
          -0.7735553233380034,
          -0.9594252755915293,
          -1.035303453855427,
          -1.1489420325892994,
          -0.9197903262379883,
          -0.817755634643909,
          0.11869375704204507,
          0.21842562529960077,
          -0.03178463944628409,
          0.2091365875226337,
          -0.14794336859042095,
          0.016203713479947264,
          -0.08786654787200544,
          0.25643330838526535,
          0.09762003911044156,
          0.02797778485298378,
          0.04500328499913396,
          0.04836276124284474,
          0.025531481799853813,
          0.09716916629265154,
          0.0031099695785411197,
          -0.26696026236533177,
          0.11002279255108814,
          0.14712964702216558,
          -0.10008608018555151,
          0.020570370784737516,
          0.4231673356819751,
          -0.1334713464732909,
          0.16112449389701583,
          0.06800281344454075,
          -0.07122857530950122,
          0.06526594604631088,
          0.18472053339526054,
          0.030528586817282478,
          -0.019252438980791042,
          0.08647790867400179,
          0.1068327848908401,
          -0.10034360206245277,
          0.06419053636193209,
          -0.7217347425526442,
          -1.0752764117454332,
          -0.9566274125176404,
          -0.7270320076400177,
          -0.30023352362054756,
          -1.1865447513095395,
          -1.1883843067471245
         ],
         "z": [
          -0.11270806272370297,
          0.0027603176599359782,
          0.055033970363060424,
          -0.25911983783320275,
          -0.2770583871925917,
          -0.27952983577581403,
          -0.309790188121601,
          -0.29047060010967335,
          -0.37954120312042594,
          -0.21129536779660196,
          -0.2372965398281166,
          -0.2489845350992993,
          -0.2834153432682311,
          -0.10237842111261103,
          -0.23771776509908718,
          -0.24994752352509672,
          -0.1923232693692056,
          -0.18762145605471467,
          -0.23280815686496623,
          -0.23318486809855998,
          -0.38473543655883163,
          -0.3419269593400861,
          -0.22948140549550575,
          -0.2785905067452033,
          -0.2241835463921762,
          -0.0866447638658483,
          -0.18818916460984897,
          -0.06631759969488155,
          -0.22904797724886403,
          -0.20009834273086857,
          -0.20736906699257493,
          -0.3041434469488642,
          -0.21877870217670978,
          -0.2594477834488887,
          -0.11089251374740135,
          -0.29891284525242867,
          -0.29681497359655995,
          -0.15068842615777786,
          -0.2793964456677742,
          -0.38147064851961393,
          -0.169037821382086,
          -0.340130486910218,
          -0.3224009535173092,
          -0.18888493317252694,
          -0.3170951255498188,
          -0.2513807034914211,
          -0.27902288798713487,
          -0.1749217356895854,
          -0.14984611732035993,
          -0.09973886069297874,
          -0.3812609898651324,
          -0.25766469034666295,
          -0.1776192541209596,
          -0.27921187780976503,
          -0.2843594900266516,
          -0.28523839450214805,
          -0.2852343378681869,
          -0.20796125877738494,
          -0.28543357970496613,
          -0.41201086268124637,
          -0.07666853805221734,
          -0.3090696652791332,
          -0.22744315673142954,
          -0.18588088098476685,
          -0.1350351124317789,
          -0.31847198350524536,
          -0.18914090701686465,
          -0.28855722035116044,
          -0.2830615639358662,
          -0.09801257761100474,
          0.12822190456193008,
          0.10062297702468218,
          0.07690827049073812,
          -0.4290090275455536,
          0.2392053635677131
         ]
        },
        {
         "customdata": [
          [
           "Aggaeus",
           "Septuaginta",
           "Gammel Testamente"
          ],
          [
           "Amos",
           "Septuaginta",
           "Gammel Testamente"
          ],
          [
           "Baruch",
           "Septuaginta",
           "Gammel Testamente"
          ],
          [
           "Bel et Draco Theodotionis versio",
           "Septuaginta",
           "Gammel Testamente"
          ],
          [
           "Bel et Draco translatio Graeca",
           "Septuaginta",
           "Gammel Testamente"
          ],
          [
           "Canticum",
           "Septuaginta",
           "Gammel Testamente"
          ],
          [
           "Daniel Theodotionis versio",
           "Septuaginta",
           "Gammel Testamente"
          ],
          [
           "Daniel translatio Graeca",
           "Septuaginta",
           "Gammel Testamente"
          ],
          [
           "Deuteronomium",
           "Septuaginta",
           "Gammel Testamente"
          ],
          [
           "Ecclesiasticus",
           "Septuaginta",
           "Gammel Testamente"
          ],
          [
           "Epistula Jeremiae",
           "Septuaginta",
           "Gammel Testamente"
          ],
          [
           "Esdras A",
           "Septuaginta",
           "Gammel Testamente"
          ],
          [
           "Esdras B",
           "Septuaginta",
           "Gammel Testamente"
          ],
          [
           "Esther",
           "Septuaginta",
           "Gammel Testamente"
          ],
          [
           "Exodus",
           "Septuaginta",
           "Gammel Testamente"
          ],
          [
           "Ezechiel",
           "Septuaginta",
           "Gammel Testamente"
          ],
          [
           "Genesis",
           "Septuaginta",
           "Gammel Testamente"
          ],
          [
           "Habacuc",
           "Septuaginta",
           "Gammel Testamente"
          ],
          [
           "Isaias",
           "Septuaginta",
           "Gammel Testamente"
          ],
          [
           "Jeremias",
           "Septuaginta",
           "Gammel Testamente"
          ],
          [
           "Job",
           "Septuaginta",
           "Gammel Testamente"
          ],
          [
           "Joel",
           "Septuaginta",
           "Gammel Testamente"
          ],
          [
           "Jonas",
           "Septuaginta",
           "Gammel Testamente"
          ],
          [
           "Josue Cod Vaticanus Cod Alexandrinus",
           "Septuaginta",
           "Gammel Testamente"
          ],
          [
           "Judices Cod Alexandrinus",
           "Septuaginta",
           "Gammel Testamente"
          ],
          [
           "Judith",
           "Septuaginta",
           "Gammel Testamente"
          ],
          [
           "Leviticus",
           "Septuaginta",
           "Gammel Testamente"
          ],
          [
           "Machabaeorum i",
           "Septuaginta",
           "Gammel Testamente"
          ],
          [
           "Machabaeorum ii",
           "Septuaginta",
           "Gammel Testamente"
          ],
          [
           "Machabaeorum iii",
           "Septuaginta",
           "Gammel Testamente"
          ],
          [
           "Machabaeorum iv",
           "Septuaginta",
           "Gammel Testamente"
          ],
          [
           "Malachias",
           "Septuaginta",
           "Gammel Testamente"
          ],
          [
           "Michaeas",
           "Septuaginta",
           "Gammel Testamente"
          ],
          [
           "Nahum",
           "Septuaginta",
           "Gammel Testamente"
          ],
          [
           "Numeri",
           "Septuaginta",
           "Gammel Testamente"
          ],
          [
           "Odae",
           "Septuaginta",
           "Gammel Testamente"
          ],
          [
           "Osee",
           "Septuaginta",
           "Gammel Testamente"
          ],
          [
           "Paralipomenon I sive Chronicon I",
           "Septuaginta",
           "Gammel Testamente"
          ],
          [
           "Paralipomenon II sive Chronicon II",
           "Septuaginta",
           "Gammel Testamente"
          ],
          [
           "Proverbia",
           "Septuaginta",
           "Gammel Testamente"
          ],
          [
           "Psalmi",
           "Septuaginta",
           "Gammel Testamente"
          ],
          [
           "Psalmi Salomonis",
           "Septuaginta",
           "Gammel Testamente"
          ],
          [
           "Regnorum I Samuelis I in textu Masoretico",
           "Septuaginta",
           "Gammel Testamente"
          ],
          [
           "Regnorum II Samuelis II In Textu Masoretico",
           "Septuaginta",
           "Gammel Testamente"
          ],
          [
           "Regnorum III Regum I in textu Masoretico",
           "Septuaginta",
           "Gammel Testamente"
          ],
          [
           "Regnorum IV Regum II in textu Masoretico",
           "Septuaginta",
           "Gammel Testamente"
          ],
          [
           "Ruth",
           "Septuaginta",
           "Gammel Testamente"
          ],
          [
           "Sapientia Salomonis",
           "Septuaginta",
           "Gammel Testamente"
          ],
          [
           "Sophonias",
           "Septuaginta",
           "Gammel Testamente"
          ],
          [
           "Susanna Theodotionis versio",
           "Septuaginta",
           "Gammel Testamente"
          ],
          [
           "Susanna translatio Graeca",
           "Septuaginta",
           "Gammel Testamente"
          ],
          [
           "Threni seu Lamentationes",
           "Septuaginta",
           "Gammel Testamente"
          ],
          [
           "Tobias",
           "Septuaginta",
           "Gammel Testamente"
          ],
          [
           "Zacharias",
           "Septuaginta",
           "Gammel Testamente"
          ]
         ],
         "hovertemplate": "x=%{x}<br>y=%{y}<br>z=%{z}<br>værk=%{customdata[0]}<br>forfatter=%{customdata[1]}<extra></extra>",
         "legendgroup": "Gammel Testamente",
         "marker": {
          "color": "#ab63fa",
          "symbol": "circle"
         },
         "mode": "markers",
         "name": "Gammel Testamente",
         "scene": "scene",
         "showlegend": true,
         "type": "scatter3d",
         "x": [
          -5.049891281136185,
          -3.31683707847453,
          4.7058416411824915,
          -7.254020155482385,
          -7.319563203033477,
          2.159006912485564,
          3.948996039532932,
          4.123781544686233,
          11.065916551974595,
          4.661162182244929,
          -1.931804636297352,
          9.067055130282531,
          8.975764240997622,
          -1.2691397570232,
          -7.367295411382223,
          2.7901097893564444,
          -8.59954297694589,
          4.544471775308039,
          -0.940781118775525,
          -0.1637124540831148,
          -6.639536398450185,
          9.711417105539752,
          -2.2640084531088367,
          -5.732364176405466,
          -1.011914785512909,
          4.376468696647567,
          -5.3681062365661205,
          3.132456901748349,
          -0.183051090758267,
          4.131449794559807,
          -1.1543146065397125,
          -4.313238471354069,
          5.032598197695501,
          5.5707756531218084,
          -6.382550323089225,
          2.3499530221298848,
          1.5862786398703241,
          5.983206389879911,
          6.244169183344814,
          -5.436361808531366,
          4.961683730228596,
          13.157110494981627,
          -6.579840043749953,
          -6.6639149766463515,
          -6.1411643899357955,
          -6.291248633192837,
          -7.673983695132317,
          -0.6580203123319218,
          6.16846702129245,
          -5.233956264307946,
          -5.711769822247372,
          1.5038860716315654,
          -3.685963473813729,
          -2.8450744181615644
         ],
         "y": [
          -0.949328194071101,
          -0.4103361621709938,
          -0.4426471369782529,
          -1.0563229982504259,
          -0.9838646460452013,
          -0.5782904337879794,
          0.14829372192344234,
          0.18528470057480476,
          0.5410485601789133,
          0.41949316780470675,
          -0.795802837545839,
          0.1244712679784917,
          0.28140198717582293,
          -0.13378162279309574,
          0.44345011313942156,
          0.600245030348413,
          0.5563289892441695,
          -0.8147952683479324,
          0.5340578630374089,
          0.5666158293570764,
          0.19172026783184745,
          -0.6205192988466515,
          -0.8687470905264082,
          0.23365890444035997,
          0.3008362315784235,
          0.10563083295800829,
          0.348191023625329,
          0.40028496293404736,
          0.18414538331681818,
          -0.15255913190670004,
          0.0019422639193127536,
          -0.7737084063665415,
          -0.48316597870491085,
          -0.8737148678224266,
          0.4563598542921785,
          -0.2481266589986752,
          -0.2836795573134347,
          0.36277775043533,
          0.4836319687778402,
          0.1122569301198001,
          0.6866641995208437,
          -0.10236402046456891,
          0.3581054130044762,
          0.3105107052176903,
          0.371787882835107,
          0.32750009500435656,
          -0.6401326192069793,
          -0.06522383146201272,
          -0.7547566482581118,
          -0.8697415578456248,
          -0.9784032029806604,
          -0.4895852455250875,
          -0.17905269706185406,
          -0.21648907095658665
         ],
         "z": [
          0.4941823841706993,
          0.2789840305992845,
          0.6433190372277183,
          0.341002264007698,
          0.3244647347020983,
          0.5120600869810377,
          0.4898743839972453,
          0.39161472239222184,
          1.0236515139336366,
          0.20576643297206557,
          0.16448032224997208,
          0.4510624935540108,
          0.5815948517014419,
          0.17798347084262015,
          0.40239329009581803,
          0.5982492263778015,
          0.5739691711719274,
          0.4376623840031882,
          0.3737339883579596,
          0.4286077583896255,
          0.19293711429089244,
          0.5526459457614573,
          0.42297491898387896,
          0.3434989640104308,
          0.4404993533766518,
          0.4590628119132634,
          0.505829954848282,
          0.13023678484452317,
          -0.3444310692351354,
          -0.361367401509664,
          -0.20285075874901212,
          0.09869578729936945,
          0.5088080011801364,
          0.12214861519584469,
          0.3049323165290518,
          0.4259800704063383,
          0.276757357264411,
          0.4724255646773848,
          0.5124897613618471,
          -0.17427690594736286,
          0.5617165910937867,
          0.8794742196218981,
          0.4681190169775085,
          0.43958027847776227,
          0.404047020127664,
          0.3975755209717012,
          0.5162238245317329,
          -0.176676575353039,
          0.47797203955331086,
          0.053795885139795205,
          -0.015892037368774706,
          0.08410968697361687,
          0.36971289144485336,
          0.2733511124557373
         ]
        },
        {
         "customdata": [
          [
           "Acts - ACT-ΠΡΑΞΕΙΣ ΑΠΟΣΤΟΛΩΝ",
           "\"Luke\" (Anonymous)",
           "Nye Testamente"
          ],
          [
           "Gospel of John - JHN-ΚΑΤΑ ΙΩΑΝΝΗΝ",
           "\"John\" (Anonymous)",
           "Nye Testamente"
          ],
          [
           "The Gospel of Mark - MRK-ΚΑΤΑ ΜΑΡΚΟΝ",
           "\"Mark\" (Anonymous)",
           "Nye Testamente"
          ]
         ],
         "hovertemplate": "x=%{x}<br>y=%{y}<br>z=%{z}<br>værk=%{customdata[0]}<br>forfatter=%{customdata[1]}<extra></extra>",
         "legendgroup": "Nye Testamente",
         "marker": {
          "color": "#FFA15A",
          "symbol": "circle"
         },
         "mode": "markers",
         "name": "Nye Testamente",
         "scene": "scene",
         "showlegend": true,
         "type": "scatter3d",
         "x": [
          -2.8512606575322224,
          -8.098900189658123,
          -6.075324444804133
         ],
         "y": [
          0.3549947945842507,
          0.24407877042500425,
          0.11817183669196184
         ],
         "z": [
          0.05333193318673655,
          0.5662781133058131,
          0.16452162601791612
         ]
        }
       ],
       "layout": {
        "autosize": true,
        "legend": {
         "title": {
          "text": "category"
         },
         "tracegroupgap": 0
        },
        "margin": {
         "t": 60
        },
        "scene": {
         "aspectmode": "auto",
         "aspectratio": {
          "x": 1,
          "y": 1,
          "z": 1
         },
         "camera": {
          "center": {
           "x": 0,
           "y": 0,
           "z": 0
          },
          "eye": {
           "x": -1.4922914431406313,
           "y": -1.4222350603657197,
           "z": 0.6616749064274472
          },
          "projection": {
           "type": "perspective"
          },
          "up": {
           "x": 0,
           "y": 0,
           "z": 1
          }
         },
         "domain": {
          "x": [
           0,
           1
          ],
          "y": [
           0,
           1
          ]
         },
         "xaxis": {
          "title": {
           "text": "x"
          },
          "type": "linear"
         },
         "yaxis": {
          "title": {
           "text": "y"
          },
          "type": "linear"
         },
         "zaxis": {
          "title": {
           "text": "z"
          },
          "type": "linear"
         }
        },
        "template": {
         "data": {
          "bar": [
           {
            "error_x": {
             "color": "#2a3f5f"
            },
            "error_y": {
             "color": "#2a3f5f"
            },
            "marker": {
             "line": {
              "color": "#E5ECF6",
              "width": 0.5
             },
             "pattern": {
              "fillmode": "overlay",
              "size": 10,
              "solidity": 0.2
             }
            },
            "type": "bar"
           }
          ],
          "barpolar": [
           {
            "marker": {
             "line": {
              "color": "#E5ECF6",
              "width": 0.5
             },
             "pattern": {
              "fillmode": "overlay",
              "size": 10,
              "solidity": 0.2
             }
            },
            "type": "barpolar"
           }
          ],
          "carpet": [
           {
            "aaxis": {
             "endlinecolor": "#2a3f5f",
             "gridcolor": "white",
             "linecolor": "white",
             "minorgridcolor": "white",
             "startlinecolor": "#2a3f5f"
            },
            "baxis": {
             "endlinecolor": "#2a3f5f",
             "gridcolor": "white",
             "linecolor": "white",
             "minorgridcolor": "white",
             "startlinecolor": "#2a3f5f"
            },
            "type": "carpet"
           }
          ],
          "choropleth": [
           {
            "colorbar": {
             "outlinewidth": 0,
             "ticks": ""
            },
            "type": "choropleth"
           }
          ],
          "contour": [
           {
            "colorbar": {
             "outlinewidth": 0,
             "ticks": ""
            },
            "colorscale": [
             [
              0,
              "#0d0887"
             ],
             [
              0.1111111111111111,
              "#46039f"
             ],
             [
              0.2222222222222222,
              "#7201a8"
             ],
             [
              0.3333333333333333,
              "#9c179e"
             ],
             [
              0.4444444444444444,
              "#bd3786"
             ],
             [
              0.5555555555555556,
              "#d8576b"
             ],
             [
              0.6666666666666666,
              "#ed7953"
             ],
             [
              0.7777777777777778,
              "#fb9f3a"
             ],
             [
              0.8888888888888888,
              "#fdca26"
             ],
             [
              1,
              "#f0f921"
             ]
            ],
            "type": "contour"
           }
          ],
          "contourcarpet": [
           {
            "colorbar": {
             "outlinewidth": 0,
             "ticks": ""
            },
            "type": "contourcarpet"
           }
          ],
          "heatmap": [
           {
            "colorbar": {
             "outlinewidth": 0,
             "ticks": ""
            },
            "colorscale": [
             [
              0,
              "#0d0887"
             ],
             [
              0.1111111111111111,
              "#46039f"
             ],
             [
              0.2222222222222222,
              "#7201a8"
             ],
             [
              0.3333333333333333,
              "#9c179e"
             ],
             [
              0.4444444444444444,
              "#bd3786"
             ],
             [
              0.5555555555555556,
              "#d8576b"
             ],
             [
              0.6666666666666666,
              "#ed7953"
             ],
             [
              0.7777777777777778,
              "#fb9f3a"
             ],
             [
              0.8888888888888888,
              "#fdca26"
             ],
             [
              1,
              "#f0f921"
             ]
            ],
            "type": "heatmap"
           }
          ],
          "heatmapgl": [
           {
            "colorbar": {
             "outlinewidth": 0,
             "ticks": ""
            },
            "colorscale": [
             [
              0,
              "#0d0887"
             ],
             [
              0.1111111111111111,
              "#46039f"
             ],
             [
              0.2222222222222222,
              "#7201a8"
             ],
             [
              0.3333333333333333,
              "#9c179e"
             ],
             [
              0.4444444444444444,
              "#bd3786"
             ],
             [
              0.5555555555555556,
              "#d8576b"
             ],
             [
              0.6666666666666666,
              "#ed7953"
             ],
             [
              0.7777777777777778,
              "#fb9f3a"
             ],
             [
              0.8888888888888888,
              "#fdca26"
             ],
             [
              1,
              "#f0f921"
             ]
            ],
            "type": "heatmapgl"
           }
          ],
          "histogram": [
           {
            "marker": {
             "pattern": {
              "fillmode": "overlay",
              "size": 10,
              "solidity": 0.2
             }
            },
            "type": "histogram"
           }
          ],
          "histogram2d": [
           {
            "colorbar": {
             "outlinewidth": 0,
             "ticks": ""
            },
            "colorscale": [
             [
              0,
              "#0d0887"
             ],
             [
              0.1111111111111111,
              "#46039f"
             ],
             [
              0.2222222222222222,
              "#7201a8"
             ],
             [
              0.3333333333333333,
              "#9c179e"
             ],
             [
              0.4444444444444444,
              "#bd3786"
             ],
             [
              0.5555555555555556,
              "#d8576b"
             ],
             [
              0.6666666666666666,
              "#ed7953"
             ],
             [
              0.7777777777777778,
              "#fb9f3a"
             ],
             [
              0.8888888888888888,
              "#fdca26"
             ],
             [
              1,
              "#f0f921"
             ]
            ],
            "type": "histogram2d"
           }
          ],
          "histogram2dcontour": [
           {
            "colorbar": {
             "outlinewidth": 0,
             "ticks": ""
            },
            "colorscale": [
             [
              0,
              "#0d0887"
             ],
             [
              0.1111111111111111,
              "#46039f"
             ],
             [
              0.2222222222222222,
              "#7201a8"
             ],
             [
              0.3333333333333333,
              "#9c179e"
             ],
             [
              0.4444444444444444,
              "#bd3786"
             ],
             [
              0.5555555555555556,
              "#d8576b"
             ],
             [
              0.6666666666666666,
              "#ed7953"
             ],
             [
              0.7777777777777778,
              "#fb9f3a"
             ],
             [
              0.8888888888888888,
              "#fdca26"
             ],
             [
              1,
              "#f0f921"
             ]
            ],
            "type": "histogram2dcontour"
           }
          ],
          "mesh3d": [
           {
            "colorbar": {
             "outlinewidth": 0,
             "ticks": ""
            },
            "type": "mesh3d"
           }
          ],
          "parcoords": [
           {
            "line": {
             "colorbar": {
              "outlinewidth": 0,
              "ticks": ""
             }
            },
            "type": "parcoords"
           }
          ],
          "pie": [
           {
            "automargin": true,
            "type": "pie"
           }
          ],
          "scatter": [
           {
            "fillpattern": {
             "fillmode": "overlay",
             "size": 10,
             "solidity": 0.2
            },
            "type": "scatter"
           }
          ],
          "scatter3d": [
           {
            "line": {
             "colorbar": {
              "outlinewidth": 0,
              "ticks": ""
             }
            },
            "marker": {
             "colorbar": {
              "outlinewidth": 0,
              "ticks": ""
             }
            },
            "type": "scatter3d"
           }
          ],
          "scattercarpet": [
           {
            "marker": {
             "colorbar": {
              "outlinewidth": 0,
              "ticks": ""
             }
            },
            "type": "scattercarpet"
           }
          ],
          "scattergeo": [
           {
            "marker": {
             "colorbar": {
              "outlinewidth": 0,
              "ticks": ""
             }
            },
            "type": "scattergeo"
           }
          ],
          "scattergl": [
           {
            "marker": {
             "colorbar": {
              "outlinewidth": 0,
              "ticks": ""
             }
            },
            "type": "scattergl"
           }
          ],
          "scattermapbox": [
           {
            "marker": {
             "colorbar": {
              "outlinewidth": 0,
              "ticks": ""
             }
            },
            "type": "scattermapbox"
           }
          ],
          "scatterpolar": [
           {
            "marker": {
             "colorbar": {
              "outlinewidth": 0,
              "ticks": ""
             }
            },
            "type": "scatterpolar"
           }
          ],
          "scatterpolargl": [
           {
            "marker": {
             "colorbar": {
              "outlinewidth": 0,
              "ticks": ""
             }
            },
            "type": "scatterpolargl"
           }
          ],
          "scatterternary": [
           {
            "marker": {
             "colorbar": {
              "outlinewidth": 0,
              "ticks": ""
             }
            },
            "type": "scatterternary"
           }
          ],
          "surface": [
           {
            "colorbar": {
             "outlinewidth": 0,
             "ticks": ""
            },
            "colorscale": [
             [
              0,
              "#0d0887"
             ],
             [
              0.1111111111111111,
              "#46039f"
             ],
             [
              0.2222222222222222,
              "#7201a8"
             ],
             [
              0.3333333333333333,
              "#9c179e"
             ],
             [
              0.4444444444444444,
              "#bd3786"
             ],
             [
              0.5555555555555556,
              "#d8576b"
             ],
             [
              0.6666666666666666,
              "#ed7953"
             ],
             [
              0.7777777777777778,
              "#fb9f3a"
             ],
             [
              0.8888888888888888,
              "#fdca26"
             ],
             [
              1,
              "#f0f921"
             ]
            ],
            "type": "surface"
           }
          ],
          "table": [
           {
            "cells": {
             "fill": {
              "color": "#EBF0F8"
             },
             "line": {
              "color": "white"
             }
            },
            "header": {
             "fill": {
              "color": "#C8D4E3"
             },
             "line": {
              "color": "white"
             }
            },
            "type": "table"
           }
          ]
         },
         "layout": {
          "annotationdefaults": {
           "arrowcolor": "#2a3f5f",
           "arrowhead": 0,
           "arrowwidth": 1
          },
          "autotypenumbers": "strict",
          "coloraxis": {
           "colorbar": {
            "outlinewidth": 0,
            "ticks": ""
           }
          },
          "colorscale": {
           "diverging": [
            [
             0,
             "#8e0152"
            ],
            [
             0.1,
             "#c51b7d"
            ],
            [
             0.2,
             "#de77ae"
            ],
            [
             0.3,
             "#f1b6da"
            ],
            [
             0.4,
             "#fde0ef"
            ],
            [
             0.5,
             "#f7f7f7"
            ],
            [
             0.6,
             "#e6f5d0"
            ],
            [
             0.7,
             "#b8e186"
            ],
            [
             0.8,
             "#7fbc41"
            ],
            [
             0.9,
             "#4d9221"
            ],
            [
             1,
             "#276419"
            ]
           ],
           "sequential": [
            [
             0,
             "#0d0887"
            ],
            [
             0.1111111111111111,
             "#46039f"
            ],
            [
             0.2222222222222222,
             "#7201a8"
            ],
            [
             0.3333333333333333,
             "#9c179e"
            ],
            [
             0.4444444444444444,
             "#bd3786"
            ],
            [
             0.5555555555555556,
             "#d8576b"
            ],
            [
             0.6666666666666666,
             "#ed7953"
            ],
            [
             0.7777777777777778,
             "#fb9f3a"
            ],
            [
             0.8888888888888888,
             "#fdca26"
            ],
            [
             1,
             "#f0f921"
            ]
           ],
           "sequentialminus": [
            [
             0,
             "#0d0887"
            ],
            [
             0.1111111111111111,
             "#46039f"
            ],
            [
             0.2222222222222222,
             "#7201a8"
            ],
            [
             0.3333333333333333,
             "#9c179e"
            ],
            [
             0.4444444444444444,
             "#bd3786"
            ],
            [
             0.5555555555555556,
             "#d8576b"
            ],
            [
             0.6666666666666666,
             "#ed7953"
            ],
            [
             0.7777777777777778,
             "#fb9f3a"
            ],
            [
             0.8888888888888888,
             "#fdca26"
            ],
            [
             1,
             "#f0f921"
            ]
           ]
          },
          "colorway": [
           "#636efa",
           "#EF553B",
           "#00cc96",
           "#ab63fa",
           "#FFA15A",
           "#19d3f3",
           "#FF6692",
           "#B6E880",
           "#FF97FF",
           "#FECB52"
          ],
          "font": {
           "color": "#2a3f5f"
          },
          "geo": {
           "bgcolor": "white",
           "lakecolor": "white",
           "landcolor": "#E5ECF6",
           "showlakes": true,
           "showland": true,
           "subunitcolor": "white"
          },
          "hoverlabel": {
           "align": "left"
          },
          "hovermode": "closest",
          "mapbox": {
           "style": "light"
          },
          "paper_bgcolor": "white",
          "plot_bgcolor": "#E5ECF6",
          "polar": {
           "angularaxis": {
            "gridcolor": "white",
            "linecolor": "white",
            "ticks": ""
           },
           "bgcolor": "#E5ECF6",
           "radialaxis": {
            "gridcolor": "white",
            "linecolor": "white",
            "ticks": ""
           }
          },
          "scene": {
           "xaxis": {
            "backgroundcolor": "#E5ECF6",
            "gridcolor": "white",
            "gridwidth": 2,
            "linecolor": "white",
            "showbackground": true,
            "ticks": "",
            "zerolinecolor": "white"
           },
           "yaxis": {
            "backgroundcolor": "#E5ECF6",
            "gridcolor": "white",
            "gridwidth": 2,
            "linecolor": "white",
            "showbackground": true,
            "ticks": "",
            "zerolinecolor": "white"
           },
           "zaxis": {
            "backgroundcolor": "#E5ECF6",
            "gridcolor": "white",
            "gridwidth": 2,
            "linecolor": "white",
            "showbackground": true,
            "ticks": "",
            "zerolinecolor": "white"
           }
          },
          "shapedefaults": {
           "line": {
            "color": "#2a3f5f"
           }
          },
          "ternary": {
           "aaxis": {
            "gridcolor": "white",
            "linecolor": "white",
            "ticks": ""
           },
           "baxis": {
            "gridcolor": "white",
            "linecolor": "white",
            "ticks": ""
           },
           "bgcolor": "#E5ECF6",
           "caxis": {
            "gridcolor": "white",
            "linecolor": "white",
            "ticks": ""
           }
          },
          "title": {
           "x": 0.05
          },
          "xaxis": {
           "automargin": true,
           "gridcolor": "white",
           "linecolor": "white",
           "ticks": "",
           "title": {
            "standoff": 15
           },
           "zerolinecolor": "white",
           "zerolinewidth": 2
          },
          "yaxis": {
           "automargin": true,
           "gridcolor": "white",
           "linecolor": "white",
           "ticks": "",
           "title": {
            "standoff": 15
           },
           "zerolinecolor": "white",
           "zerolinewidth": 2
          }
         }
        }
       }
      },
      "image/png": "[encoded data removed]",
      "text/html": [
       "<div>                            <div id=\"0dcdf7ad-6de2-4294-8244-d83877e253c3\" class=\"plotly-graph-div\" style=\"height:800px; width:100%;\"></div>            <script type=\"text/javascript\">                require([\"plotly\"], function(Plotly) {                    window.PLOTLYENV=window.PLOTLYENV || {};                                    if (document.getElementById(\"0dcdf7ad-6de2-4294-8244-d83877e253c3\")) {                    Plotly.newPlot(                        \"0dcdf7ad-6de2-4294-8244-d83877e253c3\",                        [{\"customdata\":[[\"Leucippe et Clitophon\",\"Achilles Tatius\",\"Narratio Ficta\"],[\"De Chaerea et Callirhoe - Chaereas and Kallirhoe\",\"Chariton\",\"Narratio Ficta\"],[\"\\u1f49\\u03bc\\u03af\\u03bb\\u03b1\\u03b9\",\"Clemens Romanus\",\"Narratio Ficta\"],[\"Aethiopica\",\"Heliodorus of Emesa\",\"Narratio Ficta\"],[\"Babyloniaca\",\"Iamblichus (TLG = 1441)\",\"Narratio Ficta\"],[\"Daphnis and Chloe\",\"Longus\",\"Narratio Ficta\"],[\"51. Love Stories (Amatoriae narrationes) - \\u1f18\\u03c1\\u03c9\\u03c4\\u03b9\\u03ba\\u03b1\\u1f76 \\u03b4\\u03b9\\u03b7\\u03b3\\u03ae\\u03c3\\u03b5\\u03b9\\u03c2\",\"Plutarch\",\"Narratio Ficta\"],[\"The Stories of Sinbad - Narrationes de Syntipa\",\"Michael Andreopulus (Syntipas)\",\"Narratio Ficta\"],[\"Vita Aesopi Pl vel Accursiana (sub auctore Maximo Planude) (recensio 1)\",\"Vitae Aesopi\",\"Narratio Ficta\"],[\"Ephesiaca\",\"Xenophon of Ephesus\",\"Narratio Ficta\"]],\"hovertemplate\":\"x=%{x}<br>y=%{y}<br>z=%{z}<br>v\\u00e6rk=%{customdata[0]}<br>forfatter=%{customdata[1]}<extra></extra>\",\"legendgroup\":\"Narratio Ficta\",\"marker\":{\"color\":\"#636efa\",\"symbol\":\"circle\"},\"mode\":\"markers\",\"name\":\"Narratio Ficta\",\"scene\":\"scene\",\"showlegend\":true,\"x\":[-6.793723916841679,-7.262365021858361,0.5753365729138439,2.1129838377240806,-3.6035501491015216,-1.4377967061142112,-1.5562209054947616,-6.196780773010307,-6.271899323971091,-3.897315848625419],\"y\":[0.6806740432854614,0.5984432404449023,0.9226636617027288,1.0105766204943325,-0.8437346592413776,0.39723541660130995,-0.6392267889391603,0.13696887151749582,0.1345763863444994,0.30015525194137804],\"z\":[0.06103176958777216,-0.2532028078152723,0.05757309625896329,0.004675548265346462,-0.1692604050181868,0.012118635195983034,-0.18836928133993436,0.0895195121572554,0.08921374126017603,-0.003192302558789224],\"type\":\"scatter3d\"},{\"customdata\":[[\"Historiae\",\"Agathias Scholasticus\",\"Historica\"],[\"Alexias\",\"Anna Comnena\",\"Historica\"],[\"\\u0399\\u03b2\\u03b7\\u03c1\\u03b9\\u03ba\\u03ae\",\"Appian\",\"Historica\"],[\"\\u039b\\u03b9\\u03b2\\u03c5\\u03ba\\u03ae\",\"Appian\",\"Historica\"],[\"\\u039c\\u03b9\\u03b8\\u03c1\\u03b9\\u03b4\\u03ac\\u03c4\\u03b5\\u03b9\\u03bf\\u03c2\",\"Appian\",\"Historica\"],[\"\\u03a3\\u03c5\\u03c1\\u03b9\\u03b1\\u03ba\\u03ae\",\"Appian\",\"Historica\"],[\"\\u1f08\\u03bd\\u03bd\\u03b9\\u03b2\\u03b1\\u03ca\\u03ba\\u03ae\",\"Appian\",\"Historica\"],[\"\\u1f10\\u03ba \\u03c4\\u1fc6\\u03c2 \\u039a\\u03b5\\u03bb\\u03c4\\u1fd6\\u03ba\\u03b7\\u03c2 (Celtica)\",\"Appian\",\"Historica\"],[\"\\u1f10\\u03ba \\u03c4\\u1fc6\\u03c2 \\u039c\\u03b1\\u03ba\\u03b5\\u03b4\\u03bf\\u03bd\\u03b9\\u03ba\\u1fc6\\u03c2\",\"Appian\",\"Historica\"],[\"\\u1f10\\u03ba \\u03c4\\u1fc6\\u03c2 \\u03a3\\u03b1\\u03c5\\u03bd\\u03b9\\u03c4\\u03b9\\u03ba\\u1fc6\\u03c2\",\"Appian\",\"Historica\"],[\"\\u1f10\\u03ba \\u03c4\\u1fc6\\u03c2 \\u03a3\\u03b9\\u03ba\\u03b5\\u03bb\\u1fd6\\u03ba\\u03b7\\u03c2 \\u03ba\\u03b1\\u1f76 \\u03bd\\u03b7\\u03c3\\u03b9\\u03c9\\u03c4\\u03b9\\u03ba\\u03ae\\u03c2\",\"Appian\",\"Historica\"],[\"\\u1f10\\u03ba \\u03c4\\u1fc6\\u03c2 \\u03b2\\u03b1\\u03c3\\u03b9\\u03bb\\u03b9\\u03ba\\u1fc6\\u03c2\",\"Appian\",\"Historica\"],[\"\\u1f10\\u03ba \\u03c4\\u1fc6\\u03c2 \\u1f38\\u03c4\\u03b1\\u03bb\\u03b9\\u03ba\\u1fc6\\u03c2\",\"Appian\",\"Historica\"],[\"\\u1f18\\u03bc\\u03c6\\u03c5\\u03bb\\u03af\\u03c9\\u03bd \\u03a0\\u03c1\\u03ce\\u03c4\\u03b7 (Bellum civile...?) (TLG = 017)\",\"Appian\",\"Historica\"],[\"\\u1f38\\u03bb\\u03bb\\u03c5\\u03c1\\u03b9\\u03ba\\u03ae\",\"Appian\",\"Historica\"],[\"Acies contra Alanos - Ektaxis kata Alanon\",\"Arrian\",\"Historica\"],[\"Anabasis of Alexander\",\"Arrian\",\"Historica\"],[\"Cynegeticus - the hunting man (hunting dogs)\",\"Arrian\",\"Historica\"],[\"Historia Indica\",\"Arrian\",\"Historica\"],[\"Historiae Romanae\",\"Cassius Dio\",\"Historica\"],[\"Bibliotheca Historica, Books I-V\",\"Diodorus Siculus\",\"Historica\"],[\"Bibliotheca Historica, Books XVIII-XX\",\"Diodorus Siculus\",\"Historica\"],[\"Antiquitates Romanae, Books I-XX (incompl.?)\",\"Dionysius of Halicarnassus\",\"Historica\"],[\"Summary of Roman History - Breviarium historiae romanae\",\"Eutropius (oversat fra latin til gr\\u00e6sk i 380 AD af Paeanius)\",\"Historica\"],[\"Jewish Antiquitites - Antiquitates Judaicae\",\"Flavius Josephus\",\"Historica\"],[\"The Jewish War - De bello Judaico libri vii (KUN BOG 7\\u2026?)\",\"Flavius Josephus\",\"Historica\"],[\"The Histories\",\"Herodotus\",\"Historica\"],[\"Histories\",\"Polybius\",\"Historica\"],[\"Secret History - \\u1f08\\u03c0\\u03cc\\u03ba\\u03c1\\u03c5\\u03c6\\u03b7 \\u1f39\\u03c3\\u03c4\\u03bf\\u03c1\\u03af\\u03b1, Historia Arcana (Anecdota)\",\"Procopius\",\"Historica\"],[\"On the Wars / History of the Wars - De Bellis\",\"Procopius\",\"Historica\"],[\"The Peloponnesian War\",\"Thucydides\",\"Historica\"],[\"Anabasis\",\"Xenophon of Athens\",\"Historica\"],[\"Historia Nova\",\"Zosimus\",\"Historica\"]],\"hovertemplate\":\"x=%{x}<br>y=%{y}<br>z=%{z}<br>v\\u00e6rk=%{customdata[0]}<br>forfatter=%{customdata[1]}<extra></extra>\",\"legendgroup\":\"Historica\",\"marker\":{\"color\":\"#EF553B\",\"symbol\":\"circle\"},\"mode\":\"markers\",\"name\":\"Historica\",\"scene\":\"scene\",\"showlegend\":true,\"x\":[-4.78081380557586,-4.408672557164253,3.0227098813530615,2.905529237021089,5.021276945172443,3.7027043903213626,3.323480476503172,3.91261178322041,5.727114099616934,2.405109221432868,6.65631567800357,5.087452368705083,4.127521174550587,3.6982228288731953,1.5054590339856382,-4.150445283281655,-2.723025279674373,-2.0602622055629047,-2.9462477046380218,-3.7221872833971266,-1.1420856883108117,-1.7448112252341792,-1.6322004400834818,2.606506792409065,-2.115588356791592,-3.9096968689392373,-3.46737059034061,-3.32327489869241,-2.8837100729208327,2.3104489210010173,3.5730400434517544,-4.67020256180778,4.833595243616857],\"y\":[0.8533055892536224,1.24596964320794,0.3391568944446279,0.5328638368352799,0.531474009765275,0.2770821373012149,0.12389327324177819,-0.5265750511248616,-0.28086751110721947,-0.33202825357336385,-0.8614182429025372,-0.9125513053352076,-0.8064292875585048,1.2093375866203744,-0.18985480373944594,-0.8154629113895733,0.9873592388352778,-0.1262909494052555,0.23118170407781224,1.368147575450886,1.1885320298899669,0.9990103356996882,1.55311047089615,0.5105603391463506,1.5828818711652126,1.1828246755579093,1.3547308019381865,1.5867680719414419,0.601962773546693,1.4850216455093677,1.317280438202517,0.8336194121300436,0.9444410648913348],\"z\":[-0.1848324130299536,-0.2714061213019885,-0.10882994418470324,-0.00022273811335894917,-0.08470797354427637,-0.04876296338249392,-0.06383480004720238,-0.16346515407941287,-0.019977924125074428,-0.02836844934231161,-0.3147286970243646,0.36232839440915054,0.021961348750510784,0.021309072039639634,-0.14138909933130486,-0.008890054064733604,0.15995414749817077,0.23940292130257507,0.04177335428516534,0.04970391482287278,-0.2403397757208554,-0.4572945297204641,-0.08496536366815442,-0.20807940932990526,-0.09660000669436784,-0.21993117160736136,-0.06937855671607977,-0.07850575652295087,-0.24331609046735722,-0.15277866240501828,-0.01731318500859495,0.021269813210572776,-0.26041240689054074],\"type\":\"scatter3d\"},{\"customdata\":[[\"Vitae Sophistarum (23 stk)\",\"Eunapius\",\"Biographa\"],[\"Demonax\",\"Lucian\",\"Biographa\"],[\"Life of the Sophists - Vitae Sophistarum (flere)\",\"Philostratus the Athenian\",\"Biographa\"],[\"Aemilius Paulus\",\"Plutarch\",\"Biographa\"],[\"Agesilaus\",\"Plutarch\",\"Biographa\"],[\"Agis and Cleomenes\",\"Plutarch\",\"Biographa\"],[\"Alcibiades\",\"Plutarch\",\"Biographa\"],[\"Alexander\",\"Plutarch\",\"Biographa\"],[\"Antony\",\"Plutarch\",\"Biographa\"],[\"Aratus\",\"Plutarch\",\"Biographa\"],[\"Artaxerxes\",\"Plutarch\",\"Biographa\"],[\"Brutus\",\"Plutarch\",\"Biographa\"],[\"Caesar\",\"Plutarch\",\"Biographa\"],[\"Caius Marcius Coriolanus\",\"Plutarch\",\"Biographa\"],[\"Caius Marius\",\"Plutarch\",\"Biographa\"],[\"Camillus\",\"Plutarch\",\"Biographa\"],[\"Cato the Younger (Minor)\",\"Plutarch\",\"Biographa\"],[\"Cicero\",\"Plutarch\",\"Biographa\"],[\"Cimon\",\"Plutarch\",\"Biographa\"],[\"Comparison of Agesilaus and Pompey\",\"Plutarch\",\"Biographa\"],[\"Comparison of Agis and Cleomenes and the Gracchi\",\"Plutarch\",\"Biographa\"],[\"Comparison of Alcibiades and Coriolanus\",\"Plutarch\",\"Biographa\"],[\"Comparison of Aristides and Marcus Cato\",\"Plutarch\",\"Biographa\"],[\"Comparison of Demetrius and Antony\",\"Plutarch\",\"Biographa\"],[\"Comparison of Demosthenes and Cicero\",\"Plutarch\",\"Biographa\"],[\"Comparison of Dion and Brutus\",\"Plutarch\",\"Biographa\"],[\"Comparison of Lucullus and Cimon\",\"Plutarch\",\"Biographa\"],[\"Comparison of Lycurgus and Numa\",\"Plutarch\",\"Biographa\"],[\"Comparison of Lysander and Sulla\",\"Plutarch\",\"Biographa\"],[\"Comparison of Nicias and Crassus\",\"Plutarch\",\"Biographa\"],[\"Comparison of Pelopidas and Marcellus\",\"Plutarch\",\"Biographa\"],[\"Comparison of Pericles and Fabius Maximus\",\"Plutarch\",\"Biographa\"],[\"Comparison of Philopoemen and Titus\",\"Plutarch\",\"Biographa\"],[\"Comparison of Solon and Publicola\",\"Plutarch\",\"Biographa\"],[\"Comparison of Theseus and Romulus\",\"Plutarch\",\"Biographa\"],[\"Crassus\",\"Plutarch\",\"Biographa\"],[\"Demetrius\",\"Plutarch\",\"Biographa\"],[\"Demosthenes\",\"Plutarch\",\"Biographa\"],[\"Dion\",\"Plutarch\",\"Biographa\"],[\"Eumenes\",\"Plutarch\",\"Biographa\"],[\"Fabius Maximus\",\"Plutarch\",\"Biographa\"],[\"Galba\",\"Plutarch\",\"Biographa\"],[\"Lucullus\",\"Plutarch\",\"Biographa\"],[\"Lycurgus\",\"Plutarch\",\"Biographa\"],[\"Lysander\",\"Plutarch\",\"Biographa\"],[\"Machine readable text\",\"Plutarch\",\"Biographa\"],[\"Marcellus\",\"Plutarch\",\"Biographa\"],[\" Marcus Cato (Maior)\",\"Plutarch\",\"Biographa\"],[\"Nicias\",\"Plutarch\",\"Biographa\"],[\"Numa\",\"Plutarch\",\"Biographa\"],[\"Otho\",\"Plutarch\",\"Biographa\"],[\"Pelopidas\",\"Plutarch\",\"Biographa\"],[\"Pericles\",\"Plutarch\",\"Biographa\"],[\"Philopoemen\",\"Plutarch\",\"Biographa\"],[\"Phocion\",\"Plutarch\",\"Biographa\"],[\"Pompey\",\"Plutarch\",\"Biographa\"],[\"Publicola\",\"Plutarch\",\"Biographa\"],[\"Pyrrhus\",\"Plutarch\",\"Biographa\"],[\"Romulus\",\"Plutarch\",\"Biographa\"],[\"Sertorius\",\"Plutarch\",\"Biographa\"],[\"Solon\",\"Plutarch\",\"Biographa\"],[\"Sulla\",\"Plutarch\",\"Biographa\"],[\"Themistocles\",\"Plutarch\",\"Biographa\"],[\"Theseus\",\"Plutarch\",\"Biographa\"],[\"Tiberius and Caius Gracchus\",\"Plutarch\",\"Biographa\"],[\"Timoleon\",\"Plutarch\",\"Biographa\"],[\"Titus Flamininus\",\"Plutarch\",\"Biographa\"],[\"58. Lives of the Ten Orators Vitae decem oratorum) - Vitae decem oratorum\",\"Plutarch\",\"Biographa\"],[\"Vitae Euripidis\",\"Scholia in Euripidem\",\"Biographa\"],[\"Vita Hippocratis Secundum Soranum\",\"Soranus\",\"Biographa\"],[\"Plutarchi vita\",\"Vitae Homeri\",\"Biographa\"],[\"Sudae vita\",\"Vitae Homeri\",\"Biographa\"],[\"Vita Herodotea\",\"Vitae Homeri\",\"Biographa\"],[\"Vita Proculea (e Chrestomathia)\",\"Vitae Homeri\",\"Biographa\"],[\"Vita sexta\",\"Vitae Homeri\",\"Biographa\"]],\"hovertemplate\":\"x=%{x}<br>y=%{y}<br>z=%{z}<br>v\\u00e6rk=%{customdata[0]}<br>forfatter=%{customdata[1]}<extra></extra>\",\"legendgroup\":\"Biographa\",\"marker\":{\"color\":\"#00cc96\",\"symbol\":\"circle\"},\"mode\":\"markers\",\"name\":\"Biographa\",\"scene\":\"scene\",\"showlegend\":true,\"x\":[-2.084678353288879,-3.946012720918826,-4.302162012077599,3.2617099105480656,-0.5668880966597618,1.9872867259769482,0.9095915780731115,-0.47531082345874054,-0.12042822371892081,2.333455980632107,-0.6512061164521836,0.6421549109382666,1.192890451864696,2.8643234376739715,2.321470389045721,-0.44557854204997555,1.501779805148025,1.1615340452663137,3.1236404933817696,2.833884646364185,0.47451384081603437,-2.1167248757236403,2.5411123947038323,1.2445500779618626,5.532163877022897,2.4877845649729338,1.8096351832137123,-1.2401755853117173,1.1706919215890557,4.0112037161425285,2.787066208547033,-0.4062625051723571,-0.6521163082116335,-1.5167869827499607,0.6268224590471616,-0.28782304773972045,2.1853201134182925,3.104978239811786,3.5435094007827224,-0.03087011611649274,2.1722035417504943,1.629593789739802,2.78649586659079,1.8794860569261203,0.7054548913916622,2.8761562774059453,1.5103964924711937,1.0250587935925806,3.6898325336276585,2.2205213289707606,0.8090365551372202,3.1820829254216116,4.423739980101585,4.279690529309209,-0.35111855831249056,1.091842128783368,-1.4721580020205662,1.7273354839266155,-1.1449989278937092,-0.6246664237752625,2.37515791990792,1.549198274033985,2.675696717603113,-0.03772685052590686,1.6775100008123887,5.052160605430485,2.9229649865140885,-0.8171705570408211,-3.7248249989357,-4.488050388709826,-6.626101861808473,-8.940668522155967,-7.307190467155916,-7.193414468129963,-6.494317744979471],\"y\":[-0.9645942565984567,-0.42375253548844805,0.5436349473431795,0.11948489747706506,0.13710635806510252,0.25491232797487495,0.12264154077676717,0.4062628372339973,0.37738577218686364,0.19973011953510303,-0.025970884589153555,0.19187883953074703,0.3251535347753744,0.10281956477084461,0.23603854993669865,0.15124073926063394,0.34400079231910874,0.19819775494398903,-0.0968858359148966,-0.8328551394955684,-0.8909534948847765,-0.8728693171209922,-0.702598338738569,-0.9314327205122647,-0.8537769301567019,-0.893350215245178,-0.876440677249365,-0.6966013426858495,-0.7867373185500951,-0.7735553233380034,-0.9594252755915293,-1.035303453855427,-1.1489420325892994,-0.9197903262379883,-0.817755634643909,0.11869375704204507,0.21842562529960077,-0.03178463944628409,0.2091365875226337,-0.14794336859042095,0.016203713479947264,-0.08786654787200544,0.25643330838526535,0.09762003911044156,0.02797778485298378,0.04500328499913396,0.04836276124284474,0.025531481799853813,0.09716916629265154,0.0031099695785411197,-0.26696026236533177,0.11002279255108814,0.14712964702216558,-0.10008608018555151,0.020570370784737516,0.4231673356819751,-0.1334713464732909,0.16112449389701583,0.06800281344454075,-0.07122857530950122,0.06526594604631088,0.18472053339526054,0.030528586817282478,-0.019252438980791042,0.08647790867400179,0.1068327848908401,-0.10034360206245277,0.06419053636193209,-0.7217347425526442,-1.0752764117454332,-0.9566274125176404,-0.7270320076400177,-0.30023352362054756,-1.1865447513095395,-1.1883843067471245],\"z\":[-0.11270806272370297,0.0027603176599359782,0.055033970363060424,-0.25911983783320275,-0.2770583871925917,-0.27952983577581403,-0.309790188121601,-0.29047060010967335,-0.37954120312042594,-0.21129536779660196,-0.2372965398281166,-0.2489845350992993,-0.2834153432682311,-0.10237842111261103,-0.23771776509908718,-0.24994752352509672,-0.1923232693692056,-0.18762145605471467,-0.23280815686496623,-0.23318486809855998,-0.38473543655883163,-0.3419269593400861,-0.22948140549550575,-0.2785905067452033,-0.2241835463921762,-0.0866447638658483,-0.18818916460984897,-0.06631759969488155,-0.22904797724886403,-0.20009834273086857,-0.20736906699257493,-0.3041434469488642,-0.21877870217670978,-0.2594477834488887,-0.11089251374740135,-0.29891284525242867,-0.29681497359655995,-0.15068842615777786,-0.2793964456677742,-0.38147064851961393,-0.169037821382086,-0.340130486910218,-0.3224009535173092,-0.18888493317252694,-0.3170951255498188,-0.2513807034914211,-0.27902288798713487,-0.1749217356895854,-0.14984611732035993,-0.09973886069297874,-0.3812609898651324,-0.25766469034666295,-0.1776192541209596,-0.27921187780976503,-0.2843594900266516,-0.28523839450214805,-0.2852343378681869,-0.20796125877738494,-0.28543357970496613,-0.41201086268124637,-0.07666853805221734,-0.3090696652791332,-0.22744315673142954,-0.18588088098476685,-0.1350351124317789,-0.31847198350524536,-0.18914090701686465,-0.28855722035116044,-0.2830615639358662,-0.09801257761100474,0.12822190456193008,0.10062297702468218,0.07690827049073812,-0.4290090275455536,0.2392053635677131],\"type\":\"scatter3d\"},{\"customdata\":[[\"Aggaeus\",\"Septuaginta\",\"Gammel Testamente\"],[\"Amos\",\"Septuaginta\",\"Gammel Testamente\"],[\"Baruch\",\"Septuaginta\",\"Gammel Testamente\"],[\"Bel et Draco Theodotionis versio\",\"Septuaginta\",\"Gammel Testamente\"],[\"Bel et Draco translatio Graeca\",\"Septuaginta\",\"Gammel Testamente\"],[\"Canticum\",\"Septuaginta\",\"Gammel Testamente\"],[\"Daniel Theodotionis versio\",\"Septuaginta\",\"Gammel Testamente\"],[\"Daniel translatio Graeca\",\"Septuaginta\",\"Gammel Testamente\"],[\"Deuteronomium\",\"Septuaginta\",\"Gammel Testamente\"],[\"Ecclesiasticus\",\"Septuaginta\",\"Gammel Testamente\"],[\"Epistula Jeremiae\",\"Septuaginta\",\"Gammel Testamente\"],[\"Esdras A\",\"Septuaginta\",\"Gammel Testamente\"],[\"Esdras B\",\"Septuaginta\",\"Gammel Testamente\"],[\"Esther\",\"Septuaginta\",\"Gammel Testamente\"],[\"Exodus\",\"Septuaginta\",\"Gammel Testamente\"],[\"Ezechiel\",\"Septuaginta\",\"Gammel Testamente\"],[\"Genesis\",\"Septuaginta\",\"Gammel Testamente\"],[\"Habacuc\",\"Septuaginta\",\"Gammel Testamente\"],[\"Isaias\",\"Septuaginta\",\"Gammel Testamente\"],[\"Jeremias\",\"Septuaginta\",\"Gammel Testamente\"],[\"Job\",\"Septuaginta\",\"Gammel Testamente\"],[\"Joel\",\"Septuaginta\",\"Gammel Testamente\"],[\"Jonas\",\"Septuaginta\",\"Gammel Testamente\"],[\"Josue Cod Vaticanus Cod Alexandrinus\",\"Septuaginta\",\"Gammel Testamente\"],[\"Judices Cod Alexandrinus\",\"Septuaginta\",\"Gammel Testamente\"],[\"Judith\",\"Septuaginta\",\"Gammel Testamente\"],[\"Leviticus\",\"Septuaginta\",\"Gammel Testamente\"],[\"Machabaeorum i\",\"Septuaginta\",\"Gammel Testamente\"],[\"Machabaeorum ii\",\"Septuaginta\",\"Gammel Testamente\"],[\"Machabaeorum iii\",\"Septuaginta\",\"Gammel Testamente\"],[\"Machabaeorum iv\",\"Septuaginta\",\"Gammel Testamente\"],[\"Malachias\",\"Septuaginta\",\"Gammel Testamente\"],[\"Michaeas\",\"Septuaginta\",\"Gammel Testamente\"],[\"Nahum\",\"Septuaginta\",\"Gammel Testamente\"],[\"Numeri\",\"Septuaginta\",\"Gammel Testamente\"],[\"Odae\",\"Septuaginta\",\"Gammel Testamente\"],[\"Osee\",\"Septuaginta\",\"Gammel Testamente\"],[\"Paralipomenon I sive Chronicon I\",\"Septuaginta\",\"Gammel Testamente\"],[\"Paralipomenon II sive Chronicon II\",\"Septuaginta\",\"Gammel Testamente\"],[\"Proverbia\",\"Septuaginta\",\"Gammel Testamente\"],[\"Psalmi\",\"Septuaginta\",\"Gammel Testamente\"],[\"Psalmi Salomonis\",\"Septuaginta\",\"Gammel Testamente\"],[\"Regnorum I Samuelis I in textu Masoretico\",\"Septuaginta\",\"Gammel Testamente\"],[\"Regnorum II Samuelis II In Textu Masoretico\",\"Septuaginta\",\"Gammel Testamente\"],[\"Regnorum III Regum I in textu Masoretico\",\"Septuaginta\",\"Gammel Testamente\"],[\"Regnorum IV Regum II in textu Masoretico\",\"Septuaginta\",\"Gammel Testamente\"],[\"Ruth\",\"Septuaginta\",\"Gammel Testamente\"],[\"Sapientia Salomonis\",\"Septuaginta\",\"Gammel Testamente\"],[\"Sophonias\",\"Septuaginta\",\"Gammel Testamente\"],[\"Susanna Theodotionis versio\",\"Septuaginta\",\"Gammel Testamente\"],[\"Susanna translatio Graeca\",\"Septuaginta\",\"Gammel Testamente\"],[\"Threni seu Lamentationes\",\"Septuaginta\",\"Gammel Testamente\"],[\"Tobias\",\"Septuaginta\",\"Gammel Testamente\"],[\"Zacharias\",\"Septuaginta\",\"Gammel Testamente\"]],\"hovertemplate\":\"x=%{x}<br>y=%{y}<br>z=%{z}<br>v\\u00e6rk=%{customdata[0]}<br>forfatter=%{customdata[1]}<extra></extra>\",\"legendgroup\":\"Gammel Testamente\",\"marker\":{\"color\":\"#ab63fa\",\"symbol\":\"circle\"},\"mode\":\"markers\",\"name\":\"Gammel Testamente\",\"scene\":\"scene\",\"showlegend\":true,\"x\":[-5.049891281136185,-3.31683707847453,4.7058416411824915,-7.254020155482385,-7.319563203033477,2.159006912485564,3.948996039532932,4.123781544686233,11.065916551974595,4.661162182244929,-1.931804636297352,9.067055130282531,8.975764240997622,-1.2691397570232,-7.367295411382223,2.7901097893564444,-8.59954297694589,4.544471775308039,-0.940781118775525,-0.1637124540831148,-6.639536398450185,9.711417105539752,-2.2640084531088367,-5.732364176405466,-1.011914785512909,4.376468696647567,-5.3681062365661205,3.132456901748349,-0.183051090758267,4.131449794559807,-1.1543146065397125,-4.313238471354069,5.032598197695501,5.5707756531218084,-6.382550323089225,2.3499530221298848,1.5862786398703241,5.983206389879911,6.244169183344814,-5.436361808531366,4.961683730228596,13.157110494981627,-6.579840043749953,-6.6639149766463515,-6.1411643899357955,-6.291248633192837,-7.673983695132317,-0.6580203123319218,6.16846702129245,-5.233956264307946,-5.711769822247372,1.5038860716315654,-3.685963473813729,-2.8450744181615644],\"y\":[-0.949328194071101,-0.4103361621709938,-0.4426471369782529,-1.0563229982504259,-0.9838646460452013,-0.5782904337879794,0.14829372192344234,0.18528470057480476,0.5410485601789133,0.41949316780470675,-0.795802837545839,0.1244712679784917,0.28140198717582293,-0.13378162279309574,0.44345011313942156,0.600245030348413,0.5563289892441695,-0.8147952683479324,0.5340578630374089,0.5666158293570764,0.19172026783184745,-0.6205192988466515,-0.8687470905264082,0.23365890444035997,0.3008362315784235,0.10563083295800829,0.348191023625329,0.40028496293404736,0.18414538331681818,-0.15255913190670004,0.0019422639193127536,-0.7737084063665415,-0.48316597870491085,-0.8737148678224266,0.4563598542921785,-0.2481266589986752,-0.2836795573134347,0.36277775043533,0.4836319687778402,0.1122569301198001,0.6866641995208437,-0.10236402046456891,0.3581054130044762,0.3105107052176903,0.371787882835107,0.32750009500435656,-0.6401326192069793,-0.06522383146201272,-0.7547566482581118,-0.8697415578456248,-0.9784032029806604,-0.4895852455250875,-0.17905269706185406,-0.21648907095658665],\"z\":[0.4941823841706993,0.2789840305992845,0.6433190372277183,0.341002264007698,0.3244647347020983,0.5120600869810377,0.4898743839972453,0.39161472239222184,1.0236515139336366,0.20576643297206557,0.16448032224997208,0.4510624935540108,0.5815948517014419,0.17798347084262015,0.40239329009581803,0.5982492263778015,0.5739691711719274,0.4376623840031882,0.3737339883579596,0.4286077583896255,0.19293711429089244,0.5526459457614573,0.42297491898387896,0.3434989640104308,0.4404993533766518,0.4590628119132634,0.505829954848282,0.13023678484452317,-0.3444310692351354,-0.361367401509664,-0.20285075874901212,0.09869578729936945,0.5088080011801364,0.12214861519584469,0.3049323165290518,0.4259800704063383,0.276757357264411,0.4724255646773848,0.5124897613618471,-0.17427690594736286,0.5617165910937867,0.8794742196218981,0.4681190169775085,0.43958027847776227,0.404047020127664,0.3975755209717012,0.5162238245317329,-0.176676575353039,0.47797203955331086,0.053795885139795205,-0.015892037368774706,0.08410968697361687,0.36971289144485336,0.2733511124557373],\"type\":\"scatter3d\"},{\"customdata\":[[\"Acts - ACT-\\u03a0\\u03a1\\u0391\\u039e\\u0395\\u0399\\u03a3 \\u0391\\u03a0\\u039f\\u03a3\\u03a4\\u039f\\u039b\\u03a9\\u039d\",\"\\\"Luke\\\" (Anonymous)\",\"Nye Testamente\"],[\"Gospel of John - JHN-\\u039a\\u0391\\u03a4\\u0391 \\u0399\\u03a9\\u0391\\u039d\\u039d\\u0397\\u039d\",\"\\\"John\\\" (Anonymous)\",\"Nye Testamente\"],[\"The Gospel of Mark - MRK-\\u039a\\u0391\\u03a4\\u0391 \\u039c\\u0391\\u03a1\\u039a\\u039f\\u039d\",\"\\\"Mark\\\" (Anonymous)\",\"Nye Testamente\"]],\"hovertemplate\":\"x=%{x}<br>y=%{y}<br>z=%{z}<br>v\\u00e6rk=%{customdata[0]}<br>forfatter=%{customdata[1]}<extra></extra>\",\"legendgroup\":\"Nye Testamente\",\"marker\":{\"color\":\"#FFA15A\",\"symbol\":\"circle\"},\"mode\":\"markers\",\"name\":\"Nye Testamente\",\"scene\":\"scene\",\"showlegend\":true,\"x\":[-2.8512606575322224,-8.098900189658123,-6.075324444804133],\"y\":[0.3549947945842507,0.24407877042500425,0.11817183669196184],\"z\":[0.05333193318673655,0.5662781133058131,0.16452162601791612],\"type\":\"scatter3d\"}],                        {\"template\":{\"data\":{\"histogram2dcontour\":[{\"type\":\"histogram2dcontour\",\"colorbar\":{\"outlinewidth\":0,\"ticks\":\"\"},\"colorscale\":[[0.0,\"#0d0887\"],[0.1111111111111111,\"#46039f\"],[0.2222222222222222,\"#7201a8\"],[0.3333333333333333,\"#9c179e\"],[0.4444444444444444,\"#bd3786\"],[0.5555555555555556,\"#d8576b\"],[0.6666666666666666,\"#ed7953\"],[0.7777777777777778,\"#fb9f3a\"],[0.8888888888888888,\"#fdca26\"],[1.0,\"#f0f921\"]]}],\"choropleth\":[{\"type\":\"choropleth\",\"colorbar\":{\"outlinewidth\":0,\"ticks\":\"\"}}],\"histogram2d\":[{\"type\":\"histogram2d\",\"colorbar\":{\"outlinewidth\":0,\"ticks\":\"\"},\"colorscale\":[[0.0,\"#0d0887\"],[0.1111111111111111,\"#46039f\"],[0.2222222222222222,\"#7201a8\"],[0.3333333333333333,\"#9c179e\"],[0.4444444444444444,\"#bd3786\"],[0.5555555555555556,\"#d8576b\"],[0.6666666666666666,\"#ed7953\"],[0.7777777777777778,\"#fb9f3a\"],[0.8888888888888888,\"#fdca26\"],[1.0,\"#f0f921\"]]}],\"heatmap\":[{\"type\":\"heatmap\",\"colorbar\":{\"outlinewidth\":0,\"ticks\":\"\"},\"colorscale\":[[0.0,\"#0d0887\"],[0.1111111111111111,\"#46039f\"],[0.2222222222222222,\"#7201a8\"],[0.3333333333333333,\"#9c179e\"],[0.4444444444444444,\"#bd3786\"],[0.5555555555555556,\"#d8576b\"],[0.6666666666666666,\"#ed7953\"],[0.7777777777777778,\"#fb9f3a\"],[0.8888888888888888,\"#fdca26\"],[1.0,\"#f0f921\"]]}],\"heatmapgl\":[{\"type\":\"heatmapgl\",\"colorbar\":{\"outlinewidth\":0,\"ticks\":\"\"},\"colorscale\":[[0.0,\"#0d0887\"],[0.1111111111111111,\"#46039f\"],[0.2222222222222222,\"#7201a8\"],[0.3333333333333333,\"#9c179e\"],[0.4444444444444444,\"#bd3786\"],[0.5555555555555556,\"#d8576b\"],[0.6666666666666666,\"#ed7953\"],[0.7777777777777778,\"#fb9f3a\"],[0.8888888888888888,\"#fdca26\"],[1.0,\"#f0f921\"]]}],\"contourcarpet\":[{\"type\":\"contourcarpet\",\"colorbar\":{\"outlinewidth\":0,\"ticks\":\"\"}}],\"contour\":[{\"type\":\"contour\",\"colorbar\":{\"outlinewidth\":0,\"ticks\":\"\"},\"colorscale\":[[0.0,\"#0d0887\"],[0.1111111111111111,\"#46039f\"],[0.2222222222222222,\"#7201a8\"],[0.3333333333333333,\"#9c179e\"],[0.4444444444444444,\"#bd3786\"],[0.5555555555555556,\"#d8576b\"],[0.6666666666666666,\"#ed7953\"],[0.7777777777777778,\"#fb9f3a\"],[0.8888888888888888,\"#fdca26\"],[1.0,\"#f0f921\"]]}],\"surface\":[{\"type\":\"surface\",\"colorbar\":{\"outlinewidth\":0,\"ticks\":\"\"},\"colorscale\":[[0.0,\"#0d0887\"],[0.1111111111111111,\"#46039f\"],[0.2222222222222222,\"#7201a8\"],[0.3333333333333333,\"#9c179e\"],[0.4444444444444444,\"#bd3786\"],[0.5555555555555556,\"#d8576b\"],[0.6666666666666666,\"#ed7953\"],[0.7777777777777778,\"#fb9f3a\"],[0.8888888888888888,\"#fdca26\"],[1.0,\"#f0f921\"]]}],\"mesh3d\":[{\"type\":\"mesh3d\",\"colorbar\":{\"outlinewidth\":0,\"ticks\":\"\"}}],\"scatter\":[{\"fillpattern\":{\"fillmode\":\"overlay\",\"size\":10,\"solidity\":0.2},\"type\":\"scatter\"}],\"parcoords\":[{\"type\":\"parcoords\",\"line\":{\"colorbar\":{\"outlinewidth\":0,\"ticks\":\"\"}}}],\"scatterpolargl\":[{\"type\":\"scatterpolargl\",\"marker\":{\"colorbar\":{\"outlinewidth\":0,\"ticks\":\"\"}}}],\"bar\":[{\"error_x\":{\"color\":\"#2a3f5f\"},\"error_y\":{\"color\":\"#2a3f5f\"},\"marker\":{\"line\":{\"color\":\"#E5ECF6\",\"width\":0.5},\"pattern\":{\"fillmode\":\"overlay\",\"size\":10,\"solidity\":0.2}},\"type\":\"bar\"}],\"scattergeo\":[{\"type\":\"scattergeo\",\"marker\":{\"colorbar\":{\"outlinewidth\":0,\"ticks\":\"\"}}}],\"scatterpolar\":[{\"type\":\"scatterpolar\",\"marker\":{\"colorbar\":{\"outlinewidth\":0,\"ticks\":\"\"}}}],\"histogram\":[{\"marker\":{\"pattern\":{\"fillmode\":\"overlay\",\"size\":10,\"solidity\":0.2}},\"type\":\"histogram\"}],\"scattergl\":[{\"type\":\"scattergl\",\"marker\":{\"colorbar\":{\"outlinewidth\":0,\"ticks\":\"\"}}}],\"scatter3d\":[{\"type\":\"scatter3d\",\"line\":{\"colorbar\":{\"outlinewidth\":0,\"ticks\":\"\"}},\"marker\":{\"colorbar\":{\"outlinewidth\":0,\"ticks\":\"\"}}}],\"scattermapbox\":[{\"type\":\"scattermapbox\",\"marker\":{\"colorbar\":{\"outlinewidth\":0,\"ticks\":\"\"}}}],\"scatterternary\":[{\"type\":\"scatterternary\",\"marker\":{\"colorbar\":{\"outlinewidth\":0,\"ticks\":\"\"}}}],\"scattercarpet\":[{\"type\":\"scattercarpet\",\"marker\":{\"colorbar\":{\"outlinewidth\":0,\"ticks\":\"\"}}}],\"carpet\":[{\"aaxis\":{\"endlinecolor\":\"#2a3f5f\",\"gridcolor\":\"white\",\"linecolor\":\"white\",\"minorgridcolor\":\"white\",\"startlinecolor\":\"#2a3f5f\"},\"baxis\":{\"endlinecolor\":\"#2a3f5f\",\"gridcolor\":\"white\",\"linecolor\":\"white\",\"minorgridcolor\":\"white\",\"startlinecolor\":\"#2a3f5f\"},\"type\":\"carpet\"}],\"table\":[{\"cells\":{\"fill\":{\"color\":\"#EBF0F8\"},\"line\":{\"color\":\"white\"}},\"header\":{\"fill\":{\"color\":\"#C8D4E3\"},\"line\":{\"color\":\"white\"}},\"type\":\"table\"}],\"barpolar\":[{\"marker\":{\"line\":{\"color\":\"#E5ECF6\",\"width\":0.5},\"pattern\":{\"fillmode\":\"overlay\",\"size\":10,\"solidity\":0.2}},\"type\":\"barpolar\"}],\"pie\":[{\"automargin\":true,\"type\":\"pie\"}]},\"layout\":{\"autotypenumbers\":\"strict\",\"colorway\":[\"#636efa\",\"#EF553B\",\"#00cc96\",\"#ab63fa\",\"#FFA15A\",\"#19d3f3\",\"#FF6692\",\"#B6E880\",\"#FF97FF\",\"#FECB52\"],\"font\":{\"color\":\"#2a3f5f\"},\"hovermode\":\"closest\",\"hoverlabel\":{\"align\":\"left\"},\"paper_bgcolor\":\"white\",\"plot_bgcolor\":\"#E5ECF6\",\"polar\":{\"bgcolor\":\"#E5ECF6\",\"angularaxis\":{\"gridcolor\":\"white\",\"linecolor\":\"white\",\"ticks\":\"\"},\"radialaxis\":{\"gridcolor\":\"white\",\"linecolor\":\"white\",\"ticks\":\"\"}},\"ternary\":{\"bgcolor\":\"#E5ECF6\",\"aaxis\":{\"gridcolor\":\"white\",\"linecolor\":\"white\",\"ticks\":\"\"},\"baxis\":{\"gridcolor\":\"white\",\"linecolor\":\"white\",\"ticks\":\"\"},\"caxis\":{\"gridcolor\":\"white\",\"linecolor\":\"white\",\"ticks\":\"\"}},\"coloraxis\":{\"colorbar\":{\"outlinewidth\":0,\"ticks\":\"\"}},\"colorscale\":{\"sequential\":[[0.0,\"#0d0887\"],[0.1111111111111111,\"#46039f\"],[0.2222222222222222,\"#7201a8\"],[0.3333333333333333,\"#9c179e\"],[0.4444444444444444,\"#bd3786\"],[0.5555555555555556,\"#d8576b\"],[0.6666666666666666,\"#ed7953\"],[0.7777777777777778,\"#fb9f3a\"],[0.8888888888888888,\"#fdca26\"],[1.0,\"#f0f921\"]],\"sequentialminus\":[[0.0,\"#0d0887\"],[0.1111111111111111,\"#46039f\"],[0.2222222222222222,\"#7201a8\"],[0.3333333333333333,\"#9c179e\"],[0.4444444444444444,\"#bd3786\"],[0.5555555555555556,\"#d8576b\"],[0.6666666666666666,\"#ed7953\"],[0.7777777777777778,\"#fb9f3a\"],[0.8888888888888888,\"#fdca26\"],[1.0,\"#f0f921\"]],\"diverging\":[[0,\"#8e0152\"],[0.1,\"#c51b7d\"],[0.2,\"#de77ae\"],[0.3,\"#f1b6da\"],[0.4,\"#fde0ef\"],[0.5,\"#f7f7f7\"],[0.6,\"#e6f5d0\"],[0.7,\"#b8e186\"],[0.8,\"#7fbc41\"],[0.9,\"#4d9221\"],[1,\"#276419\"]]},\"xaxis\":{\"gridcolor\":\"white\",\"linecolor\":\"white\",\"ticks\":\"\",\"title\":{\"standoff\":15},\"zerolinecolor\":\"white\",\"automargin\":true,\"zerolinewidth\":2},\"yaxis\":{\"gridcolor\":\"white\",\"linecolor\":\"white\",\"ticks\":\"\",\"title\":{\"standoff\":15},\"zerolinecolor\":\"white\",\"automargin\":true,\"zerolinewidth\":2},\"scene\":{\"xaxis\":{\"backgroundcolor\":\"#E5ECF6\",\"gridcolor\":\"white\",\"linecolor\":\"white\",\"showbackground\":true,\"ticks\":\"\",\"zerolinecolor\":\"white\",\"gridwidth\":2},\"yaxis\":{\"backgroundcolor\":\"#E5ECF6\",\"gridcolor\":\"white\",\"linecolor\":\"white\",\"showbackground\":true,\"ticks\":\"\",\"zerolinecolor\":\"white\",\"gridwidth\":2},\"zaxis\":{\"backgroundcolor\":\"#E5ECF6\",\"gridcolor\":\"white\",\"linecolor\":\"white\",\"showbackground\":true,\"ticks\":\"\",\"zerolinecolor\":\"white\",\"gridwidth\":2}},\"shapedefaults\":{\"line\":{\"color\":\"#2a3f5f\"}},\"annotationdefaults\":{\"arrowcolor\":\"#2a3f5f\",\"arrowhead\":0,\"arrowwidth\":1},\"geo\":{\"bgcolor\":\"white\",\"landcolor\":\"#E5ECF6\",\"subunitcolor\":\"white\",\"showland\":true,\"showlakes\":true,\"lakecolor\":\"white\"},\"title\":{\"x\":0.05},\"mapbox\":{\"style\":\"light\"}}},\"scene\":{\"domain\":{\"x\":[0.0,1.0],\"y\":[0.0,1.0]},\"xaxis\":{\"title\":{\"text\":\"x\"}},\"yaxis\":{\"title\":{\"text\":\"y\"}},\"zaxis\":{\"title\":{\"text\":\"z\"}}},\"legend\":{\"title\":{\"text\":\"category\"},\"tracegroupgap\":0},\"margin\":{\"t\":60},\"height\":800},                        {\"responsive\": true}                    ).then(function(){\n",
       "                            \n",
       "var gd = document.getElementById('0dcdf7ad-6de2-4294-8244-d83877e253c3');\n",
       "var x = new MutationObserver(function (mutations, observer) {{\n",
       "        var display = window.getComputedStyle(gd).display;\n",
       "        if (!display || display === 'none') {{\n",
       "            console.log([gd, 'removed!']);\n",
       "            Plotly.purge(gd);\n",
       "            observer.disconnect();\n",
       "        }}\n",
       "}});\n",
       "\n",
       "// Listen for the removal of the full notebook cells\n",
       "var notebookContainer = gd.closest('#notebook-container');\n",
       "if (notebookContainer) {{\n",
       "    x.observe(notebookContainer, {childList: true});\n",
       "}}\n",
       "\n",
       "// Listen for the clearing of the current output cell\n",
       "var outputEl = gd.closest('.output');\n",
       "if (outputEl) {{\n",
       "    x.observe(outputEl, {childList: true});\n",
       "}}\n",
       "\n",
       "                        })                };                });            </script>        </div>"
      ]
     },
     "metadata": {},
     "output_type": "display_data"
    }
   ],
   "source": [
    "em.display_3d(\n",
    "    disp_data,\n",
    "    \"stylistic\",\n",
    "    color=\"category\",\n",
    "    hover_data={\n",
    "        \"værk\": True,\n",
    "        \"forfatter\": True,\n",
    "        \"category\": False\n",
    "    }\n",
    ").update_layout(height = 800)"
   ]
  },
  {
   "cell_type": "code",
   "execution_count": null,
   "id": "afd9d89d-b035-44bb-b137-4c65887be832",
   "metadata": {},
   "outputs": [],
   "source": []
  }
 ],
 "metadata": {
  "kernelspec": {
   "display_name": "Python 3 ",
   "language": "python",
   "name": "python3"
  },
  "language_info": {
   "codemirror_mode": {
    "name": "ipython",
    "version": 3
   },
   "file_extension": ".py",
   "mimetype": "text/x-python",
   "name": "python",
   "nbconvert_exporter": "python",
   "pygments_lexer": "ipython3",
   "version": "3.9.10"
  }
 },
 "nbformat": 4,
 "nbformat_minor": 5
}
